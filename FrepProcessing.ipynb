{
  "nbformat": 4,
  "nbformat_minor": 0,
  "metadata": {
    "colab": {
      "provenance": [],
      "authorship_tag": "ABX9TyNab9akZ3Y/FQuvgbS3CqHA",
      "include_colab_link": true
    },
    "kernelspec": {
      "name": "python3",
      "display_name": "Python 3"
    },
    "language_info": {
      "name": "python"
    }
  },
  "cells": [
    {
      "cell_type": "markdown",
      "metadata": {
        "id": "view-in-github",
        "colab_type": "text"
      },
      "source": [
        "<a href=\"https://colab.research.google.com/github/lakshhk4/SquadShifter/blob/main/FrepProcessing.ipynb\" target=\"_parent\"><img src=\"https://colab.research.google.com/assets/colab-badge.svg\" alt=\"Open In Colab\"/></a>"
      ]
    },
    {
      "cell_type": "code",
      "execution_count": null,
      "metadata": {
        "id": "USUe7ZsORBWQ"
      },
      "outputs": [],
      "source": [
        "import pandas as pd\n",
        "import numpy as np"
      ]
    },
    {
      "cell_type": "code",
      "source": [
        "path = '/content/transferredPlayersData.csv'\n",
        "df = pd.read_csv(path)\n",
        "print(df.shape)\n",
        "df.head()"
      ],
      "metadata": {
        "colab": {
          "base_uri": "https://localhost:8080/",
          "height": 439
        },
        "id": "j8J8V_68RXao",
        "outputId": "cc8c23bd-3c7e-4d6e-c3e5-79ee24c32fa9"
      },
      "execution_count": null,
      "outputs": [
        {
          "output_type": "stream",
          "name": "stdout",
          "text": [
            "(1997, 2213)\n"
          ]
        },
        {
          "output_type": "execute_result",
          "data": {
            "text/plain": [
              "   Unnamed: 0          Player Nation_x  Pos_x      Squad_x  \\\n",
              "0           0    Aaron Lennon  eng ENG  FW,MF      Everton   \n",
              "1           1  AarÃ³n MartÃ­n   es ESP     DF     Espanyol   \n",
              "2           2    Abdou Diallo   sn SEN     DF     Mainz 05   \n",
              "3           3   Achraf Hakimi   ma MAR     DF  Real Madrid   \n",
              "4           4     Adam Masina   ma MAR     DF      Bologna   \n",
              "\n",
              "               Comp_x  Age_x  Born_x  MP_x  Starts_x  ...  PKwon_NewO_DEF  \\\n",
              "0  eng Premier League     30  1987.0    15         9  ...        0.077844   \n",
              "1          es La Liga     20  1997.0    32        31  ...        0.078947   \n",
              "2       de Bundesliga     21  1996.0    27        27  ...        0.084967   \n",
              "3          es La Liga     18  1998.0     9         8  ...        0.084967   \n",
              "4          it Serie A     23  1994.0    34        33  ...        0.078788   \n",
              "\n",
              "   PKcon_NewO_DEF  OG_NewO_DEF  Recov_NewO_DEF  Won_NewO_DEF  Lost_NewO_DEF  \\\n",
              "0        0.377246     0.149701      175.215569     38.437126      25.131737   \n",
              "1        0.342105     0.078947      169.394737     22.611842      15.111842   \n",
              "2        0.339869     0.078431      168.928105     22.516340      15.156863   \n",
              "3        0.339869     0.078431      168.928105     22.516340      15.156863   \n",
              "4        0.375758     0.157576      178.551515     39.557576      25.569697   \n",
              "\n",
              "   Won%_NewO_DEF  Matches_NewT_MID  Matches_NewT_DEF  Matches_NewT_FWD  \n",
              "0      57.717500               NaN               NaN               NaN  \n",
              "1      56.640559               NaN               NaN               NaN  \n",
              "2      56.638889               NaN               NaN               NaN  \n",
              "3      56.638889               NaN               NaN               NaN  \n",
              "4      58.145912               NaN               NaN               NaN  \n",
              "\n",
              "[5 rows x 2213 columns]"
            ],
            "text/html": [
              "\n",
              "\n",
              "  <div id=\"df-e1ec7f47-c14a-47b8-9cac-6ae36fd8bfeb\">\n",
              "    <div class=\"colab-df-container\">\n",
              "      <div>\n",
              "<style scoped>\n",
              "    .dataframe tbody tr th:only-of-type {\n",
              "        vertical-align: middle;\n",
              "    }\n",
              "\n",
              "    .dataframe tbody tr th {\n",
              "        vertical-align: top;\n",
              "    }\n",
              "\n",
              "    .dataframe thead th {\n",
              "        text-align: right;\n",
              "    }\n",
              "</style>\n",
              "<table border=\"1\" class=\"dataframe\">\n",
              "  <thead>\n",
              "    <tr style=\"text-align: right;\">\n",
              "      <th></th>\n",
              "      <th>Unnamed: 0</th>\n",
              "      <th>Player</th>\n",
              "      <th>Nation_x</th>\n",
              "      <th>Pos_x</th>\n",
              "      <th>Squad_x</th>\n",
              "      <th>Comp_x</th>\n",
              "      <th>Age_x</th>\n",
              "      <th>Born_x</th>\n",
              "      <th>MP_x</th>\n",
              "      <th>Starts_x</th>\n",
              "      <th>...</th>\n",
              "      <th>PKwon_NewO_DEF</th>\n",
              "      <th>PKcon_NewO_DEF</th>\n",
              "      <th>OG_NewO_DEF</th>\n",
              "      <th>Recov_NewO_DEF</th>\n",
              "      <th>Won_NewO_DEF</th>\n",
              "      <th>Lost_NewO_DEF</th>\n",
              "      <th>Won%_NewO_DEF</th>\n",
              "      <th>Matches_NewT_MID</th>\n",
              "      <th>Matches_NewT_DEF</th>\n",
              "      <th>Matches_NewT_FWD</th>\n",
              "    </tr>\n",
              "  </thead>\n",
              "  <tbody>\n",
              "    <tr>\n",
              "      <th>0</th>\n",
              "      <td>0</td>\n",
              "      <td>Aaron Lennon</td>\n",
              "      <td>eng ENG</td>\n",
              "      <td>FW,MF</td>\n",
              "      <td>Everton</td>\n",
              "      <td>eng Premier League</td>\n",
              "      <td>30</td>\n",
              "      <td>1987.0</td>\n",
              "      <td>15</td>\n",
              "      <td>9</td>\n",
              "      <td>...</td>\n",
              "      <td>0.077844</td>\n",
              "      <td>0.377246</td>\n",
              "      <td>0.149701</td>\n",
              "      <td>175.215569</td>\n",
              "      <td>38.437126</td>\n",
              "      <td>25.131737</td>\n",
              "      <td>57.717500</td>\n",
              "      <td>NaN</td>\n",
              "      <td>NaN</td>\n",
              "      <td>NaN</td>\n",
              "    </tr>\n",
              "    <tr>\n",
              "      <th>1</th>\n",
              "      <td>1</td>\n",
              "      <td>AarÃ³n MartÃ­n</td>\n",
              "      <td>es ESP</td>\n",
              "      <td>DF</td>\n",
              "      <td>Espanyol</td>\n",
              "      <td>es La Liga</td>\n",
              "      <td>20</td>\n",
              "      <td>1997.0</td>\n",
              "      <td>32</td>\n",
              "      <td>31</td>\n",
              "      <td>...</td>\n",
              "      <td>0.078947</td>\n",
              "      <td>0.342105</td>\n",
              "      <td>0.078947</td>\n",
              "      <td>169.394737</td>\n",
              "      <td>22.611842</td>\n",
              "      <td>15.111842</td>\n",
              "      <td>56.640559</td>\n",
              "      <td>NaN</td>\n",
              "      <td>NaN</td>\n",
              "      <td>NaN</td>\n",
              "    </tr>\n",
              "    <tr>\n",
              "      <th>2</th>\n",
              "      <td>2</td>\n",
              "      <td>Abdou Diallo</td>\n",
              "      <td>sn SEN</td>\n",
              "      <td>DF</td>\n",
              "      <td>Mainz 05</td>\n",
              "      <td>de Bundesliga</td>\n",
              "      <td>21</td>\n",
              "      <td>1996.0</td>\n",
              "      <td>27</td>\n",
              "      <td>27</td>\n",
              "      <td>...</td>\n",
              "      <td>0.084967</td>\n",
              "      <td>0.339869</td>\n",
              "      <td>0.078431</td>\n",
              "      <td>168.928105</td>\n",
              "      <td>22.516340</td>\n",
              "      <td>15.156863</td>\n",
              "      <td>56.638889</td>\n",
              "      <td>NaN</td>\n",
              "      <td>NaN</td>\n",
              "      <td>NaN</td>\n",
              "    </tr>\n",
              "    <tr>\n",
              "      <th>3</th>\n",
              "      <td>3</td>\n",
              "      <td>Achraf Hakimi</td>\n",
              "      <td>ma MAR</td>\n",
              "      <td>DF</td>\n",
              "      <td>Real Madrid</td>\n",
              "      <td>es La Liga</td>\n",
              "      <td>18</td>\n",
              "      <td>1998.0</td>\n",
              "      <td>9</td>\n",
              "      <td>8</td>\n",
              "      <td>...</td>\n",
              "      <td>0.084967</td>\n",
              "      <td>0.339869</td>\n",
              "      <td>0.078431</td>\n",
              "      <td>168.928105</td>\n",
              "      <td>22.516340</td>\n",
              "      <td>15.156863</td>\n",
              "      <td>56.638889</td>\n",
              "      <td>NaN</td>\n",
              "      <td>NaN</td>\n",
              "      <td>NaN</td>\n",
              "    </tr>\n",
              "    <tr>\n",
              "      <th>4</th>\n",
              "      <td>4</td>\n",
              "      <td>Adam Masina</td>\n",
              "      <td>ma MAR</td>\n",
              "      <td>DF</td>\n",
              "      <td>Bologna</td>\n",
              "      <td>it Serie A</td>\n",
              "      <td>23</td>\n",
              "      <td>1994.0</td>\n",
              "      <td>34</td>\n",
              "      <td>33</td>\n",
              "      <td>...</td>\n",
              "      <td>0.078788</td>\n",
              "      <td>0.375758</td>\n",
              "      <td>0.157576</td>\n",
              "      <td>178.551515</td>\n",
              "      <td>39.557576</td>\n",
              "      <td>25.569697</td>\n",
              "      <td>58.145912</td>\n",
              "      <td>NaN</td>\n",
              "      <td>NaN</td>\n",
              "      <td>NaN</td>\n",
              "    </tr>\n",
              "  </tbody>\n",
              "</table>\n",
              "<p>5 rows × 2213 columns</p>\n",
              "</div>\n",
              "      <button class=\"colab-df-convert\" onclick=\"convertToInteractive('df-e1ec7f47-c14a-47b8-9cac-6ae36fd8bfeb')\"\n",
              "              title=\"Convert this dataframe to an interactive table.\"\n",
              "              style=\"display:none;\">\n",
              "\n",
              "  <svg xmlns=\"http://www.w3.org/2000/svg\" height=\"24px\"viewBox=\"0 0 24 24\"\n",
              "       width=\"24px\">\n",
              "    <path d=\"M0 0h24v24H0V0z\" fill=\"none\"/>\n",
              "    <path d=\"M18.56 5.44l.94 2.06.94-2.06 2.06-.94-2.06-.94-.94-2.06-.94 2.06-2.06.94zm-11 1L8.5 8.5l.94-2.06 2.06-.94-2.06-.94L8.5 2.5l-.94 2.06-2.06.94zm10 10l.94 2.06.94-2.06 2.06-.94-2.06-.94-.94-2.06-.94 2.06-2.06.94z\"/><path d=\"M17.41 7.96l-1.37-1.37c-.4-.4-.92-.59-1.43-.59-.52 0-1.04.2-1.43.59L10.3 9.45l-7.72 7.72c-.78.78-.78 2.05 0 2.83L4 21.41c.39.39.9.59 1.41.59.51 0 1.02-.2 1.41-.59l7.78-7.78 2.81-2.81c.8-.78.8-2.07 0-2.86zM5.41 20L4 18.59l7.72-7.72 1.47 1.35L5.41 20z\"/>\n",
              "  </svg>\n",
              "      </button>\n",
              "\n",
              "\n",
              "\n",
              "    <div id=\"df-0e69d3e4-691d-4259-a04c-e539612b24cb\">\n",
              "      <button class=\"colab-df-quickchart\" onclick=\"quickchart('df-0e69d3e4-691d-4259-a04c-e539612b24cb')\"\n",
              "              title=\"Suggest charts.\"\n",
              "              style=\"display:none;\">\n",
              "\n",
              "<svg xmlns=\"http://www.w3.org/2000/svg\" height=\"24px\"viewBox=\"0 0 24 24\"\n",
              "     width=\"24px\">\n",
              "    <g>\n",
              "        <path d=\"M19 3H5c-1.1 0-2 .9-2 2v14c0 1.1.9 2 2 2h14c1.1 0 2-.9 2-2V5c0-1.1-.9-2-2-2zM9 17H7v-7h2v7zm4 0h-2V7h2v10zm4 0h-2v-4h2v4z\"/>\n",
              "    </g>\n",
              "</svg>\n",
              "      </button>\n",
              "    </div>\n",
              "\n",
              "<style>\n",
              "  .colab-df-quickchart {\n",
              "    background-color: #E8F0FE;\n",
              "    border: none;\n",
              "    border-radius: 50%;\n",
              "    cursor: pointer;\n",
              "    display: none;\n",
              "    fill: #1967D2;\n",
              "    height: 32px;\n",
              "    padding: 0 0 0 0;\n",
              "    width: 32px;\n",
              "  }\n",
              "\n",
              "  .colab-df-quickchart:hover {\n",
              "    background-color: #E2EBFA;\n",
              "    box-shadow: 0px 1px 2px rgba(60, 64, 67, 0.3), 0px 1px 3px 1px rgba(60, 64, 67, 0.15);\n",
              "    fill: #174EA6;\n",
              "  }\n",
              "\n",
              "  [theme=dark] .colab-df-quickchart {\n",
              "    background-color: #3B4455;\n",
              "    fill: #D2E3FC;\n",
              "  }\n",
              "\n",
              "  [theme=dark] .colab-df-quickchart:hover {\n",
              "    background-color: #434B5C;\n",
              "    box-shadow: 0px 1px 3px 1px rgba(0, 0, 0, 0.15);\n",
              "    filter: drop-shadow(0px 1px 2px rgba(0, 0, 0, 0.3));\n",
              "    fill: #FFFFFF;\n",
              "  }\n",
              "</style>\n",
              "\n",
              "    <script>\n",
              "      async function quickchart(key) {\n",
              "        const containerElement = document.querySelector('#' + key);\n",
              "        const charts = await google.colab.kernel.invokeFunction(\n",
              "            'suggestCharts', [key], {});\n",
              "      }\n",
              "    </script>\n",
              "\n",
              "      <script>\n",
              "\n",
              "function displayQuickchartButton(domScope) {\n",
              "  let quickchartButtonEl =\n",
              "    domScope.querySelector('#df-0e69d3e4-691d-4259-a04c-e539612b24cb button.colab-df-quickchart');\n",
              "  quickchartButtonEl.style.display =\n",
              "    google.colab.kernel.accessAllowed ? 'block' : 'none';\n",
              "}\n",
              "\n",
              "        displayQuickchartButton(document);\n",
              "      </script>\n",
              "      <style>\n",
              "    .colab-df-container {\n",
              "      display:flex;\n",
              "      flex-wrap:wrap;\n",
              "      gap: 12px;\n",
              "    }\n",
              "\n",
              "    .colab-df-convert {\n",
              "      background-color: #E8F0FE;\n",
              "      border: none;\n",
              "      border-radius: 50%;\n",
              "      cursor: pointer;\n",
              "      display: none;\n",
              "      fill: #1967D2;\n",
              "      height: 32px;\n",
              "      padding: 0 0 0 0;\n",
              "      width: 32px;\n",
              "    }\n",
              "\n",
              "    .colab-df-convert:hover {\n",
              "      background-color: #E2EBFA;\n",
              "      box-shadow: 0px 1px 2px rgba(60, 64, 67, 0.3), 0px 1px 3px 1px rgba(60, 64, 67, 0.15);\n",
              "      fill: #174EA6;\n",
              "    }\n",
              "\n",
              "    [theme=dark] .colab-df-convert {\n",
              "      background-color: #3B4455;\n",
              "      fill: #D2E3FC;\n",
              "    }\n",
              "\n",
              "    [theme=dark] .colab-df-convert:hover {\n",
              "      background-color: #434B5C;\n",
              "      box-shadow: 0px 1px 3px 1px rgba(0, 0, 0, 0.15);\n",
              "      filter: drop-shadow(0px 1px 2px rgba(0, 0, 0, 0.3));\n",
              "      fill: #FFFFFF;\n",
              "    }\n",
              "  </style>\n",
              "\n",
              "      <script>\n",
              "        const buttonEl =\n",
              "          document.querySelector('#df-e1ec7f47-c14a-47b8-9cac-6ae36fd8bfeb button.colab-df-convert');\n",
              "        buttonEl.style.display =\n",
              "          google.colab.kernel.accessAllowed ? 'block' : 'none';\n",
              "\n",
              "        async function convertToInteractive(key) {\n",
              "          const element = document.querySelector('#df-e1ec7f47-c14a-47b8-9cac-6ae36fd8bfeb');\n",
              "          const dataTable =\n",
              "            await google.colab.kernel.invokeFunction('convertToInteractive',\n",
              "                                                     [key], {});\n",
              "          if (!dataTable) return;\n",
              "\n",
              "          const docLinkHtml = 'Like what you see? Visit the ' +\n",
              "            '<a target=\"_blank\" href=https://colab.research.google.com/notebooks/data_table.ipynb>data table notebook</a>'\n",
              "            + ' to learn more about interactive tables.';\n",
              "          element.innerHTML = '';\n",
              "          dataTable['output_type'] = 'display_data';\n",
              "          await google.colab.output.renderOutput(dataTable, element);\n",
              "          const docLink = document.createElement('div');\n",
              "          docLink.innerHTML = docLinkHtml;\n",
              "          element.appendChild(docLink);\n",
              "        }\n",
              "      </script>\n",
              "    </div>\n",
              "  </div>\n"
            ]
          },
          "metadata": {},
          "execution_count": 8
        }
      ]
    },
    {
      "cell_type": "code",
      "source": [
        "pd.set_option('display.max_rows', None)\n",
        "new_df = df.corr()['G+A_y']\n",
        "new_df = pd.DataFrame(new_df)\n",
        "print(\"--\")\n",
        "print(new_df.columns.values.tolist())\n",
        "sorted_df_desc = new_df.sort_values(by='G+A_y', ascending=False)\n",
        "print(sorted_df_desc)\n"
      ],
      "metadata": {
        "id": "GDR7rnEQRcLU"
      },
      "execution_count": null,
      "outputs": []
    },
    {
      "cell_type": "code",
      "source": [
        "print(df.columns.values.tolist())"
      ],
      "metadata": {
        "colab": {
          "base_uri": "https://localhost:8080/"
        },
        "id": "VyDyxmlNueko",
        "outputId": "a0d7d04e-452c-4455-e62c-9fe8a9afecc6"
      },
      "execution_count": null,
      "outputs": [
        {
          "output_type": "stream",
          "name": "stdout",
          "text": [
            "['Unnamed: 0', 'Player', 'Nation_x', 'Pos_x', 'Squad_x', 'Comp_x', 'Age_x', 'Born_x', 'MP_x', 'Starts_x', 'Min_x', '90s_x', 'Gls_x', 'Ast_x', 'G-PK_x', 'PK_x', 'PKatt_x', 'CrdY_x', 'CrdR_x', 'Gls.1_x', 'Ast.1_x', 'G+A_x', 'G-PK.1_x', 'G+A-PK_x', 'xG_x', 'npxG_x', 'xA_x', 'npxG+xA_x', 'xG.1_x', 'xA.1_x', 'xG+xA_x', 'npxG.1_x', 'npxG+xA.1_x', 'Matches_x', 'Sh_x', 'SoT_x', 'SoT%_x', 'Sh/90_x', 'SoT/90_x', 'G/Sh_x', 'G/SoT_x', 'Dist_x', 'FK_x', 'npxG/Sh_x', 'G-xG_x', 'np:G-xG_x', 'Cmp_x', 'Att_x', 'Cmp%_x', 'TotDist_x', 'PrgDist_x', 'Cmp.1_x', 'Att.1_x', 'Cmp%.1_x', 'Cmp.2_x', 'Att.2_x', 'Cmp%.2_x', 'Cmp.3_x', 'Att.3_x', 'Cmp%.3_x', 'A-xA_x', 'KP_x', '1/3_x', 'PPA_x', 'CrsPA_x', 'Prog_x', 'Live_x', 'Dead_x', 'TB_x', 'Press_x', 'Sw_x', 'Crs_x', 'CK_x', 'In_x', 'Out_x', 'Str_x', 'Ground_x', 'Low_x', 'High_x', 'Left_x', 'Right_x', 'Head_x', 'TI_x', 'Other_x', 'Off_x', 'Out.1_x', 'Int_x', 'Blocks_x', 'SCA_x', 'SCA90_x', 'PassLive_x', 'PassDead_x', 'Drib_x', 'Fld_x', 'Def_x', 'GCA_x', 'GCA90_x', 'PassLive.1_x', 'PassDead.1_x', 'Drib.1_x', 'Sh.1_x', 'Fld.1_x', 'Def.1_x', 'Tkl_x', 'TklW_x', 'Def 3rd_x', 'Mid 3rd_x', 'Att 3rd_x', 'Tkl.1_x', 'Tkl%_x', 'Past_x', 'Succ_x', '%_x', 'Def 3rd.1_x', 'Mid 3rd.1_x', 'Att 3rd.1_x', 'ShSv_x', 'Pass_x', 'Tkl+Int_x', 'Clr_x', 'Err_x', 'Touches_x', 'Def Pen_x', 'Att Pen_x', 'Succ%_x', '#Pl_x', 'Megs_x', 'Carries_x', 'CPA_x', 'Mis_x', 'Dis_x', 'Targ_x', 'Rec_x', 'Rec%_x', 'Prog.1_x', 'Mn/MP_x', 'Min%_x', 'Mn/Start_x', 'Compl_x', 'Subs_x', 'Mn/Sub_x', 'unSub_x', 'PPM_x', 'onG_x', 'onGA_x', '+/-_x', '+/-90_x', 'On-Off_x', 'onxG_x', 'onxGA_x', 'xG+/-_x', 'xG+/-90_x', 'On-Off.1_x', '2CrdY_x', 'Fls_x', 'PKwon_x', 'PKcon_x', 'OG_x', 'Recov_x', 'Won_x', 'Lost_x', 'Won%_x', 'League Name_x', 'League ID_x', 'Season_x', 'Team Name_x', 'Team Country_x', 'Player Lower_x', 'First Name Lower_x', 'Last Name Lower_x', 'First Initial Lower_x', 'Team Country Lower_x', 'Nationality Code_x', 'Nationality Cleaned_x', 'Position Grouped_x', 'Outfielder Goalkeeper_x', 'Nation_y', 'Pos_y', 'Squad_y', 'Comp_y', 'Age_y', 'Born_y', 'MP_y', 'Starts_y', 'Min_y', '90s_y', 'Gls_y', 'Ast_y', 'G-PK_y', 'PK_y', 'PKatt_y', 'CrdY_y', 'CrdR_y', 'Gls.1_y', 'Ast.1_y', 'G+A_y', 'G-PK.1_y', 'G+A-PK_y', 'xG_y', 'npxG_y', 'xA_y', 'npxG+xA_y', 'xG.1_y', 'xA.1_y', 'xG+xA_y', 'npxG.1_y', 'npxG+xA.1_y', 'Matches_y', 'Sh_y', 'SoT_y', 'SoT%_y', 'Sh/90_y', 'SoT/90_y', 'G/Sh_y', 'G/SoT_y', 'Dist_y', 'FK_y', 'npxG/Sh_y', 'G-xG_y', 'np:G-xG_y', 'Cmp_y', 'Att_y', 'Cmp%_y', 'TotDist_y', 'PrgDist_y', 'Cmp.1_y', 'Att.1_y', 'Cmp%.1_y', 'Cmp.2_y', 'Att.2_y', 'Cmp%.2_y', 'Cmp.3_y', 'Att.3_y', 'Cmp%.3_y', 'A-xA_y', 'KP_y', '1/3_y', 'PPA_y', 'CrsPA_y', 'Prog_y', 'Live_y', 'Dead_y', 'TB_y', 'Press_y', 'Sw_y', 'Crs_y', 'CK_y', 'In_y', 'Out_y', 'Str_y', 'Ground_y', 'Low_y', 'High_y', 'Left_y', 'Right_y', 'Head_y', 'TI_y', 'Other_y', 'Off_y', 'Out.1_y', 'Int_y', 'Blocks_y', 'SCA_y', 'SCA90_y', 'PassLive_y', 'PassDead_y', 'Drib_y', 'Fld_y', 'Def_y', 'GCA_y', 'GCA90_y', 'PassLive.1_y', 'PassDead.1_y', 'Drib.1_y', 'Sh.1_y', 'Fld.1_y', 'Def.1_y', 'Tkl_y', 'TklW_y', 'Def 3rd_y', 'Mid 3rd_y', 'Att 3rd_y', 'Tkl.1_y', 'Tkl%_y', 'Past_y', 'Succ_y', '%_y', 'Def 3rd.1_y', 'Mid 3rd.1_y', 'Att 3rd.1_y', 'ShSv_y', 'Pass_y', 'Tkl+Int_y', 'Clr_y', 'Err_y', 'Touches_y', 'Def Pen_y', 'Att Pen_y', 'Succ%_y', '#Pl_y', 'Megs_y', 'Carries_y', 'CPA_y', 'Mis_y', 'Dis_y', 'Targ_y', 'Rec_y', 'Rec%_y', 'Prog.1_y', 'Mn/MP_y', 'Min%_y', 'Mn/Start_y', 'Compl_y', 'Subs_y', 'Mn/Sub_y', 'unSub_y', 'PPM_y', 'onG_y', 'onGA_y', '+/-_y', '+/-90_y', 'On-Off_y', 'onxG_y', 'onxGA_y', 'xG+/-_y', 'xG+/-90_y', 'On-Off.1_y', '2CrdY_y', 'Fls_y', 'PKwon_y', 'PKcon_y', 'OG_y', 'Recov_y', 'Won_y', 'Lost_y', 'Won%_y', 'League Name_y', 'League ID_y', 'Season_y', 'Team Name_y', 'Team Country_y', 'Player Lower_y', 'First Name Lower_y', 'Last Name Lower_y', 'First Initial Lower_y', 'Team Country Lower_y', 'Nationality Code_y', 'Nationality Cleaned_y', 'Position Grouped_y', 'Outfielder Goalkeeper_y', 'Age_OldT_FWD', 'Born_OldT_FWD', 'MP_OldT_FWD', 'Starts_OldT_FWD', 'Min_OldT_FWD', '90s_OldT_FWD', 'Gls_OldT_FWD', 'Ast_OldT_FWD', 'G-PK_OldT_FWD', 'PK_OldT_FWD', 'PKatt_OldT_FWD', 'CrdY_OldT_FWD', 'CrdR_OldT_FWD', 'Gls.1_OldT_FWD', 'Ast.1_OldT_FWD', 'G+A_OldT_FWD', 'G-PK.1_OldT_FWD', 'G+A-PK_OldT_FWD', 'xG_OldT_FWD', 'npxG_OldT_FWD', 'xA_OldT_FWD', 'npxG+xA_OldT_FWD', 'xG.1_OldT_FWD', 'xA.1_OldT_FWD', 'xG+xA_OldT_FWD', 'npxG.1_OldT_FWD', 'npxG+xA.1_OldT_FWD', 'Sh_OldT_FWD', 'SoT_OldT_FWD', 'SoT%_OldT_FWD', 'Sh/90_OldT_FWD', 'SoT/90_OldT_FWD', 'G/Sh_OldT_FWD', 'G/SoT_OldT_FWD', 'Dist_OldT_FWD', 'FK_OldT_FWD', 'npxG/Sh_OldT_FWD', 'G-xG_OldT_FWD', 'np:G-xG_OldT_FWD', 'Cmp_OldT_FWD', 'Att_OldT_FWD', 'Cmp%_OldT_FWD', 'TotDist_OldT_FWD', 'PrgDist_OldT_FWD', 'Cmp.1_OldT_FWD', 'Att.1_OldT_FWD', 'Cmp%.1_OldT_FWD', 'Cmp.2_OldT_FWD', 'Att.2_OldT_FWD', 'Cmp%.2_OldT_FWD', 'Cmp.3_OldT_FWD', 'Att.3_OldT_FWD', 'Cmp%.3_OldT_FWD', 'A-xA_OldT_FWD', 'KP_OldT_FWD', '1/3_OldT_FWD', 'PPA_OldT_FWD', 'CrsPA_OldT_FWD', 'Prog_OldT_FWD', 'Live_OldT_FWD', 'Dead_OldT_FWD', 'TB_OldT_FWD', 'Press_OldT_FWD', 'Sw_OldT_FWD', 'Crs_OldT_FWD', 'CK_OldT_FWD', 'In_OldT_FWD', 'Out_OldT_FWD', 'Str_OldT_FWD', 'Ground_OldT_FWD', 'Low_OldT_FWD', 'High_OldT_FWD', 'Left_OldT_FWD', 'Right_OldT_FWD', 'Head_OldT_FWD', 'TI_OldT_FWD', 'Other_OldT_FWD', 'Off_OldT_FWD', 'Out.1_OldT_FWD', 'Int_OldT_FWD', 'Blocks_OldT_FWD', 'SCA_OldT_FWD', 'SCA90_OldT_FWD', 'PassLive_OldT_FWD', 'PassDead_OldT_FWD', 'Drib_OldT_FWD', 'Fld_OldT_FWD', 'Def_OldT_FWD', 'GCA_OldT_FWD', 'GCA90_OldT_FWD', 'PassLive.1_OldT_FWD', 'PassDead.1_OldT_FWD', 'Drib.1_OldT_FWD', 'Sh.1_OldT_FWD', 'Fld.1_OldT_FWD', 'Def.1_OldT_FWD', 'Tkl_OldT_FWD', 'TklW_OldT_FWD', 'Def 3rd_OldT_FWD', 'Mid 3rd_OldT_FWD', 'Att 3rd_OldT_FWD', 'Tkl.1_OldT_FWD', 'Tkl%_OldT_FWD', 'Past_OldT_FWD', 'Succ_OldT_FWD', '%_OldT_FWD', 'Def 3rd.1_OldT_FWD', 'Mid 3rd.1_OldT_FWD', 'Att 3rd.1_OldT_FWD', 'ShSv_OldT_FWD', 'Pass_OldT_FWD', 'Tkl+Int_OldT_FWD', 'Clr_OldT_FWD', 'Err_OldT_FWD', 'Touches_OldT_FWD', 'Def Pen_OldT_FWD', 'Att Pen_OldT_FWD', 'Succ%_OldT_FWD', '#Pl_OldT_FWD', 'Megs_OldT_FWD', 'Carries_OldT_FWD', 'CPA_OldT_FWD', 'Mis_OldT_FWD', 'Dis_OldT_FWD', 'Targ_OldT_FWD', 'Rec_OldT_FWD', 'Rec%_OldT_FWD', 'Prog.1_OldT_FWD', 'Mn/MP_OldT_FWD', 'Min%_OldT_FWD', 'Mn/Start_OldT_FWD', 'Compl_OldT_FWD', 'Subs_OldT_FWD', 'Mn/Sub_OldT_FWD', 'unSub_OldT_FWD', 'PPM_OldT_FWD', 'onG_OldT_FWD', 'onGA_OldT_FWD', '+/-_OldT_FWD', '+/-90_OldT_FWD', 'On-Off_OldT_FWD', 'onxG_OldT_FWD', 'onxGA_OldT_FWD', 'xG+/-_OldT_FWD', 'xG+/-90_OldT_FWD', 'On-Off.1_OldT_FWD', '2CrdY_OldT_FWD', 'Fls_OldT_FWD', 'PKwon_OldT_FWD', 'PKcon_OldT_FWD', 'OG_OldT_FWD', 'Recov_OldT_FWD', 'Won_OldT_FWD', 'Lost_OldT_FWD', 'Won%_OldT_FWD', 'Age_OldT_MID', 'Born_OldT_MID', 'MP_OldT_MID', 'Starts_OldT_MID', 'Min_OldT_MID', '90s_OldT_MID', 'Gls_OldT_MID', 'Ast_OldT_MID', 'G-PK_OldT_MID', 'PK_OldT_MID', 'PKatt_OldT_MID', 'CrdY_OldT_MID', 'CrdR_OldT_MID', 'Gls.1_OldT_MID', 'Ast.1_OldT_MID', 'G+A_OldT_MID', 'G-PK.1_OldT_MID', 'G+A-PK_OldT_MID', 'xG_OldT_MID', 'npxG_OldT_MID', 'xA_OldT_MID', 'npxG+xA_OldT_MID', 'xG.1_OldT_MID', 'xA.1_OldT_MID', 'xG+xA_OldT_MID', 'npxG.1_OldT_MID', 'npxG+xA.1_OldT_MID', 'Sh_OldT_MID', 'SoT_OldT_MID', 'SoT%_OldT_MID', 'Sh/90_OldT_MID', 'SoT/90_OldT_MID', 'G/Sh_OldT_MID', 'G/SoT_OldT_MID', 'Dist_OldT_MID', 'FK_OldT_MID', 'npxG/Sh_OldT_MID', 'G-xG_OldT_MID', 'np:G-xG_OldT_MID', 'Cmp_OldT_MID', 'Att_OldT_MID', 'Cmp%_OldT_MID', 'TotDist_OldT_MID', 'PrgDist_OldT_MID', 'Cmp.1_OldT_MID', 'Att.1_OldT_MID', 'Cmp%.1_OldT_MID', 'Cmp.2_OldT_MID', 'Att.2_OldT_MID', 'Cmp%.2_OldT_MID', 'Cmp.3_OldT_MID', 'Att.3_OldT_MID', 'Cmp%.3_OldT_MID', 'A-xA_OldT_MID', 'KP_OldT_MID', '1/3_OldT_MID', 'PPA_OldT_MID', 'CrsPA_OldT_MID', 'Prog_OldT_MID', 'Live_OldT_MID', 'Dead_OldT_MID', 'TB_OldT_MID', 'Press_OldT_MID', 'Sw_OldT_MID', 'Crs_OldT_MID', 'CK_OldT_MID', 'In_OldT_MID', 'Out_OldT_MID', 'Str_OldT_MID', 'Ground_OldT_MID', 'Low_OldT_MID', 'High_OldT_MID', 'Left_OldT_MID', 'Right_OldT_MID', 'Head_OldT_MID', 'TI_OldT_MID', 'Other_OldT_MID', 'Off_OldT_MID', 'Out.1_OldT_MID', 'Int_OldT_MID', 'Blocks_OldT_MID', 'SCA_OldT_MID', 'SCA90_OldT_MID', 'PassLive_OldT_MID', 'PassDead_OldT_MID', 'Drib_OldT_MID', 'Fld_OldT_MID', 'Def_OldT_MID', 'GCA_OldT_MID', 'GCA90_OldT_MID', 'PassLive.1_OldT_MID', 'PassDead.1_OldT_MID', 'Drib.1_OldT_MID', 'Sh.1_OldT_MID', 'Fld.1_OldT_MID', 'Def.1_OldT_MID', 'Tkl_OldT_MID', 'TklW_OldT_MID', 'Def 3rd_OldT_MID', 'Mid 3rd_OldT_MID', 'Att 3rd_OldT_MID', 'Tkl.1_OldT_MID', 'Tkl%_OldT_MID', 'Past_OldT_MID', 'Succ_OldT_MID', '%_OldT_MID', 'Def 3rd.1_OldT_MID', 'Mid 3rd.1_OldT_MID', 'Att 3rd.1_OldT_MID', 'ShSv_OldT_MID', 'Pass_OldT_MID', 'Tkl+Int_OldT_MID', 'Clr_OldT_MID', 'Err_OldT_MID', 'Touches_OldT_MID', 'Def Pen_OldT_MID', 'Att Pen_OldT_MID', 'Succ%_OldT_MID', '#Pl_OldT_MID', 'Megs_OldT_MID', 'Carries_OldT_MID', 'CPA_OldT_MID', 'Mis_OldT_MID', 'Dis_OldT_MID', 'Targ_OldT_MID', 'Rec_OldT_MID', 'Rec%_OldT_MID', 'Prog.1_OldT_MID', 'Mn/MP_OldT_MID', 'Min%_OldT_MID', 'Mn/Start_OldT_MID', 'Compl_OldT_MID', 'Subs_OldT_MID', 'Mn/Sub_OldT_MID', 'unSub_OldT_MID', 'PPM_OldT_MID', 'onG_OldT_MID', 'onGA_OldT_MID', '+/-_OldT_MID', '+/-90_OldT_MID', 'On-Off_OldT_MID', 'onxG_OldT_MID', 'onxGA_OldT_MID', 'xG+/-_OldT_MID', 'xG+/-90_OldT_MID', 'On-Off.1_OldT_MID', '2CrdY_OldT_MID', 'Fls_OldT_MID', 'PKwon_OldT_MID', 'PKcon_OldT_MID', 'OG_OldT_MID', 'Recov_OldT_MID', 'Won_OldT_MID', 'Lost_OldT_MID', 'Won%_OldT_MID', 'Age_OldT_DEF', 'Born_OldT_DEF', 'MP_OldT_DEF', 'Starts_OldT_DEF', 'Min_OldT_DEF', '90s_OldT_DEF', 'Gls_OldT_DEF', 'Ast_OldT_DEF', 'G-PK_OldT_DEF', 'PK_OldT_DEF', 'PKatt_OldT_DEF', 'CrdY_OldT_DEF', 'CrdR_OldT_DEF', 'Gls.1_OldT_DEF', 'Ast.1_OldT_DEF', 'G+A_OldT_DEF', 'G-PK.1_OldT_DEF', 'G+A-PK_OldT_DEF', 'xG_OldT_DEF', 'npxG_OldT_DEF', 'xA_OldT_DEF', 'npxG+xA_OldT_DEF', 'xG.1_OldT_DEF', 'xA.1_OldT_DEF', 'xG+xA_OldT_DEF', 'npxG.1_OldT_DEF', 'npxG+xA.1_OldT_DEF', 'Sh_OldT_DEF', 'SoT_OldT_DEF', 'SoT%_OldT_DEF', 'Sh/90_OldT_DEF', 'SoT/90_OldT_DEF', 'G/Sh_OldT_DEF', 'G/SoT_OldT_DEF', 'Dist_OldT_DEF', 'FK_OldT_DEF', 'npxG/Sh_OldT_DEF', 'G-xG_OldT_DEF', 'np:G-xG_OldT_DEF', 'Cmp_OldT_DEF', 'Att_OldT_DEF', 'Cmp%_OldT_DEF', 'TotDist_OldT_DEF', 'PrgDist_OldT_DEF', 'Cmp.1_OldT_DEF', 'Att.1_OldT_DEF', 'Cmp%.1_OldT_DEF', 'Cmp.2_OldT_DEF', 'Att.2_OldT_DEF', 'Cmp%.2_OldT_DEF', 'Cmp.3_OldT_DEF', 'Att.3_OldT_DEF', 'Cmp%.3_OldT_DEF', 'A-xA_OldT_DEF', 'KP_OldT_DEF', '1/3_OldT_DEF', 'PPA_OldT_DEF', 'CrsPA_OldT_DEF', 'Prog_OldT_DEF', 'Live_OldT_DEF', 'Dead_OldT_DEF', 'TB_OldT_DEF', 'Press_OldT_DEF', 'Sw_OldT_DEF', 'Crs_OldT_DEF', 'CK_OldT_DEF', 'In_OldT_DEF', 'Out_OldT_DEF', 'Str_OldT_DEF', 'Ground_OldT_DEF', 'Low_OldT_DEF', 'High_OldT_DEF', 'Left_OldT_DEF', 'Right_OldT_DEF', 'Head_OldT_DEF', 'TI_OldT_DEF', 'Other_OldT_DEF', 'Off_OldT_DEF', 'Out.1_OldT_DEF', 'Int_OldT_DEF', 'Blocks_OldT_DEF', 'SCA_OldT_DEF', 'SCA90_OldT_DEF', 'PassLive_OldT_DEF', 'PassDead_OldT_DEF', 'Drib_OldT_DEF', 'Fld_OldT_DEF', 'Def_OldT_DEF', 'GCA_OldT_DEF', 'GCA90_OldT_DEF', 'PassLive.1_OldT_DEF', 'PassDead.1_OldT_DEF', 'Drib.1_OldT_DEF', 'Sh.1_OldT_DEF', 'Fld.1_OldT_DEF', 'Def.1_OldT_DEF', 'Tkl_OldT_DEF', 'TklW_OldT_DEF', 'Def 3rd_OldT_DEF', 'Mid 3rd_OldT_DEF', 'Att 3rd_OldT_DEF', 'Tkl.1_OldT_DEF', 'Tkl%_OldT_DEF', 'Past_OldT_DEF', 'Succ_OldT_DEF', '%_OldT_DEF', 'Def 3rd.1_OldT_DEF', 'Mid 3rd.1_OldT_DEF', 'Att 3rd.1_OldT_DEF', 'ShSv_OldT_DEF', 'Pass_OldT_DEF', 'Tkl+Int_OldT_DEF', 'Clr_OldT_DEF', 'Err_OldT_DEF', 'Touches_OldT_DEF', 'Def Pen_OldT_DEF', 'Att Pen_OldT_DEF', 'Succ%_OldT_DEF', '#Pl_OldT_DEF', 'Megs_OldT_DEF', 'Carries_OldT_DEF', 'CPA_OldT_DEF', 'Mis_OldT_DEF', 'Dis_OldT_DEF', 'Targ_OldT_DEF', 'Rec_OldT_DEF', 'Rec%_OldT_DEF', 'Prog.1_OldT_DEF', 'Mn/MP_OldT_DEF', 'Min%_OldT_DEF', 'Mn/Start_OldT_DEF', 'Compl_OldT_DEF', 'Subs_OldT_DEF', 'Mn/Sub_OldT_DEF', 'unSub_OldT_DEF', 'PPM_OldT_DEF', 'onG_OldT_DEF', 'onGA_OldT_DEF', '+/-_OldT_DEF', '+/-90_OldT_DEF', 'On-Off_OldT_DEF', 'onxG_OldT_DEF', 'onxGA_OldT_DEF', 'xG+/-_OldT_DEF', 'xG+/-90_OldT_DEF', 'On-Off.1_OldT_DEF', '2CrdY_OldT_DEF', 'Fls_OldT_DEF', 'PKwon_OldT_DEF', 'PKcon_OldT_DEF', 'OG_OldT_DEF', 'Recov_OldT_DEF', 'Won_OldT_DEF', 'Lost_OldT_DEF', 'Won%_OldT_DEF', 'Age_OldO_FWD', 'Born_OldO_FWD', 'MP_OldO_FWD', 'Starts_OldO_FWD', 'Min_OldO_FWD', '90s_OldO_FWD', 'Gls_OldO_FWD', 'Ast_OldO_FWD', 'G-PK_OldO_FWD', 'PK_OldO_FWD', 'PKatt_OldO_FWD', 'CrdY_OldO_FWD', 'CrdR_OldO_FWD', 'Gls.1_OldO_FWD', 'Ast.1_OldO_FWD', 'G+A_OldO_FWD', 'G-PK.1_OldO_FWD', 'G+A-PK_OldO_FWD', 'xG_OldO_FWD', 'npxG_OldO_FWD', 'xA_OldO_FWD', 'npxG+xA_OldO_FWD', 'xG.1_OldO_FWD', 'xA.1_OldO_FWD', 'xG+xA_OldO_FWD', 'npxG.1_OldO_FWD', 'npxG+xA.1_OldO_FWD', 'Sh_OldO_FWD', 'SoT_OldO_FWD', 'SoT%_OldO_FWD', 'Sh/90_OldO_FWD', 'SoT/90_OldO_FWD', 'G/Sh_OldO_FWD', 'G/SoT_OldO_FWD', 'Dist_OldO_FWD', 'FK_OldO_FWD', 'npxG/Sh_OldO_FWD', 'G-xG_OldO_FWD', 'np:G-xG_OldO_FWD', 'Cmp_OldO_FWD', 'Att_OldO_FWD', 'Cmp%_OldO_FWD', 'TotDist_OldO_FWD', 'PrgDist_OldO_FWD', 'Cmp.1_OldO_FWD', 'Att.1_OldO_FWD', 'Cmp%.1_OldO_FWD', 'Cmp.2_OldO_FWD', 'Att.2_OldO_FWD', 'Cmp%.2_OldO_FWD', 'Cmp.3_OldO_FWD', 'Att.3_OldO_FWD', 'Cmp%.3_OldO_FWD', 'A-xA_OldO_FWD', 'KP_OldO_FWD', '1/3_OldO_FWD', 'PPA_OldO_FWD', 'CrsPA_OldO_FWD', 'Prog_OldO_FWD', 'Live_OldO_FWD', 'Dead_OldO_FWD', 'TB_OldO_FWD', 'Press_OldO_FWD', 'Sw_OldO_FWD', 'Crs_OldO_FWD', 'CK_OldO_FWD', 'In_OldO_FWD', 'Out_OldO_FWD', 'Str_OldO_FWD', 'Ground_OldO_FWD', 'Low_OldO_FWD', 'High_OldO_FWD', 'Left_OldO_FWD', 'Right_OldO_FWD', 'Head_OldO_FWD', 'TI_OldO_FWD', 'Other_OldO_FWD', 'Off_OldO_FWD', 'Out.1_OldO_FWD', 'Int_OldO_FWD', 'Blocks_OldO_FWD', 'SCA_OldO_FWD', 'SCA90_OldO_FWD', 'PassLive_OldO_FWD', 'PassDead_OldO_FWD', 'Drib_OldO_FWD', 'Fld_OldO_FWD', 'Def_OldO_FWD', 'GCA_OldO_FWD', 'GCA90_OldO_FWD', 'PassLive.1_OldO_FWD', 'PassDead.1_OldO_FWD', 'Drib.1_OldO_FWD', 'Sh.1_OldO_FWD', 'Fld.1_OldO_FWD', 'Def.1_OldO_FWD', 'Tkl_OldO_FWD', 'TklW_OldO_FWD', 'Def 3rd_OldO_FWD', 'Mid 3rd_OldO_FWD', 'Att 3rd_OldO_FWD', 'Tkl.1_OldO_FWD', 'Tkl%_OldO_FWD', 'Past_OldO_FWD', 'Succ_OldO_FWD', '%_OldO_FWD', 'Def 3rd.1_OldO_FWD', 'Mid 3rd.1_OldO_FWD', 'Att 3rd.1_OldO_FWD', 'ShSv_OldO_FWD', 'Pass_OldO_FWD', 'Tkl+Int_OldO_FWD', 'Clr_OldO_FWD', 'Err_OldO_FWD', 'Touches_OldO_FWD', 'Def Pen_OldO_FWD', 'Att Pen_OldO_FWD', 'Succ%_OldO_FWD', '#Pl_OldO_FWD', 'Megs_OldO_FWD', 'Carries_OldO_FWD', 'CPA_OldO_FWD', 'Mis_OldO_FWD', 'Dis_OldO_FWD', 'Targ_OldO_FWD', 'Rec_OldO_FWD', 'Rec%_OldO_FWD', 'Prog.1_OldO_FWD', 'Mn/MP_OldO_FWD', 'Min%_OldO_FWD', 'Mn/Start_OldO_FWD', 'Compl_OldO_FWD', 'Subs_OldO_FWD', 'Mn/Sub_OldO_FWD', 'unSub_OldO_FWD', 'PPM_OldO_FWD', 'onG_OldO_FWD', 'onGA_OldO_FWD', '+/-_OldO_FWD', '+/-90_OldO_FWD', 'On-Off_OldO_FWD', 'onxG_OldO_FWD', 'onxGA_OldO_FWD', 'xG+/-_OldO_FWD', 'xG+/-90_OldO_FWD', 'On-Off.1_OldO_FWD', '2CrdY_OldO_FWD', 'Fls_OldO_FWD', 'PKwon_OldO_FWD', 'PKcon_OldO_FWD', 'OG_OldO_FWD', 'Recov_OldO_FWD', 'Won_OldO_FWD', 'Lost_OldO_FWD', 'Won%_OldO_FWD', 'Age_OldO_MID', 'Born_OldO_MID', 'MP_OldO_MID', 'Starts_OldO_MID', 'Min_OldO_MID', '90s_OldO_MID', 'Gls_OldO_MID', 'Ast_OldO_MID', 'G-PK_OldO_MID', 'PK_OldO_MID', 'PKatt_OldO_MID', 'CrdY_OldO_MID', 'CrdR_OldO_MID', 'Gls.1_OldO_MID', 'Ast.1_OldO_MID', 'G+A_OldO_MID', 'G-PK.1_OldO_MID', 'G+A-PK_OldO_MID', 'xG_OldO_MID', 'npxG_OldO_MID', 'xA_OldO_MID', 'npxG+xA_OldO_MID', 'xG.1_OldO_MID', 'xA.1_OldO_MID', 'xG+xA_OldO_MID', 'npxG.1_OldO_MID', 'npxG+xA.1_OldO_MID', 'Sh_OldO_MID', 'SoT_OldO_MID', 'SoT%_OldO_MID', 'Sh/90_OldO_MID', 'SoT/90_OldO_MID', 'G/Sh_OldO_MID', 'G/SoT_OldO_MID', 'Dist_OldO_MID', 'FK_OldO_MID', 'npxG/Sh_OldO_MID', 'G-xG_OldO_MID', 'np:G-xG_OldO_MID', 'Cmp_OldO_MID', 'Att_OldO_MID', 'Cmp%_OldO_MID', 'TotDist_OldO_MID', 'PrgDist_OldO_MID', 'Cmp.1_OldO_MID', 'Att.1_OldO_MID', 'Cmp%.1_OldO_MID', 'Cmp.2_OldO_MID', 'Att.2_OldO_MID', 'Cmp%.2_OldO_MID', 'Cmp.3_OldO_MID', 'Att.3_OldO_MID', 'Cmp%.3_OldO_MID', 'A-xA_OldO_MID', 'KP_OldO_MID', '1/3_OldO_MID', 'PPA_OldO_MID', 'CrsPA_OldO_MID', 'Prog_OldO_MID', 'Live_OldO_MID', 'Dead_OldO_MID', 'TB_OldO_MID', 'Press_OldO_MID', 'Sw_OldO_MID', 'Crs_OldO_MID', 'CK_OldO_MID', 'In_OldO_MID', 'Out_OldO_MID', 'Str_OldO_MID', 'Ground_OldO_MID', 'Low_OldO_MID', 'High_OldO_MID', 'Left_OldO_MID', 'Right_OldO_MID', 'Head_OldO_MID', 'TI_OldO_MID', 'Other_OldO_MID', 'Off_OldO_MID', 'Out.1_OldO_MID', 'Int_OldO_MID', 'Blocks_OldO_MID', 'SCA_OldO_MID', 'SCA90_OldO_MID', 'PassLive_OldO_MID', 'PassDead_OldO_MID', 'Drib_OldO_MID', 'Fld_OldO_MID', 'Def_OldO_MID', 'GCA_OldO_MID', 'GCA90_OldO_MID', 'PassLive.1_OldO_MID', 'PassDead.1_OldO_MID', 'Drib.1_OldO_MID', 'Sh.1_OldO_MID', 'Fld.1_OldO_MID', 'Def.1_OldO_MID', 'Tkl_OldO_MID', 'TklW_OldO_MID', 'Def 3rd_OldO_MID', 'Mid 3rd_OldO_MID', 'Att 3rd_OldO_MID', 'Tkl.1_OldO_MID', 'Tkl%_OldO_MID', 'Past_OldO_MID', 'Succ_OldO_MID', '%_OldO_MID', 'Def 3rd.1_OldO_MID', 'Mid 3rd.1_OldO_MID', 'Att 3rd.1_OldO_MID', 'ShSv_OldO_MID', 'Pass_OldO_MID', 'Tkl+Int_OldO_MID', 'Clr_OldO_MID', 'Err_OldO_MID', 'Touches_OldO_MID', 'Def Pen_OldO_MID', 'Att Pen_OldO_MID', 'Succ%_OldO_MID', '#Pl_OldO_MID', 'Megs_OldO_MID', 'Carries_OldO_MID', 'CPA_OldO_MID', 'Mis_OldO_MID', 'Dis_OldO_MID', 'Targ_OldO_MID', 'Rec_OldO_MID', 'Rec%_OldO_MID', 'Prog.1_OldO_MID', 'Mn/MP_OldO_MID', 'Min%_OldO_MID', 'Mn/Start_OldO_MID', 'Compl_OldO_MID', 'Subs_OldO_MID', 'Mn/Sub_OldO_MID', 'unSub_OldO_MID', 'PPM_OldO_MID', 'onG_OldO_MID', 'onGA_OldO_MID', '+/-_OldO_MID', '+/-90_OldO_MID', 'On-Off_OldO_MID', 'onxG_OldO_MID', 'onxGA_OldO_MID', 'xG+/-_OldO_MID', 'xG+/-90_OldO_MID', 'On-Off.1_OldO_MID', '2CrdY_OldO_MID', 'Fls_OldO_MID', 'PKwon_OldO_MID', 'PKcon_OldO_MID', 'OG_OldO_MID', 'Recov_OldO_MID', 'Won_OldO_MID', 'Lost_OldO_MID', 'Won%_OldO_MID', 'Age_OldO_DEF', 'Born_OldO_DEF', 'MP_OldO_DEF', 'Starts_OldO_DEF', 'Min_OldO_DEF', '90s_OldO_DEF', 'Gls_OldO_DEF', 'Ast_OldO_DEF', 'G-PK_OldO_DEF', 'PK_OldO_DEF', 'PKatt_OldO_DEF', 'CrdY_OldO_DEF', 'CrdR_OldO_DEF', 'Gls.1_OldO_DEF', 'Ast.1_OldO_DEF', 'G+A_OldO_DEF', 'G-PK.1_OldO_DEF', 'G+A-PK_OldO_DEF', 'xG_OldO_DEF', 'npxG_OldO_DEF', 'xA_OldO_DEF', 'npxG+xA_OldO_DEF', 'xG.1_OldO_DEF', 'xA.1_OldO_DEF', 'xG+xA_OldO_DEF', 'npxG.1_OldO_DEF', 'npxG+xA.1_OldO_DEF', 'Sh_OldO_DEF', 'SoT_OldO_DEF', 'SoT%_OldO_DEF', 'Sh/90_OldO_DEF', 'SoT/90_OldO_DEF', 'G/Sh_OldO_DEF', 'G/SoT_OldO_DEF', 'Dist_OldO_DEF', 'FK_OldO_DEF', 'npxG/Sh_OldO_DEF', 'G-xG_OldO_DEF', 'np:G-xG_OldO_DEF', 'Cmp_OldO_DEF', 'Att_OldO_DEF', 'Cmp%_OldO_DEF', 'TotDist_OldO_DEF', 'PrgDist_OldO_DEF', 'Cmp.1_OldO_DEF', 'Att.1_OldO_DEF', 'Cmp%.1_OldO_DEF', 'Cmp.2_OldO_DEF', 'Att.2_OldO_DEF', 'Cmp%.2_OldO_DEF', 'Cmp.3_OldO_DEF', 'Att.3_OldO_DEF', 'Cmp%.3_OldO_DEF', 'A-xA_OldO_DEF', 'KP_OldO_DEF', '1/3_OldO_DEF', 'PPA_OldO_DEF', 'CrsPA_OldO_DEF', 'Prog_OldO_DEF', 'Live_OldO_DEF', 'Dead_OldO_DEF', 'TB_OldO_DEF', 'Press_OldO_DEF', 'Sw_OldO_DEF', 'Crs_OldO_DEF', 'CK_OldO_DEF', 'In_OldO_DEF', 'Out_OldO_DEF', 'Str_OldO_DEF', 'Ground_OldO_DEF', 'Low_OldO_DEF', 'High_OldO_DEF', 'Left_OldO_DEF', 'Right_OldO_DEF', 'Head_OldO_DEF', 'TI_OldO_DEF', 'Other_OldO_DEF', 'Off_OldO_DEF', 'Out.1_OldO_DEF', 'Int_OldO_DEF', 'Blocks_OldO_DEF', 'SCA_OldO_DEF', 'SCA90_OldO_DEF', 'PassLive_OldO_DEF', 'PassDead_OldO_DEF', 'Drib_OldO_DEF', 'Fld_OldO_DEF', 'Def_OldO_DEF', 'GCA_OldO_DEF', 'GCA90_OldO_DEF', 'PassLive.1_OldO_DEF', 'PassDead.1_OldO_DEF', 'Drib.1_OldO_DEF', 'Sh.1_OldO_DEF', 'Fld.1_OldO_DEF', 'Def.1_OldO_DEF', 'Tkl_OldO_DEF', 'TklW_OldO_DEF', 'Def 3rd_OldO_DEF', 'Mid 3rd_OldO_DEF', 'Att 3rd_OldO_DEF', 'Tkl.1_OldO_DEF', 'Tkl%_OldO_DEF', 'Past_OldO_DEF', 'Succ_OldO_DEF', '%_OldO_DEF', 'Def 3rd.1_OldO_DEF', 'Mid 3rd.1_OldO_DEF', 'Att 3rd.1_OldO_DEF', 'ShSv_OldO_DEF', 'Pass_OldO_DEF', 'Tkl+Int_OldO_DEF', 'Clr_OldO_DEF', 'Err_OldO_DEF', 'Touches_OldO_DEF', 'Def Pen_OldO_DEF', 'Att Pen_OldO_DEF', 'Succ%_OldO_DEF', '#Pl_OldO_DEF', 'Megs_OldO_DEF', 'Carries_OldO_DEF', 'CPA_OldO_DEF', 'Mis_OldO_DEF', 'Dis_OldO_DEF', 'Targ_OldO_DEF', 'Rec_OldO_DEF', 'Rec%_OldO_DEF', 'Prog.1_OldO_DEF', 'Mn/MP_OldO_DEF', 'Min%_OldO_DEF', 'Mn/Start_OldO_DEF', 'Compl_OldO_DEF', 'Subs_OldO_DEF', 'Mn/Sub_OldO_DEF', 'unSub_OldO_DEF', 'PPM_OldO_DEF', 'onG_OldO_DEF', 'onGA_OldO_DEF', '+/-_OldO_DEF', '+/-90_OldO_DEF', 'On-Off_OldO_DEF', 'onxG_OldO_DEF', 'onxGA_OldO_DEF', 'xG+/-_OldO_DEF', 'xG+/-90_OldO_DEF', 'On-Off.1_OldO_DEF', '2CrdY_OldO_DEF', 'Fls_OldO_DEF', 'PKwon_OldO_DEF', 'PKcon_OldO_DEF', 'OG_OldO_DEF', 'Recov_OldO_DEF', 'Won_OldO_DEF', 'Lost_OldO_DEF', 'Won%_OldO_DEF', 'Age_NewT_FWD', 'Born_NewT_FWD', 'MP_NewT_FWD', 'Starts_NewT_FWD', 'Min_NewT_FWD', '90s_NewT_FWD', 'Gls_NewT_FWD', 'Ast_NewT_FWD', 'G-PK_NewT_FWD', 'PK_NewT_FWD', 'PKatt_NewT_FWD', 'CrdY_NewT_FWD', 'CrdR_NewT_FWD', 'Gls.1_NewT_FWD', 'Ast.1_NewT_FWD', 'G+A_NewT_FWD', 'G-PK.1_NewT_FWD', 'G+A-PK_NewT_FWD', 'xG_NewT_FWD', 'npxG_NewT_FWD', 'xA_NewT_FWD', 'npxG+xA_NewT_FWD', 'xG.1_NewT_FWD', 'xA.1_NewT_FWD', 'xG+xA_NewT_FWD', 'npxG.1_NewT_FWD', 'npxG+xA.1_NewT_FWD', 'Sh_NewT_FWD', 'SoT_NewT_FWD', 'SoT%_NewT_FWD', 'Sh/90_NewT_FWD', 'SoT/90_NewT_FWD', 'G/Sh_NewT_FWD', 'G/SoT_NewT_FWD', 'Dist_NewT_FWD', 'FK_NewT_FWD', 'npxG/Sh_NewT_FWD', 'G-xG_NewT_FWD', 'np:G-xG_NewT_FWD', 'Cmp_NewT_FWD', 'Att_NewT_FWD', 'Cmp%_NewT_FWD', 'TotDist_NewT_FWD', 'PrgDist_NewT_FWD', 'Cmp.1_NewT_FWD', 'Att.1_NewT_FWD', 'Cmp%.1_NewT_FWD', 'Cmp.2_NewT_FWD', 'Att.2_NewT_FWD', 'Cmp%.2_NewT_FWD', 'Cmp.3_NewT_FWD', 'Att.3_NewT_FWD', 'Cmp%.3_NewT_FWD', 'A-xA_NewT_FWD', 'KP_NewT_FWD', '1/3_NewT_FWD', 'PPA_NewT_FWD', 'CrsPA_NewT_FWD', 'Prog_NewT_FWD', 'Live_NewT_FWD', 'Dead_NewT_FWD', 'TB_NewT_FWD', 'Press_NewT_FWD', 'Sw_NewT_FWD', 'Crs_NewT_FWD', 'CK_NewT_FWD', 'In_NewT_FWD', 'Out_NewT_FWD', 'Str_NewT_FWD', 'Ground_NewT_FWD', 'Low_NewT_FWD', 'High_NewT_FWD', 'Left_NewT_FWD', 'Right_NewT_FWD', 'Head_NewT_FWD', 'TI_NewT_FWD', 'Other_NewT_FWD', 'Off_NewT_FWD', 'Out.1_NewT_FWD', 'Int_NewT_FWD', 'Blocks_NewT_FWD', 'SCA_NewT_FWD', 'SCA90_NewT_FWD', 'PassLive_NewT_FWD', 'PassDead_NewT_FWD', 'Drib_NewT_FWD', 'Fld_NewT_FWD', 'Def_NewT_FWD', 'GCA_NewT_FWD', 'GCA90_NewT_FWD', 'PassLive.1_NewT_FWD', 'PassDead.1_NewT_FWD', 'Drib.1_NewT_FWD', 'Sh.1_NewT_FWD', 'Fld.1_NewT_FWD', 'Def.1_NewT_FWD', 'Tkl_NewT_FWD', 'TklW_NewT_FWD', 'Def 3rd_NewT_FWD', 'Mid 3rd_NewT_FWD', 'Att 3rd_NewT_FWD', 'Tkl.1_NewT_FWD', 'Tkl%_NewT_FWD', 'Past_NewT_FWD', 'Succ_NewT_FWD', '%_NewT_FWD', 'Def 3rd.1_NewT_FWD', 'Mid 3rd.1_NewT_FWD', 'Att 3rd.1_NewT_FWD', 'ShSv_NewT_FWD', 'Pass_NewT_FWD', 'Tkl+Int_NewT_FWD', 'Clr_NewT_FWD', 'Err_NewT_FWD', 'Touches_NewT_FWD', 'Def Pen_NewT_FWD', 'Att Pen_NewT_FWD', 'Succ%_NewT_FWD', '#Pl_NewT_FWD', 'Megs_NewT_FWD', 'Carries_NewT_FWD', 'CPA_NewT_FWD', 'Mis_NewT_FWD', 'Dis_NewT_FWD', 'Targ_NewT_FWD', 'Rec_NewT_FWD', 'Rec%_NewT_FWD', 'Prog.1_NewT_FWD', 'Mn/MP_NewT_FWD', 'Min%_NewT_FWD', 'Mn/Start_NewT_FWD', 'Compl_NewT_FWD', 'Subs_NewT_FWD', 'Mn/Sub_NewT_FWD', 'unSub_NewT_FWD', 'PPM_NewT_FWD', 'onG_NewT_FWD', 'onGA_NewT_FWD', '+/-_NewT_FWD', '+/-90_NewT_FWD', 'On-Off_NewT_FWD', 'onxG_NewT_FWD', 'onxGA_NewT_FWD', 'xG+/-_NewT_FWD', 'xG+/-90_NewT_FWD', 'On-Off.1_NewT_FWD', '2CrdY_NewT_FWD', 'Fls_NewT_FWD', 'PKwon_NewT_FWD', 'PKcon_NewT_FWD', 'OG_NewT_FWD', 'Recov_NewT_FWD', 'Won_NewT_FWD', 'Lost_NewT_FWD', 'Won%_NewT_FWD', 'Age_NewT_MID', 'Born_NewT_MID', 'MP_NewT_MID', 'Starts_NewT_MID', 'Min_NewT_MID', '90s_NewT_MID', 'Gls_NewT_MID', 'Ast_NewT_MID', 'G-PK_NewT_MID', 'PK_NewT_MID', 'PKatt_NewT_MID', 'CrdY_NewT_MID', 'CrdR_NewT_MID', 'Gls.1_NewT_MID', 'Ast.1_NewT_MID', 'G+A_NewT_MID', 'G-PK.1_NewT_MID', 'G+A-PK_NewT_MID', 'xG_NewT_MID', 'npxG_NewT_MID', 'xA_NewT_MID', 'npxG+xA_NewT_MID', 'xG.1_NewT_MID', 'xA.1_NewT_MID', 'xG+xA_NewT_MID', 'npxG.1_NewT_MID', 'npxG+xA.1_NewT_MID', 'Sh_NewT_MID', 'SoT_NewT_MID', 'SoT%_NewT_MID', 'Sh/90_NewT_MID', 'SoT/90_NewT_MID', 'G/Sh_NewT_MID', 'G/SoT_NewT_MID', 'Dist_NewT_MID', 'FK_NewT_MID', 'npxG/Sh_NewT_MID', 'G-xG_NewT_MID', 'np:G-xG_NewT_MID', 'Cmp_NewT_MID', 'Att_NewT_MID', 'Cmp%_NewT_MID', 'TotDist_NewT_MID', 'PrgDist_NewT_MID', 'Cmp.1_NewT_MID', 'Att.1_NewT_MID', 'Cmp%.1_NewT_MID', 'Cmp.2_NewT_MID', 'Att.2_NewT_MID', 'Cmp%.2_NewT_MID', 'Cmp.3_NewT_MID', 'Att.3_NewT_MID', 'Cmp%.3_NewT_MID', 'A-xA_NewT_MID', 'KP_NewT_MID', '1/3_NewT_MID', 'PPA_NewT_MID', 'CrsPA_NewT_MID', 'Prog_NewT_MID', 'Live_NewT_MID', 'Dead_NewT_MID', 'TB_NewT_MID', 'Press_NewT_MID', 'Sw_NewT_MID', 'Crs_NewT_MID', 'CK_NewT_MID', 'In_NewT_MID', 'Out_NewT_MID', 'Str_NewT_MID', 'Ground_NewT_MID', 'Low_NewT_MID', 'High_NewT_MID', 'Left_NewT_MID', 'Right_NewT_MID', 'Head_NewT_MID', 'TI_NewT_MID', 'Other_NewT_MID', 'Off_NewT_MID', 'Out.1_NewT_MID', 'Int_NewT_MID', 'Blocks_NewT_MID', 'SCA_NewT_MID', 'SCA90_NewT_MID', 'PassLive_NewT_MID', 'PassDead_NewT_MID', 'Drib_NewT_MID', 'Fld_NewT_MID', 'Def_NewT_MID', 'GCA_NewT_MID', 'GCA90_NewT_MID', 'PassLive.1_NewT_MID', 'PassDead.1_NewT_MID', 'Drib.1_NewT_MID', 'Sh.1_NewT_MID', 'Fld.1_NewT_MID', 'Def.1_NewT_MID', 'Tkl_NewT_MID', 'TklW_NewT_MID', 'Def 3rd_NewT_MID', 'Mid 3rd_NewT_MID', 'Att 3rd_NewT_MID', 'Tkl.1_NewT_MID', 'Tkl%_NewT_MID', 'Past_NewT_MID', 'Succ_NewT_MID', '%_NewT_MID', 'Def 3rd.1_NewT_MID', 'Mid 3rd.1_NewT_MID', 'Att 3rd.1_NewT_MID', 'ShSv_NewT_MID', 'Pass_NewT_MID', 'Tkl+Int_NewT_MID', 'Clr_NewT_MID', 'Err_NewT_MID', 'Touches_NewT_MID', 'Def Pen_NewT_MID', 'Att Pen_NewT_MID', 'Succ%_NewT_MID', '#Pl_NewT_MID', 'Megs_NewT_MID', 'Carries_NewT_MID', 'CPA_NewT_MID', 'Mis_NewT_MID', 'Dis_NewT_MID', 'Targ_NewT_MID', 'Rec_NewT_MID', 'Rec%_NewT_MID', 'Prog.1_NewT_MID', 'Mn/MP_NewT_MID', 'Min%_NewT_MID', 'Mn/Start_NewT_MID', 'Compl_NewT_MID', 'Subs_NewT_MID', 'Mn/Sub_NewT_MID', 'unSub_NewT_MID', 'PPM_NewT_MID', 'onG_NewT_MID', 'onGA_NewT_MID', '+/-_NewT_MID', '+/-90_NewT_MID', 'On-Off_NewT_MID', 'onxG_NewT_MID', 'onxGA_NewT_MID', 'xG+/-_NewT_MID', 'xG+/-90_NewT_MID', 'On-Off.1_NewT_MID', '2CrdY_NewT_MID', 'Fls_NewT_MID', 'PKwon_NewT_MID', 'PKcon_NewT_MID', 'OG_NewT_MID', 'Recov_NewT_MID', 'Won_NewT_MID', 'Lost_NewT_MID', 'Won%_NewT_MID', 'Age_NewT_DEF', 'Born_NewT_DEF', 'MP_NewT_DEF', 'Starts_NewT_DEF', 'Min_NewT_DEF', '90s_NewT_DEF', 'Gls_NewT_DEF', 'Ast_NewT_DEF', 'G-PK_NewT_DEF', 'PK_NewT_DEF', 'PKatt_NewT_DEF', 'CrdY_NewT_DEF', 'CrdR_NewT_DEF', 'Gls.1_NewT_DEF', 'Ast.1_NewT_DEF', 'G+A_NewT_DEF', 'G-PK.1_NewT_DEF', 'G+A-PK_NewT_DEF', 'xG_NewT_DEF', 'npxG_NewT_DEF', 'xA_NewT_DEF', 'npxG+xA_NewT_DEF', 'xG.1_NewT_DEF', 'xA.1_NewT_DEF', 'xG+xA_NewT_DEF', 'npxG.1_NewT_DEF', 'npxG+xA.1_NewT_DEF', 'Sh_NewT_DEF', 'SoT_NewT_DEF', 'SoT%_NewT_DEF', 'Sh/90_NewT_DEF', 'SoT/90_NewT_DEF', 'G/Sh_NewT_DEF', 'G/SoT_NewT_DEF', 'Dist_NewT_DEF', 'FK_NewT_DEF', 'npxG/Sh_NewT_DEF', 'G-xG_NewT_DEF', 'np:G-xG_NewT_DEF', 'Cmp_NewT_DEF', 'Att_NewT_DEF', 'Cmp%_NewT_DEF', 'TotDist_NewT_DEF', 'PrgDist_NewT_DEF', 'Cmp.1_NewT_DEF', 'Att.1_NewT_DEF', 'Cmp%.1_NewT_DEF', 'Cmp.2_NewT_DEF', 'Att.2_NewT_DEF', 'Cmp%.2_NewT_DEF', 'Cmp.3_NewT_DEF', 'Att.3_NewT_DEF', 'Cmp%.3_NewT_DEF', 'A-xA_NewT_DEF', 'KP_NewT_DEF', '1/3_NewT_DEF', 'PPA_NewT_DEF', 'CrsPA_NewT_DEF', 'Prog_NewT_DEF', 'Live_NewT_DEF', 'Dead_NewT_DEF', 'TB_NewT_DEF', 'Press_NewT_DEF', 'Sw_NewT_DEF', 'Crs_NewT_DEF', 'CK_NewT_DEF', 'In_NewT_DEF', 'Out_NewT_DEF', 'Str_NewT_DEF', 'Ground_NewT_DEF', 'Low_NewT_DEF', 'High_NewT_DEF', 'Left_NewT_DEF', 'Right_NewT_DEF', 'Head_NewT_DEF', 'TI_NewT_DEF', 'Other_NewT_DEF', 'Off_NewT_DEF', 'Out.1_NewT_DEF', 'Int_NewT_DEF', 'Blocks_NewT_DEF', 'SCA_NewT_DEF', 'SCA90_NewT_DEF', 'PassLive_NewT_DEF', 'PassDead_NewT_DEF', 'Drib_NewT_DEF', 'Fld_NewT_DEF', 'Def_NewT_DEF', 'GCA_NewT_DEF', 'GCA90_NewT_DEF', 'PassLive.1_NewT_DEF', 'PassDead.1_NewT_DEF', 'Drib.1_NewT_DEF', 'Sh.1_NewT_DEF', 'Fld.1_NewT_DEF', 'Def.1_NewT_DEF', 'Tkl_NewT_DEF', 'TklW_NewT_DEF', 'Def 3rd_NewT_DEF', 'Mid 3rd_NewT_DEF', 'Att 3rd_NewT_DEF', 'Tkl.1_NewT_DEF', 'Tkl%_NewT_DEF', 'Past_NewT_DEF', 'Succ_NewT_DEF', '%_NewT_DEF', 'Def 3rd.1_NewT_DEF', 'Mid 3rd.1_NewT_DEF', 'Att 3rd.1_NewT_DEF', 'ShSv_NewT_DEF', 'Pass_NewT_DEF', 'Tkl+Int_NewT_DEF', 'Clr_NewT_DEF', 'Err_NewT_DEF', 'Touches_NewT_DEF', 'Def Pen_NewT_DEF', 'Att Pen_NewT_DEF', 'Succ%_NewT_DEF', '#Pl_NewT_DEF', 'Megs_NewT_DEF', 'Carries_NewT_DEF', 'CPA_NewT_DEF', 'Mis_NewT_DEF', 'Dis_NewT_DEF', 'Targ_NewT_DEF', 'Rec_NewT_DEF', 'Rec%_NewT_DEF', 'Prog.1_NewT_DEF', 'Mn/MP_NewT_DEF', 'Min%_NewT_DEF', 'Mn/Start_NewT_DEF', 'Compl_NewT_DEF', 'Subs_NewT_DEF', 'Mn/Sub_NewT_DEF', 'unSub_NewT_DEF', 'PPM_NewT_DEF', 'onG_NewT_DEF', 'onGA_NewT_DEF', '+/-_NewT_DEF', '+/-90_NewT_DEF', 'On-Off_NewT_DEF', 'onxG_NewT_DEF', 'onxGA_NewT_DEF', 'xG+/-_NewT_DEF', 'xG+/-90_NewT_DEF', 'On-Off.1_NewT_DEF', '2CrdY_NewT_DEF', 'Fls_NewT_DEF', 'PKwon_NewT_DEF', 'PKcon_NewT_DEF', 'OG_NewT_DEF', 'Recov_NewT_DEF', 'Won_NewT_DEF', 'Lost_NewT_DEF', 'Won%_NewT_DEF', 'Age_NewO_FWD', 'Born_NewO_FWD', 'MP_NewO_FWD', 'Starts_NewO_FWD', 'Min_NewO_FWD', '90s_NewO_FWD', 'Gls_NewO_FWD', 'Ast_NewO_FWD', 'G-PK_NewO_FWD', 'PK_NewO_FWD', 'PKatt_NewO_FWD', 'CrdY_NewO_FWD', 'CrdR_NewO_FWD', 'Gls.1_NewO_FWD', 'Ast.1_NewO_FWD', 'G+A_NewO_FWD', 'G-PK.1_NewO_FWD', 'G+A-PK_NewO_FWD', 'xG_NewO_FWD', 'npxG_NewO_FWD', 'xA_NewO_FWD', 'npxG+xA_NewO_FWD', 'xG.1_NewO_FWD', 'xA.1_NewO_FWD', 'xG+xA_NewO_FWD', 'npxG.1_NewO_FWD', 'npxG+xA.1_NewO_FWD', 'Sh_NewO_FWD', 'SoT_NewO_FWD', 'SoT%_NewO_FWD', 'Sh/90_NewO_FWD', 'SoT/90_NewO_FWD', 'G/Sh_NewO_FWD', 'G/SoT_NewO_FWD', 'Dist_NewO_FWD', 'FK_NewO_FWD', 'npxG/Sh_NewO_FWD', 'G-xG_NewO_FWD', 'np:G-xG_NewO_FWD', 'Cmp_NewO_FWD', 'Att_NewO_FWD', 'Cmp%_NewO_FWD', 'TotDist_NewO_FWD', 'PrgDist_NewO_FWD', 'Cmp.1_NewO_FWD', 'Att.1_NewO_FWD', 'Cmp%.1_NewO_FWD', 'Cmp.2_NewO_FWD', 'Att.2_NewO_FWD', 'Cmp%.2_NewO_FWD', 'Cmp.3_NewO_FWD', 'Att.3_NewO_FWD', 'Cmp%.3_NewO_FWD', 'A-xA_NewO_FWD', 'KP_NewO_FWD', '1/3_NewO_FWD', 'PPA_NewO_FWD', 'CrsPA_NewO_FWD', 'Prog_NewO_FWD', 'Live_NewO_FWD', 'Dead_NewO_FWD', 'TB_NewO_FWD', 'Press_NewO_FWD', 'Sw_NewO_FWD', 'Crs_NewO_FWD', 'CK_NewO_FWD', 'In_NewO_FWD', 'Out_NewO_FWD', 'Str_NewO_FWD', 'Ground_NewO_FWD', 'Low_NewO_FWD', 'High_NewO_FWD', 'Left_NewO_FWD', 'Right_NewO_FWD', 'Head_NewO_FWD', 'TI_NewO_FWD', 'Other_NewO_FWD', 'Off_NewO_FWD', 'Out.1_NewO_FWD', 'Int_NewO_FWD', 'Blocks_NewO_FWD', 'SCA_NewO_FWD', 'SCA90_NewO_FWD', 'PassLive_NewO_FWD', 'PassDead_NewO_FWD', 'Drib_NewO_FWD', 'Fld_NewO_FWD', 'Def_NewO_FWD', 'GCA_NewO_FWD', 'GCA90_NewO_FWD', 'PassLive.1_NewO_FWD', 'PassDead.1_NewO_FWD', 'Drib.1_NewO_FWD', 'Sh.1_NewO_FWD', 'Fld.1_NewO_FWD', 'Def.1_NewO_FWD', 'Tkl_NewO_FWD', 'TklW_NewO_FWD', 'Def 3rd_NewO_FWD', 'Mid 3rd_NewO_FWD', 'Att 3rd_NewO_FWD', 'Tkl.1_NewO_FWD', 'Tkl%_NewO_FWD', 'Past_NewO_FWD', 'Succ_NewO_FWD', '%_NewO_FWD', 'Def 3rd.1_NewO_FWD', 'Mid 3rd.1_NewO_FWD', 'Att 3rd.1_NewO_FWD', 'ShSv_NewO_FWD', 'Pass_NewO_FWD', 'Tkl+Int_NewO_FWD', 'Clr_NewO_FWD', 'Err_NewO_FWD', 'Touches_NewO_FWD', 'Def Pen_NewO_FWD', 'Att Pen_NewO_FWD', 'Succ%_NewO_FWD', '#Pl_NewO_FWD', 'Megs_NewO_FWD', 'Carries_NewO_FWD', 'CPA_NewO_FWD', 'Mis_NewO_FWD', 'Dis_NewO_FWD', 'Targ_NewO_FWD', 'Rec_NewO_FWD', 'Rec%_NewO_FWD', 'Prog.1_NewO_FWD', 'Mn/MP_NewO_FWD', 'Min%_NewO_FWD', 'Mn/Start_NewO_FWD', 'Compl_NewO_FWD', 'Subs_NewO_FWD', 'Mn/Sub_NewO_FWD', 'unSub_NewO_FWD', 'PPM_NewO_FWD', 'onG_NewO_FWD', 'onGA_NewO_FWD', '+/-_NewO_FWD', '+/-90_NewO_FWD', 'On-Off_NewO_FWD', 'onxG_NewO_FWD', 'onxGA_NewO_FWD', 'xG+/-_NewO_FWD', 'xG+/-90_NewO_FWD', 'On-Off.1_NewO_FWD', '2CrdY_NewO_FWD', 'Fls_NewO_FWD', 'PKwon_NewO_FWD', 'PKcon_NewO_FWD', 'OG_NewO_FWD', 'Recov_NewO_FWD', 'Won_NewO_FWD', 'Lost_NewO_FWD', 'Won%_NewO_FWD', 'Age_NewO_MID', 'Born_NewO_MID', 'MP_NewO_MID', 'Starts_NewO_MID', 'Min_NewO_MID', '90s_NewO_MID', 'Gls_NewO_MID', 'Ast_NewO_MID', 'G-PK_NewO_MID', 'PK_NewO_MID', 'PKatt_NewO_MID', 'CrdY_NewO_MID', 'CrdR_NewO_MID', 'Gls.1_NewO_MID', 'Ast.1_NewO_MID', 'G+A_NewO_MID', 'G-PK.1_NewO_MID', 'G+A-PK_NewO_MID', 'xG_NewO_MID', 'npxG_NewO_MID', 'xA_NewO_MID', 'npxG+xA_NewO_MID', 'xG.1_NewO_MID', 'xA.1_NewO_MID', 'xG+xA_NewO_MID', 'npxG.1_NewO_MID', 'npxG+xA.1_NewO_MID', 'Sh_NewO_MID', 'SoT_NewO_MID', 'SoT%_NewO_MID', 'Sh/90_NewO_MID', 'SoT/90_NewO_MID', 'G/Sh_NewO_MID', 'G/SoT_NewO_MID', 'Dist_NewO_MID', 'FK_NewO_MID', 'npxG/Sh_NewO_MID', 'G-xG_NewO_MID', 'np:G-xG_NewO_MID', 'Cmp_NewO_MID', 'Att_NewO_MID', 'Cmp%_NewO_MID', 'TotDist_NewO_MID', 'PrgDist_NewO_MID', 'Cmp.1_NewO_MID', 'Att.1_NewO_MID', 'Cmp%.1_NewO_MID', 'Cmp.2_NewO_MID', 'Att.2_NewO_MID', 'Cmp%.2_NewO_MID', 'Cmp.3_NewO_MID', 'Att.3_NewO_MID', 'Cmp%.3_NewO_MID', 'A-xA_NewO_MID', 'KP_NewO_MID', '1/3_NewO_MID', 'PPA_NewO_MID', 'CrsPA_NewO_MID', 'Prog_NewO_MID', 'Live_NewO_MID', 'Dead_NewO_MID', 'TB_NewO_MID', 'Press_NewO_MID', 'Sw_NewO_MID', 'Crs_NewO_MID', 'CK_NewO_MID', 'In_NewO_MID', 'Out_NewO_MID', 'Str_NewO_MID', 'Ground_NewO_MID', 'Low_NewO_MID', 'High_NewO_MID', 'Left_NewO_MID', 'Right_NewO_MID', 'Head_NewO_MID', 'TI_NewO_MID', 'Other_NewO_MID', 'Off_NewO_MID', 'Out.1_NewO_MID', 'Int_NewO_MID', 'Blocks_NewO_MID', 'SCA_NewO_MID', 'SCA90_NewO_MID', 'PassLive_NewO_MID', 'PassDead_NewO_MID', 'Drib_NewO_MID', 'Fld_NewO_MID', 'Def_NewO_MID', 'GCA_NewO_MID', 'GCA90_NewO_MID', 'PassLive.1_NewO_MID', 'PassDead.1_NewO_MID', 'Drib.1_NewO_MID', 'Sh.1_NewO_MID', 'Fld.1_NewO_MID', 'Def.1_NewO_MID', 'Tkl_NewO_MID', 'TklW_NewO_MID', 'Def 3rd_NewO_MID', 'Mid 3rd_NewO_MID', 'Att 3rd_NewO_MID', 'Tkl.1_NewO_MID', 'Tkl%_NewO_MID', 'Past_NewO_MID', 'Succ_NewO_MID', '%_NewO_MID', 'Def 3rd.1_NewO_MID', 'Mid 3rd.1_NewO_MID', 'Att 3rd.1_NewO_MID', 'ShSv_NewO_MID', 'Pass_NewO_MID', 'Tkl+Int_NewO_MID', 'Clr_NewO_MID', 'Err_NewO_MID', 'Touches_NewO_MID', 'Def Pen_NewO_MID', 'Att Pen_NewO_MID', 'Succ%_NewO_MID', '#Pl_NewO_MID', 'Megs_NewO_MID', 'Carries_NewO_MID', 'CPA_NewO_MID', 'Mis_NewO_MID', 'Dis_NewO_MID', 'Targ_NewO_MID', 'Rec_NewO_MID', 'Rec%_NewO_MID', 'Prog.1_NewO_MID', 'Mn/MP_NewO_MID', 'Min%_NewO_MID', 'Mn/Start_NewO_MID', 'Compl_NewO_MID', 'Subs_NewO_MID', 'Mn/Sub_NewO_MID', 'unSub_NewO_MID', 'PPM_NewO_MID', 'onG_NewO_MID', 'onGA_NewO_MID', '+/-_NewO_MID', '+/-90_NewO_MID', 'On-Off_NewO_MID', 'onxG_NewO_MID', 'onxGA_NewO_MID', 'xG+/-_NewO_MID', 'xG+/-90_NewO_MID', 'On-Off.1_NewO_MID', '2CrdY_NewO_MID', 'Fls_NewO_MID', 'PKwon_NewO_MID', 'PKcon_NewO_MID', 'OG_NewO_MID', 'Recov_NewO_MID', 'Won_NewO_MID', 'Lost_NewO_MID', 'Won%_NewO_MID', 'Age_NewO_DEF', 'Born_NewO_DEF', 'MP_NewO_DEF', 'Starts_NewO_DEF', 'Min_NewO_DEF', '90s_NewO_DEF', 'Gls_NewO_DEF', 'Ast_NewO_DEF', 'G-PK_NewO_DEF', 'PK_NewO_DEF', 'PKatt_NewO_DEF', 'CrdY_NewO_DEF', 'CrdR_NewO_DEF', 'Gls.1_NewO_DEF', 'Ast.1_NewO_DEF', 'G+A_NewO_DEF', 'G-PK.1_NewO_DEF', 'G+A-PK_NewO_DEF', 'xG_NewO_DEF', 'npxG_NewO_DEF', 'xA_NewO_DEF', 'npxG+xA_NewO_DEF', 'xG.1_NewO_DEF', 'xA.1_NewO_DEF', 'xG+xA_NewO_DEF', 'npxG.1_NewO_DEF', 'npxG+xA.1_NewO_DEF', 'Sh_NewO_DEF', 'SoT_NewO_DEF', 'SoT%_NewO_DEF', 'Sh/90_NewO_DEF', 'SoT/90_NewO_DEF', 'G/Sh_NewO_DEF', 'G/SoT_NewO_DEF', 'Dist_NewO_DEF', 'FK_NewO_DEF', 'npxG/Sh_NewO_DEF', 'G-xG_NewO_DEF', 'np:G-xG_NewO_DEF', 'Cmp_NewO_DEF', 'Att_NewO_DEF', 'Cmp%_NewO_DEF', 'TotDist_NewO_DEF', 'PrgDist_NewO_DEF', 'Cmp.1_NewO_DEF', 'Att.1_NewO_DEF', 'Cmp%.1_NewO_DEF', 'Cmp.2_NewO_DEF', 'Att.2_NewO_DEF', 'Cmp%.2_NewO_DEF', 'Cmp.3_NewO_DEF', 'Att.3_NewO_DEF', 'Cmp%.3_NewO_DEF', 'A-xA_NewO_DEF', 'KP_NewO_DEF', '1/3_NewO_DEF', 'PPA_NewO_DEF', 'CrsPA_NewO_DEF', 'Prog_NewO_DEF', 'Live_NewO_DEF', 'Dead_NewO_DEF', 'TB_NewO_DEF', 'Press_NewO_DEF', 'Sw_NewO_DEF', 'Crs_NewO_DEF', 'CK_NewO_DEF', 'In_NewO_DEF', 'Out_NewO_DEF', 'Str_NewO_DEF', 'Ground_NewO_DEF', 'Low_NewO_DEF', 'High_NewO_DEF', 'Left_NewO_DEF', 'Right_NewO_DEF', 'Head_NewO_DEF', 'TI_NewO_DEF', 'Other_NewO_DEF', 'Off_NewO_DEF', 'Out.1_NewO_DEF', 'Int_NewO_DEF', 'Blocks_NewO_DEF', 'SCA_NewO_DEF', 'SCA90_NewO_DEF', 'PassLive_NewO_DEF', 'PassDead_NewO_DEF', 'Drib_NewO_DEF', 'Fld_NewO_DEF', 'Def_NewO_DEF', 'GCA_NewO_DEF', 'GCA90_NewO_DEF', 'PassLive.1_NewO_DEF', 'PassDead.1_NewO_DEF', 'Drib.1_NewO_DEF', 'Sh.1_NewO_DEF', 'Fld.1_NewO_DEF', 'Def.1_NewO_DEF', 'Tkl_NewO_DEF', 'TklW_NewO_DEF', 'Def 3rd_NewO_DEF', 'Mid 3rd_NewO_DEF', 'Att 3rd_NewO_DEF', 'Tkl.1_NewO_DEF', 'Tkl%_NewO_DEF', 'Past_NewO_DEF', 'Succ_NewO_DEF', '%_NewO_DEF', 'Def 3rd.1_NewO_DEF', 'Mid 3rd.1_NewO_DEF', 'Att 3rd.1_NewO_DEF', 'ShSv_NewO_DEF', 'Pass_NewO_DEF', 'Tkl+Int_NewO_DEF', 'Clr_NewO_DEF', 'Err_NewO_DEF', 'Touches_NewO_DEF', 'Def Pen_NewO_DEF', 'Att Pen_NewO_DEF', 'Succ%_NewO_DEF', '#Pl_NewO_DEF', 'Megs_NewO_DEF', 'Carries_NewO_DEF', 'CPA_NewO_DEF', 'Mis_NewO_DEF', 'Dis_NewO_DEF', 'Targ_NewO_DEF', 'Rec_NewO_DEF', 'Rec%_NewO_DEF', 'Prog.1_NewO_DEF', 'Mn/MP_NewO_DEF', 'Min%_NewO_DEF', 'Mn/Start_NewO_DEF', 'Compl_NewO_DEF', 'Subs_NewO_DEF', 'Mn/Sub_NewO_DEF', 'unSub_NewO_DEF', 'PPM_NewO_DEF', 'onG_NewO_DEF', 'onGA_NewO_DEF', '+/-_NewO_DEF', '+/-90_NewO_DEF', 'On-Off_NewO_DEF', 'onxG_NewO_DEF', 'onxGA_NewO_DEF', 'xG+/-_NewO_DEF', 'xG+/-90_NewO_DEF', 'On-Off.1_NewO_DEF', '2CrdY_NewO_DEF', 'Fls_NewO_DEF', 'PKwon_NewO_DEF', 'PKcon_NewO_DEF', 'OG_NewO_DEF', 'Recov_NewO_DEF', 'Won_NewO_DEF', 'Lost_NewO_DEF', 'Won%_NewO_DEF', 'Matches_NewT_MID', 'Matches_NewT_DEF', 'Matches_NewT_FWD']\n"
          ]
        }
      ]
    },
    {
      "cell_type": "code",
      "source": [
        "phrase = \"Born\"\n",
        "born_drop = [col for col in df.columns if phrase in col]\n",
        "\n",
        "# Drop the columns\n",
        "df = df.drop(columns=born_drop)\n",
        "print(df.columns.values.tolist())"
      ],
      "metadata": {
        "colab": {
          "base_uri": "https://localhost:8080/"
        },
        "id": "fTgdDq5CutQd",
        "outputId": "a98565f8-0c8a-4b4e-bfda-9e2d9a647b9c"
      },
      "execution_count": null,
      "outputs": [
        {
          "output_type": "stream",
          "name": "stdout",
          "text": [
            "['Unnamed: 0', 'Player', 'Nation_x', 'Pos_x', 'Squad_x', 'Comp_x', 'Age_x', 'MP_x', 'Starts_x', 'Min_x', '90s_x', 'Gls_x', 'Ast_x', 'G-PK_x', 'PK_x', 'PKatt_x', 'CrdY_x', 'CrdR_x', 'Gls.1_x', 'Ast.1_x', 'G+A_x', 'G-PK.1_x', 'G+A-PK_x', 'xG_x', 'npxG_x', 'xA_x', 'npxG+xA_x', 'xG.1_x', 'xA.1_x', 'xG+xA_x', 'npxG.1_x', 'npxG+xA.1_x', 'Matches_x', 'Sh_x', 'SoT_x', 'SoT%_x', 'Sh/90_x', 'SoT/90_x', 'G/Sh_x', 'G/SoT_x', 'Dist_x', 'FK_x', 'npxG/Sh_x', 'G-xG_x', 'np:G-xG_x', 'Cmp_x', 'Att_x', 'Cmp%_x', 'TotDist_x', 'PrgDist_x', 'Cmp.1_x', 'Att.1_x', 'Cmp%.1_x', 'Cmp.2_x', 'Att.2_x', 'Cmp%.2_x', 'Cmp.3_x', 'Att.3_x', 'Cmp%.3_x', 'A-xA_x', 'KP_x', '1/3_x', 'PPA_x', 'CrsPA_x', 'Prog_x', 'Live_x', 'Dead_x', 'TB_x', 'Press_x', 'Sw_x', 'Crs_x', 'CK_x', 'In_x', 'Out_x', 'Str_x', 'Ground_x', 'Low_x', 'High_x', 'Left_x', 'Right_x', 'Head_x', 'TI_x', 'Other_x', 'Off_x', 'Out.1_x', 'Int_x', 'Blocks_x', 'SCA_x', 'SCA90_x', 'PassLive_x', 'PassDead_x', 'Drib_x', 'Fld_x', 'Def_x', 'GCA_x', 'GCA90_x', 'PassLive.1_x', 'PassDead.1_x', 'Drib.1_x', 'Sh.1_x', 'Fld.1_x', 'Def.1_x', 'Tkl_x', 'TklW_x', 'Def 3rd_x', 'Mid 3rd_x', 'Att 3rd_x', 'Tkl.1_x', 'Tkl%_x', 'Past_x', 'Succ_x', '%_x', 'Def 3rd.1_x', 'Mid 3rd.1_x', 'Att 3rd.1_x', 'ShSv_x', 'Pass_x', 'Tkl+Int_x', 'Clr_x', 'Err_x', 'Touches_x', 'Def Pen_x', 'Att Pen_x', 'Succ%_x', '#Pl_x', 'Megs_x', 'Carries_x', 'CPA_x', 'Mis_x', 'Dis_x', 'Targ_x', 'Rec_x', 'Rec%_x', 'Prog.1_x', 'Mn/MP_x', 'Min%_x', 'Mn/Start_x', 'Compl_x', 'Subs_x', 'Mn/Sub_x', 'unSub_x', 'PPM_x', 'onG_x', 'onGA_x', '+/-_x', '+/-90_x', 'On-Off_x', 'onxG_x', 'onxGA_x', 'xG+/-_x', 'xG+/-90_x', 'On-Off.1_x', '2CrdY_x', 'Fls_x', 'PKwon_x', 'PKcon_x', 'OG_x', 'Recov_x', 'Won_x', 'Lost_x', 'Won%_x', 'League Name_x', 'League ID_x', 'Season_x', 'Team Name_x', 'Team Country_x', 'Player Lower_x', 'First Name Lower_x', 'Last Name Lower_x', 'First Initial Lower_x', 'Team Country Lower_x', 'Nationality Code_x', 'Nationality Cleaned_x', 'Position Grouped_x', 'Outfielder Goalkeeper_x', 'Nation_y', 'Pos_y', 'Squad_y', 'Comp_y', 'Age_y', 'MP_y', 'Starts_y', 'Min_y', '90s_y', 'Gls_y', 'Ast_y', 'G-PK_y', 'PK_y', 'PKatt_y', 'CrdY_y', 'CrdR_y', 'Gls.1_y', 'Ast.1_y', 'G+A_y', 'G-PK.1_y', 'G+A-PK_y', 'xG_y', 'npxG_y', 'xA_y', 'npxG+xA_y', 'xG.1_y', 'xA.1_y', 'xG+xA_y', 'npxG.1_y', 'npxG+xA.1_y', 'Matches_y', 'Sh_y', 'SoT_y', 'SoT%_y', 'Sh/90_y', 'SoT/90_y', 'G/Sh_y', 'G/SoT_y', 'Dist_y', 'FK_y', 'npxG/Sh_y', 'G-xG_y', 'np:G-xG_y', 'Cmp_y', 'Att_y', 'Cmp%_y', 'TotDist_y', 'PrgDist_y', 'Cmp.1_y', 'Att.1_y', 'Cmp%.1_y', 'Cmp.2_y', 'Att.2_y', 'Cmp%.2_y', 'Cmp.3_y', 'Att.3_y', 'Cmp%.3_y', 'A-xA_y', 'KP_y', '1/3_y', 'PPA_y', 'CrsPA_y', 'Prog_y', 'Live_y', 'Dead_y', 'TB_y', 'Press_y', 'Sw_y', 'Crs_y', 'CK_y', 'In_y', 'Out_y', 'Str_y', 'Ground_y', 'Low_y', 'High_y', 'Left_y', 'Right_y', 'Head_y', 'TI_y', 'Other_y', 'Off_y', 'Out.1_y', 'Int_y', 'Blocks_y', 'SCA_y', 'SCA90_y', 'PassLive_y', 'PassDead_y', 'Drib_y', 'Fld_y', 'Def_y', 'GCA_y', 'GCA90_y', 'PassLive.1_y', 'PassDead.1_y', 'Drib.1_y', 'Sh.1_y', 'Fld.1_y', 'Def.1_y', 'Tkl_y', 'TklW_y', 'Def 3rd_y', 'Mid 3rd_y', 'Att 3rd_y', 'Tkl.1_y', 'Tkl%_y', 'Past_y', 'Succ_y', '%_y', 'Def 3rd.1_y', 'Mid 3rd.1_y', 'Att 3rd.1_y', 'ShSv_y', 'Pass_y', 'Tkl+Int_y', 'Clr_y', 'Err_y', 'Touches_y', 'Def Pen_y', 'Att Pen_y', 'Succ%_y', '#Pl_y', 'Megs_y', 'Carries_y', 'CPA_y', 'Mis_y', 'Dis_y', 'Targ_y', 'Rec_y', 'Rec%_y', 'Prog.1_y', 'Mn/MP_y', 'Min%_y', 'Mn/Start_y', 'Compl_y', 'Subs_y', 'Mn/Sub_y', 'unSub_y', 'PPM_y', 'onG_y', 'onGA_y', '+/-_y', '+/-90_y', 'On-Off_y', 'onxG_y', 'onxGA_y', 'xG+/-_y', 'xG+/-90_y', 'On-Off.1_y', '2CrdY_y', 'Fls_y', 'PKwon_y', 'PKcon_y', 'OG_y', 'Recov_y', 'Won_y', 'Lost_y', 'Won%_y', 'League Name_y', 'League ID_y', 'Season_y', 'Team Name_y', 'Team Country_y', 'Player Lower_y', 'First Name Lower_y', 'Last Name Lower_y', 'First Initial Lower_y', 'Team Country Lower_y', 'Nationality Code_y', 'Nationality Cleaned_y', 'Position Grouped_y', 'Outfielder Goalkeeper_y', 'Age_OldT_FWD', 'MP_OldT_FWD', 'Starts_OldT_FWD', 'Min_OldT_FWD', '90s_OldT_FWD', 'Gls_OldT_FWD', 'Ast_OldT_FWD', 'G-PK_OldT_FWD', 'PK_OldT_FWD', 'PKatt_OldT_FWD', 'CrdY_OldT_FWD', 'CrdR_OldT_FWD', 'Gls.1_OldT_FWD', 'Ast.1_OldT_FWD', 'G+A_OldT_FWD', 'G-PK.1_OldT_FWD', 'G+A-PK_OldT_FWD', 'xG_OldT_FWD', 'npxG_OldT_FWD', 'xA_OldT_FWD', 'npxG+xA_OldT_FWD', 'xG.1_OldT_FWD', 'xA.1_OldT_FWD', 'xG+xA_OldT_FWD', 'npxG.1_OldT_FWD', 'npxG+xA.1_OldT_FWD', 'Sh_OldT_FWD', 'SoT_OldT_FWD', 'SoT%_OldT_FWD', 'Sh/90_OldT_FWD', 'SoT/90_OldT_FWD', 'G/Sh_OldT_FWD', 'G/SoT_OldT_FWD', 'Dist_OldT_FWD', 'FK_OldT_FWD', 'npxG/Sh_OldT_FWD', 'G-xG_OldT_FWD', 'np:G-xG_OldT_FWD', 'Cmp_OldT_FWD', 'Att_OldT_FWD', 'Cmp%_OldT_FWD', 'TotDist_OldT_FWD', 'PrgDist_OldT_FWD', 'Cmp.1_OldT_FWD', 'Att.1_OldT_FWD', 'Cmp%.1_OldT_FWD', 'Cmp.2_OldT_FWD', 'Att.2_OldT_FWD', 'Cmp%.2_OldT_FWD', 'Cmp.3_OldT_FWD', 'Att.3_OldT_FWD', 'Cmp%.3_OldT_FWD', 'A-xA_OldT_FWD', 'KP_OldT_FWD', '1/3_OldT_FWD', 'PPA_OldT_FWD', 'CrsPA_OldT_FWD', 'Prog_OldT_FWD', 'Live_OldT_FWD', 'Dead_OldT_FWD', 'TB_OldT_FWD', 'Press_OldT_FWD', 'Sw_OldT_FWD', 'Crs_OldT_FWD', 'CK_OldT_FWD', 'In_OldT_FWD', 'Out_OldT_FWD', 'Str_OldT_FWD', 'Ground_OldT_FWD', 'Low_OldT_FWD', 'High_OldT_FWD', 'Left_OldT_FWD', 'Right_OldT_FWD', 'Head_OldT_FWD', 'TI_OldT_FWD', 'Other_OldT_FWD', 'Off_OldT_FWD', 'Out.1_OldT_FWD', 'Int_OldT_FWD', 'Blocks_OldT_FWD', 'SCA_OldT_FWD', 'SCA90_OldT_FWD', 'PassLive_OldT_FWD', 'PassDead_OldT_FWD', 'Drib_OldT_FWD', 'Fld_OldT_FWD', 'Def_OldT_FWD', 'GCA_OldT_FWD', 'GCA90_OldT_FWD', 'PassLive.1_OldT_FWD', 'PassDead.1_OldT_FWD', 'Drib.1_OldT_FWD', 'Sh.1_OldT_FWD', 'Fld.1_OldT_FWD', 'Def.1_OldT_FWD', 'Tkl_OldT_FWD', 'TklW_OldT_FWD', 'Def 3rd_OldT_FWD', 'Mid 3rd_OldT_FWD', 'Att 3rd_OldT_FWD', 'Tkl.1_OldT_FWD', 'Tkl%_OldT_FWD', 'Past_OldT_FWD', 'Succ_OldT_FWD', '%_OldT_FWD', 'Def 3rd.1_OldT_FWD', 'Mid 3rd.1_OldT_FWD', 'Att 3rd.1_OldT_FWD', 'ShSv_OldT_FWD', 'Pass_OldT_FWD', 'Tkl+Int_OldT_FWD', 'Clr_OldT_FWD', 'Err_OldT_FWD', 'Touches_OldT_FWD', 'Def Pen_OldT_FWD', 'Att Pen_OldT_FWD', 'Succ%_OldT_FWD', '#Pl_OldT_FWD', 'Megs_OldT_FWD', 'Carries_OldT_FWD', 'CPA_OldT_FWD', 'Mis_OldT_FWD', 'Dis_OldT_FWD', 'Targ_OldT_FWD', 'Rec_OldT_FWD', 'Rec%_OldT_FWD', 'Prog.1_OldT_FWD', 'Mn/MP_OldT_FWD', 'Min%_OldT_FWD', 'Mn/Start_OldT_FWD', 'Compl_OldT_FWD', 'Subs_OldT_FWD', 'Mn/Sub_OldT_FWD', 'unSub_OldT_FWD', 'PPM_OldT_FWD', 'onG_OldT_FWD', 'onGA_OldT_FWD', '+/-_OldT_FWD', '+/-90_OldT_FWD', 'On-Off_OldT_FWD', 'onxG_OldT_FWD', 'onxGA_OldT_FWD', 'xG+/-_OldT_FWD', 'xG+/-90_OldT_FWD', 'On-Off.1_OldT_FWD', '2CrdY_OldT_FWD', 'Fls_OldT_FWD', 'PKwon_OldT_FWD', 'PKcon_OldT_FWD', 'OG_OldT_FWD', 'Recov_OldT_FWD', 'Won_OldT_FWD', 'Lost_OldT_FWD', 'Won%_OldT_FWD', 'Age_OldT_MID', 'MP_OldT_MID', 'Starts_OldT_MID', 'Min_OldT_MID', '90s_OldT_MID', 'Gls_OldT_MID', 'Ast_OldT_MID', 'G-PK_OldT_MID', 'PK_OldT_MID', 'PKatt_OldT_MID', 'CrdY_OldT_MID', 'CrdR_OldT_MID', 'Gls.1_OldT_MID', 'Ast.1_OldT_MID', 'G+A_OldT_MID', 'G-PK.1_OldT_MID', 'G+A-PK_OldT_MID', 'xG_OldT_MID', 'npxG_OldT_MID', 'xA_OldT_MID', 'npxG+xA_OldT_MID', 'xG.1_OldT_MID', 'xA.1_OldT_MID', 'xG+xA_OldT_MID', 'npxG.1_OldT_MID', 'npxG+xA.1_OldT_MID', 'Sh_OldT_MID', 'SoT_OldT_MID', 'SoT%_OldT_MID', 'Sh/90_OldT_MID', 'SoT/90_OldT_MID', 'G/Sh_OldT_MID', 'G/SoT_OldT_MID', 'Dist_OldT_MID', 'FK_OldT_MID', 'npxG/Sh_OldT_MID', 'G-xG_OldT_MID', 'np:G-xG_OldT_MID', 'Cmp_OldT_MID', 'Att_OldT_MID', 'Cmp%_OldT_MID', 'TotDist_OldT_MID', 'PrgDist_OldT_MID', 'Cmp.1_OldT_MID', 'Att.1_OldT_MID', 'Cmp%.1_OldT_MID', 'Cmp.2_OldT_MID', 'Att.2_OldT_MID', 'Cmp%.2_OldT_MID', 'Cmp.3_OldT_MID', 'Att.3_OldT_MID', 'Cmp%.3_OldT_MID', 'A-xA_OldT_MID', 'KP_OldT_MID', '1/3_OldT_MID', 'PPA_OldT_MID', 'CrsPA_OldT_MID', 'Prog_OldT_MID', 'Live_OldT_MID', 'Dead_OldT_MID', 'TB_OldT_MID', 'Press_OldT_MID', 'Sw_OldT_MID', 'Crs_OldT_MID', 'CK_OldT_MID', 'In_OldT_MID', 'Out_OldT_MID', 'Str_OldT_MID', 'Ground_OldT_MID', 'Low_OldT_MID', 'High_OldT_MID', 'Left_OldT_MID', 'Right_OldT_MID', 'Head_OldT_MID', 'TI_OldT_MID', 'Other_OldT_MID', 'Off_OldT_MID', 'Out.1_OldT_MID', 'Int_OldT_MID', 'Blocks_OldT_MID', 'SCA_OldT_MID', 'SCA90_OldT_MID', 'PassLive_OldT_MID', 'PassDead_OldT_MID', 'Drib_OldT_MID', 'Fld_OldT_MID', 'Def_OldT_MID', 'GCA_OldT_MID', 'GCA90_OldT_MID', 'PassLive.1_OldT_MID', 'PassDead.1_OldT_MID', 'Drib.1_OldT_MID', 'Sh.1_OldT_MID', 'Fld.1_OldT_MID', 'Def.1_OldT_MID', 'Tkl_OldT_MID', 'TklW_OldT_MID', 'Def 3rd_OldT_MID', 'Mid 3rd_OldT_MID', 'Att 3rd_OldT_MID', 'Tkl.1_OldT_MID', 'Tkl%_OldT_MID', 'Past_OldT_MID', 'Succ_OldT_MID', '%_OldT_MID', 'Def 3rd.1_OldT_MID', 'Mid 3rd.1_OldT_MID', 'Att 3rd.1_OldT_MID', 'ShSv_OldT_MID', 'Pass_OldT_MID', 'Tkl+Int_OldT_MID', 'Clr_OldT_MID', 'Err_OldT_MID', 'Touches_OldT_MID', 'Def Pen_OldT_MID', 'Att Pen_OldT_MID', 'Succ%_OldT_MID', '#Pl_OldT_MID', 'Megs_OldT_MID', 'Carries_OldT_MID', 'CPA_OldT_MID', 'Mis_OldT_MID', 'Dis_OldT_MID', 'Targ_OldT_MID', 'Rec_OldT_MID', 'Rec%_OldT_MID', 'Prog.1_OldT_MID', 'Mn/MP_OldT_MID', 'Min%_OldT_MID', 'Mn/Start_OldT_MID', 'Compl_OldT_MID', 'Subs_OldT_MID', 'Mn/Sub_OldT_MID', 'unSub_OldT_MID', 'PPM_OldT_MID', 'onG_OldT_MID', 'onGA_OldT_MID', '+/-_OldT_MID', '+/-90_OldT_MID', 'On-Off_OldT_MID', 'onxG_OldT_MID', 'onxGA_OldT_MID', 'xG+/-_OldT_MID', 'xG+/-90_OldT_MID', 'On-Off.1_OldT_MID', '2CrdY_OldT_MID', 'Fls_OldT_MID', 'PKwon_OldT_MID', 'PKcon_OldT_MID', 'OG_OldT_MID', 'Recov_OldT_MID', 'Won_OldT_MID', 'Lost_OldT_MID', 'Won%_OldT_MID', 'Age_OldT_DEF', 'MP_OldT_DEF', 'Starts_OldT_DEF', 'Min_OldT_DEF', '90s_OldT_DEF', 'Gls_OldT_DEF', 'Ast_OldT_DEF', 'G-PK_OldT_DEF', 'PK_OldT_DEF', 'PKatt_OldT_DEF', 'CrdY_OldT_DEF', 'CrdR_OldT_DEF', 'Gls.1_OldT_DEF', 'Ast.1_OldT_DEF', 'G+A_OldT_DEF', 'G-PK.1_OldT_DEF', 'G+A-PK_OldT_DEF', 'xG_OldT_DEF', 'npxG_OldT_DEF', 'xA_OldT_DEF', 'npxG+xA_OldT_DEF', 'xG.1_OldT_DEF', 'xA.1_OldT_DEF', 'xG+xA_OldT_DEF', 'npxG.1_OldT_DEF', 'npxG+xA.1_OldT_DEF', 'Sh_OldT_DEF', 'SoT_OldT_DEF', 'SoT%_OldT_DEF', 'Sh/90_OldT_DEF', 'SoT/90_OldT_DEF', 'G/Sh_OldT_DEF', 'G/SoT_OldT_DEF', 'Dist_OldT_DEF', 'FK_OldT_DEF', 'npxG/Sh_OldT_DEF', 'G-xG_OldT_DEF', 'np:G-xG_OldT_DEF', 'Cmp_OldT_DEF', 'Att_OldT_DEF', 'Cmp%_OldT_DEF', 'TotDist_OldT_DEF', 'PrgDist_OldT_DEF', 'Cmp.1_OldT_DEF', 'Att.1_OldT_DEF', 'Cmp%.1_OldT_DEF', 'Cmp.2_OldT_DEF', 'Att.2_OldT_DEF', 'Cmp%.2_OldT_DEF', 'Cmp.3_OldT_DEF', 'Att.3_OldT_DEF', 'Cmp%.3_OldT_DEF', 'A-xA_OldT_DEF', 'KP_OldT_DEF', '1/3_OldT_DEF', 'PPA_OldT_DEF', 'CrsPA_OldT_DEF', 'Prog_OldT_DEF', 'Live_OldT_DEF', 'Dead_OldT_DEF', 'TB_OldT_DEF', 'Press_OldT_DEF', 'Sw_OldT_DEF', 'Crs_OldT_DEF', 'CK_OldT_DEF', 'In_OldT_DEF', 'Out_OldT_DEF', 'Str_OldT_DEF', 'Ground_OldT_DEF', 'Low_OldT_DEF', 'High_OldT_DEF', 'Left_OldT_DEF', 'Right_OldT_DEF', 'Head_OldT_DEF', 'TI_OldT_DEF', 'Other_OldT_DEF', 'Off_OldT_DEF', 'Out.1_OldT_DEF', 'Int_OldT_DEF', 'Blocks_OldT_DEF', 'SCA_OldT_DEF', 'SCA90_OldT_DEF', 'PassLive_OldT_DEF', 'PassDead_OldT_DEF', 'Drib_OldT_DEF', 'Fld_OldT_DEF', 'Def_OldT_DEF', 'GCA_OldT_DEF', 'GCA90_OldT_DEF', 'PassLive.1_OldT_DEF', 'PassDead.1_OldT_DEF', 'Drib.1_OldT_DEF', 'Sh.1_OldT_DEF', 'Fld.1_OldT_DEF', 'Def.1_OldT_DEF', 'Tkl_OldT_DEF', 'TklW_OldT_DEF', 'Def 3rd_OldT_DEF', 'Mid 3rd_OldT_DEF', 'Att 3rd_OldT_DEF', 'Tkl.1_OldT_DEF', 'Tkl%_OldT_DEF', 'Past_OldT_DEF', 'Succ_OldT_DEF', '%_OldT_DEF', 'Def 3rd.1_OldT_DEF', 'Mid 3rd.1_OldT_DEF', 'Att 3rd.1_OldT_DEF', 'ShSv_OldT_DEF', 'Pass_OldT_DEF', 'Tkl+Int_OldT_DEF', 'Clr_OldT_DEF', 'Err_OldT_DEF', 'Touches_OldT_DEF', 'Def Pen_OldT_DEF', 'Att Pen_OldT_DEF', 'Succ%_OldT_DEF', '#Pl_OldT_DEF', 'Megs_OldT_DEF', 'Carries_OldT_DEF', 'CPA_OldT_DEF', 'Mis_OldT_DEF', 'Dis_OldT_DEF', 'Targ_OldT_DEF', 'Rec_OldT_DEF', 'Rec%_OldT_DEF', 'Prog.1_OldT_DEF', 'Mn/MP_OldT_DEF', 'Min%_OldT_DEF', 'Mn/Start_OldT_DEF', 'Compl_OldT_DEF', 'Subs_OldT_DEF', 'Mn/Sub_OldT_DEF', 'unSub_OldT_DEF', 'PPM_OldT_DEF', 'onG_OldT_DEF', 'onGA_OldT_DEF', '+/-_OldT_DEF', '+/-90_OldT_DEF', 'On-Off_OldT_DEF', 'onxG_OldT_DEF', 'onxGA_OldT_DEF', 'xG+/-_OldT_DEF', 'xG+/-90_OldT_DEF', 'On-Off.1_OldT_DEF', '2CrdY_OldT_DEF', 'Fls_OldT_DEF', 'PKwon_OldT_DEF', 'PKcon_OldT_DEF', 'OG_OldT_DEF', 'Recov_OldT_DEF', 'Won_OldT_DEF', 'Lost_OldT_DEF', 'Won%_OldT_DEF', 'Age_OldO_FWD', 'MP_OldO_FWD', 'Starts_OldO_FWD', 'Min_OldO_FWD', '90s_OldO_FWD', 'Gls_OldO_FWD', 'Ast_OldO_FWD', 'G-PK_OldO_FWD', 'PK_OldO_FWD', 'PKatt_OldO_FWD', 'CrdY_OldO_FWD', 'CrdR_OldO_FWD', 'Gls.1_OldO_FWD', 'Ast.1_OldO_FWD', 'G+A_OldO_FWD', 'G-PK.1_OldO_FWD', 'G+A-PK_OldO_FWD', 'xG_OldO_FWD', 'npxG_OldO_FWD', 'xA_OldO_FWD', 'npxG+xA_OldO_FWD', 'xG.1_OldO_FWD', 'xA.1_OldO_FWD', 'xG+xA_OldO_FWD', 'npxG.1_OldO_FWD', 'npxG+xA.1_OldO_FWD', 'Sh_OldO_FWD', 'SoT_OldO_FWD', 'SoT%_OldO_FWD', 'Sh/90_OldO_FWD', 'SoT/90_OldO_FWD', 'G/Sh_OldO_FWD', 'G/SoT_OldO_FWD', 'Dist_OldO_FWD', 'FK_OldO_FWD', 'npxG/Sh_OldO_FWD', 'G-xG_OldO_FWD', 'np:G-xG_OldO_FWD', 'Cmp_OldO_FWD', 'Att_OldO_FWD', 'Cmp%_OldO_FWD', 'TotDist_OldO_FWD', 'PrgDist_OldO_FWD', 'Cmp.1_OldO_FWD', 'Att.1_OldO_FWD', 'Cmp%.1_OldO_FWD', 'Cmp.2_OldO_FWD', 'Att.2_OldO_FWD', 'Cmp%.2_OldO_FWD', 'Cmp.3_OldO_FWD', 'Att.3_OldO_FWD', 'Cmp%.3_OldO_FWD', 'A-xA_OldO_FWD', 'KP_OldO_FWD', '1/3_OldO_FWD', 'PPA_OldO_FWD', 'CrsPA_OldO_FWD', 'Prog_OldO_FWD', 'Live_OldO_FWD', 'Dead_OldO_FWD', 'TB_OldO_FWD', 'Press_OldO_FWD', 'Sw_OldO_FWD', 'Crs_OldO_FWD', 'CK_OldO_FWD', 'In_OldO_FWD', 'Out_OldO_FWD', 'Str_OldO_FWD', 'Ground_OldO_FWD', 'Low_OldO_FWD', 'High_OldO_FWD', 'Left_OldO_FWD', 'Right_OldO_FWD', 'Head_OldO_FWD', 'TI_OldO_FWD', 'Other_OldO_FWD', 'Off_OldO_FWD', 'Out.1_OldO_FWD', 'Int_OldO_FWD', 'Blocks_OldO_FWD', 'SCA_OldO_FWD', 'SCA90_OldO_FWD', 'PassLive_OldO_FWD', 'PassDead_OldO_FWD', 'Drib_OldO_FWD', 'Fld_OldO_FWD', 'Def_OldO_FWD', 'GCA_OldO_FWD', 'GCA90_OldO_FWD', 'PassLive.1_OldO_FWD', 'PassDead.1_OldO_FWD', 'Drib.1_OldO_FWD', 'Sh.1_OldO_FWD', 'Fld.1_OldO_FWD', 'Def.1_OldO_FWD', 'Tkl_OldO_FWD', 'TklW_OldO_FWD', 'Def 3rd_OldO_FWD', 'Mid 3rd_OldO_FWD', 'Att 3rd_OldO_FWD', 'Tkl.1_OldO_FWD', 'Tkl%_OldO_FWD', 'Past_OldO_FWD', 'Succ_OldO_FWD', '%_OldO_FWD', 'Def 3rd.1_OldO_FWD', 'Mid 3rd.1_OldO_FWD', 'Att 3rd.1_OldO_FWD', 'ShSv_OldO_FWD', 'Pass_OldO_FWD', 'Tkl+Int_OldO_FWD', 'Clr_OldO_FWD', 'Err_OldO_FWD', 'Touches_OldO_FWD', 'Def Pen_OldO_FWD', 'Att Pen_OldO_FWD', 'Succ%_OldO_FWD', '#Pl_OldO_FWD', 'Megs_OldO_FWD', 'Carries_OldO_FWD', 'CPA_OldO_FWD', 'Mis_OldO_FWD', 'Dis_OldO_FWD', 'Targ_OldO_FWD', 'Rec_OldO_FWD', 'Rec%_OldO_FWD', 'Prog.1_OldO_FWD', 'Mn/MP_OldO_FWD', 'Min%_OldO_FWD', 'Mn/Start_OldO_FWD', 'Compl_OldO_FWD', 'Subs_OldO_FWD', 'Mn/Sub_OldO_FWD', 'unSub_OldO_FWD', 'PPM_OldO_FWD', 'onG_OldO_FWD', 'onGA_OldO_FWD', '+/-_OldO_FWD', '+/-90_OldO_FWD', 'On-Off_OldO_FWD', 'onxG_OldO_FWD', 'onxGA_OldO_FWD', 'xG+/-_OldO_FWD', 'xG+/-90_OldO_FWD', 'On-Off.1_OldO_FWD', '2CrdY_OldO_FWD', 'Fls_OldO_FWD', 'PKwon_OldO_FWD', 'PKcon_OldO_FWD', 'OG_OldO_FWD', 'Recov_OldO_FWD', 'Won_OldO_FWD', 'Lost_OldO_FWD', 'Won%_OldO_FWD', 'Age_OldO_MID', 'MP_OldO_MID', 'Starts_OldO_MID', 'Min_OldO_MID', '90s_OldO_MID', 'Gls_OldO_MID', 'Ast_OldO_MID', 'G-PK_OldO_MID', 'PK_OldO_MID', 'PKatt_OldO_MID', 'CrdY_OldO_MID', 'CrdR_OldO_MID', 'Gls.1_OldO_MID', 'Ast.1_OldO_MID', 'G+A_OldO_MID', 'G-PK.1_OldO_MID', 'G+A-PK_OldO_MID', 'xG_OldO_MID', 'npxG_OldO_MID', 'xA_OldO_MID', 'npxG+xA_OldO_MID', 'xG.1_OldO_MID', 'xA.1_OldO_MID', 'xG+xA_OldO_MID', 'npxG.1_OldO_MID', 'npxG+xA.1_OldO_MID', 'Sh_OldO_MID', 'SoT_OldO_MID', 'SoT%_OldO_MID', 'Sh/90_OldO_MID', 'SoT/90_OldO_MID', 'G/Sh_OldO_MID', 'G/SoT_OldO_MID', 'Dist_OldO_MID', 'FK_OldO_MID', 'npxG/Sh_OldO_MID', 'G-xG_OldO_MID', 'np:G-xG_OldO_MID', 'Cmp_OldO_MID', 'Att_OldO_MID', 'Cmp%_OldO_MID', 'TotDist_OldO_MID', 'PrgDist_OldO_MID', 'Cmp.1_OldO_MID', 'Att.1_OldO_MID', 'Cmp%.1_OldO_MID', 'Cmp.2_OldO_MID', 'Att.2_OldO_MID', 'Cmp%.2_OldO_MID', 'Cmp.3_OldO_MID', 'Att.3_OldO_MID', 'Cmp%.3_OldO_MID', 'A-xA_OldO_MID', 'KP_OldO_MID', '1/3_OldO_MID', 'PPA_OldO_MID', 'CrsPA_OldO_MID', 'Prog_OldO_MID', 'Live_OldO_MID', 'Dead_OldO_MID', 'TB_OldO_MID', 'Press_OldO_MID', 'Sw_OldO_MID', 'Crs_OldO_MID', 'CK_OldO_MID', 'In_OldO_MID', 'Out_OldO_MID', 'Str_OldO_MID', 'Ground_OldO_MID', 'Low_OldO_MID', 'High_OldO_MID', 'Left_OldO_MID', 'Right_OldO_MID', 'Head_OldO_MID', 'TI_OldO_MID', 'Other_OldO_MID', 'Off_OldO_MID', 'Out.1_OldO_MID', 'Int_OldO_MID', 'Blocks_OldO_MID', 'SCA_OldO_MID', 'SCA90_OldO_MID', 'PassLive_OldO_MID', 'PassDead_OldO_MID', 'Drib_OldO_MID', 'Fld_OldO_MID', 'Def_OldO_MID', 'GCA_OldO_MID', 'GCA90_OldO_MID', 'PassLive.1_OldO_MID', 'PassDead.1_OldO_MID', 'Drib.1_OldO_MID', 'Sh.1_OldO_MID', 'Fld.1_OldO_MID', 'Def.1_OldO_MID', 'Tkl_OldO_MID', 'TklW_OldO_MID', 'Def 3rd_OldO_MID', 'Mid 3rd_OldO_MID', 'Att 3rd_OldO_MID', 'Tkl.1_OldO_MID', 'Tkl%_OldO_MID', 'Past_OldO_MID', 'Succ_OldO_MID', '%_OldO_MID', 'Def 3rd.1_OldO_MID', 'Mid 3rd.1_OldO_MID', 'Att 3rd.1_OldO_MID', 'ShSv_OldO_MID', 'Pass_OldO_MID', 'Tkl+Int_OldO_MID', 'Clr_OldO_MID', 'Err_OldO_MID', 'Touches_OldO_MID', 'Def Pen_OldO_MID', 'Att Pen_OldO_MID', 'Succ%_OldO_MID', '#Pl_OldO_MID', 'Megs_OldO_MID', 'Carries_OldO_MID', 'CPA_OldO_MID', 'Mis_OldO_MID', 'Dis_OldO_MID', 'Targ_OldO_MID', 'Rec_OldO_MID', 'Rec%_OldO_MID', 'Prog.1_OldO_MID', 'Mn/MP_OldO_MID', 'Min%_OldO_MID', 'Mn/Start_OldO_MID', 'Compl_OldO_MID', 'Subs_OldO_MID', 'Mn/Sub_OldO_MID', 'unSub_OldO_MID', 'PPM_OldO_MID', 'onG_OldO_MID', 'onGA_OldO_MID', '+/-_OldO_MID', '+/-90_OldO_MID', 'On-Off_OldO_MID', 'onxG_OldO_MID', 'onxGA_OldO_MID', 'xG+/-_OldO_MID', 'xG+/-90_OldO_MID', 'On-Off.1_OldO_MID', '2CrdY_OldO_MID', 'Fls_OldO_MID', 'PKwon_OldO_MID', 'PKcon_OldO_MID', 'OG_OldO_MID', 'Recov_OldO_MID', 'Won_OldO_MID', 'Lost_OldO_MID', 'Won%_OldO_MID', 'Age_OldO_DEF', 'MP_OldO_DEF', 'Starts_OldO_DEF', 'Min_OldO_DEF', '90s_OldO_DEF', 'Gls_OldO_DEF', 'Ast_OldO_DEF', 'G-PK_OldO_DEF', 'PK_OldO_DEF', 'PKatt_OldO_DEF', 'CrdY_OldO_DEF', 'CrdR_OldO_DEF', 'Gls.1_OldO_DEF', 'Ast.1_OldO_DEF', 'G+A_OldO_DEF', 'G-PK.1_OldO_DEF', 'G+A-PK_OldO_DEF', 'xG_OldO_DEF', 'npxG_OldO_DEF', 'xA_OldO_DEF', 'npxG+xA_OldO_DEF', 'xG.1_OldO_DEF', 'xA.1_OldO_DEF', 'xG+xA_OldO_DEF', 'npxG.1_OldO_DEF', 'npxG+xA.1_OldO_DEF', 'Sh_OldO_DEF', 'SoT_OldO_DEF', 'SoT%_OldO_DEF', 'Sh/90_OldO_DEF', 'SoT/90_OldO_DEF', 'G/Sh_OldO_DEF', 'G/SoT_OldO_DEF', 'Dist_OldO_DEF', 'FK_OldO_DEF', 'npxG/Sh_OldO_DEF', 'G-xG_OldO_DEF', 'np:G-xG_OldO_DEF', 'Cmp_OldO_DEF', 'Att_OldO_DEF', 'Cmp%_OldO_DEF', 'TotDist_OldO_DEF', 'PrgDist_OldO_DEF', 'Cmp.1_OldO_DEF', 'Att.1_OldO_DEF', 'Cmp%.1_OldO_DEF', 'Cmp.2_OldO_DEF', 'Att.2_OldO_DEF', 'Cmp%.2_OldO_DEF', 'Cmp.3_OldO_DEF', 'Att.3_OldO_DEF', 'Cmp%.3_OldO_DEF', 'A-xA_OldO_DEF', 'KP_OldO_DEF', '1/3_OldO_DEF', 'PPA_OldO_DEF', 'CrsPA_OldO_DEF', 'Prog_OldO_DEF', 'Live_OldO_DEF', 'Dead_OldO_DEF', 'TB_OldO_DEF', 'Press_OldO_DEF', 'Sw_OldO_DEF', 'Crs_OldO_DEF', 'CK_OldO_DEF', 'In_OldO_DEF', 'Out_OldO_DEF', 'Str_OldO_DEF', 'Ground_OldO_DEF', 'Low_OldO_DEF', 'High_OldO_DEF', 'Left_OldO_DEF', 'Right_OldO_DEF', 'Head_OldO_DEF', 'TI_OldO_DEF', 'Other_OldO_DEF', 'Off_OldO_DEF', 'Out.1_OldO_DEF', 'Int_OldO_DEF', 'Blocks_OldO_DEF', 'SCA_OldO_DEF', 'SCA90_OldO_DEF', 'PassLive_OldO_DEF', 'PassDead_OldO_DEF', 'Drib_OldO_DEF', 'Fld_OldO_DEF', 'Def_OldO_DEF', 'GCA_OldO_DEF', 'GCA90_OldO_DEF', 'PassLive.1_OldO_DEF', 'PassDead.1_OldO_DEF', 'Drib.1_OldO_DEF', 'Sh.1_OldO_DEF', 'Fld.1_OldO_DEF', 'Def.1_OldO_DEF', 'Tkl_OldO_DEF', 'TklW_OldO_DEF', 'Def 3rd_OldO_DEF', 'Mid 3rd_OldO_DEF', 'Att 3rd_OldO_DEF', 'Tkl.1_OldO_DEF', 'Tkl%_OldO_DEF', 'Past_OldO_DEF', 'Succ_OldO_DEF', '%_OldO_DEF', 'Def 3rd.1_OldO_DEF', 'Mid 3rd.1_OldO_DEF', 'Att 3rd.1_OldO_DEF', 'ShSv_OldO_DEF', 'Pass_OldO_DEF', 'Tkl+Int_OldO_DEF', 'Clr_OldO_DEF', 'Err_OldO_DEF', 'Touches_OldO_DEF', 'Def Pen_OldO_DEF', 'Att Pen_OldO_DEF', 'Succ%_OldO_DEF', '#Pl_OldO_DEF', 'Megs_OldO_DEF', 'Carries_OldO_DEF', 'CPA_OldO_DEF', 'Mis_OldO_DEF', 'Dis_OldO_DEF', 'Targ_OldO_DEF', 'Rec_OldO_DEF', 'Rec%_OldO_DEF', 'Prog.1_OldO_DEF', 'Mn/MP_OldO_DEF', 'Min%_OldO_DEF', 'Mn/Start_OldO_DEF', 'Compl_OldO_DEF', 'Subs_OldO_DEF', 'Mn/Sub_OldO_DEF', 'unSub_OldO_DEF', 'PPM_OldO_DEF', 'onG_OldO_DEF', 'onGA_OldO_DEF', '+/-_OldO_DEF', '+/-90_OldO_DEF', 'On-Off_OldO_DEF', 'onxG_OldO_DEF', 'onxGA_OldO_DEF', 'xG+/-_OldO_DEF', 'xG+/-90_OldO_DEF', 'On-Off.1_OldO_DEF', '2CrdY_OldO_DEF', 'Fls_OldO_DEF', 'PKwon_OldO_DEF', 'PKcon_OldO_DEF', 'OG_OldO_DEF', 'Recov_OldO_DEF', 'Won_OldO_DEF', 'Lost_OldO_DEF', 'Won%_OldO_DEF', 'Age_NewT_FWD', 'MP_NewT_FWD', 'Starts_NewT_FWD', 'Min_NewT_FWD', '90s_NewT_FWD', 'Gls_NewT_FWD', 'Ast_NewT_FWD', 'G-PK_NewT_FWD', 'PK_NewT_FWD', 'PKatt_NewT_FWD', 'CrdY_NewT_FWD', 'CrdR_NewT_FWD', 'Gls.1_NewT_FWD', 'Ast.1_NewT_FWD', 'G+A_NewT_FWD', 'G-PK.1_NewT_FWD', 'G+A-PK_NewT_FWD', 'xG_NewT_FWD', 'npxG_NewT_FWD', 'xA_NewT_FWD', 'npxG+xA_NewT_FWD', 'xG.1_NewT_FWD', 'xA.1_NewT_FWD', 'xG+xA_NewT_FWD', 'npxG.1_NewT_FWD', 'npxG+xA.1_NewT_FWD', 'Sh_NewT_FWD', 'SoT_NewT_FWD', 'SoT%_NewT_FWD', 'Sh/90_NewT_FWD', 'SoT/90_NewT_FWD', 'G/Sh_NewT_FWD', 'G/SoT_NewT_FWD', 'Dist_NewT_FWD', 'FK_NewT_FWD', 'npxG/Sh_NewT_FWD', 'G-xG_NewT_FWD', 'np:G-xG_NewT_FWD', 'Cmp_NewT_FWD', 'Att_NewT_FWD', 'Cmp%_NewT_FWD', 'TotDist_NewT_FWD', 'PrgDist_NewT_FWD', 'Cmp.1_NewT_FWD', 'Att.1_NewT_FWD', 'Cmp%.1_NewT_FWD', 'Cmp.2_NewT_FWD', 'Att.2_NewT_FWD', 'Cmp%.2_NewT_FWD', 'Cmp.3_NewT_FWD', 'Att.3_NewT_FWD', 'Cmp%.3_NewT_FWD', 'A-xA_NewT_FWD', 'KP_NewT_FWD', '1/3_NewT_FWD', 'PPA_NewT_FWD', 'CrsPA_NewT_FWD', 'Prog_NewT_FWD', 'Live_NewT_FWD', 'Dead_NewT_FWD', 'TB_NewT_FWD', 'Press_NewT_FWD', 'Sw_NewT_FWD', 'Crs_NewT_FWD', 'CK_NewT_FWD', 'In_NewT_FWD', 'Out_NewT_FWD', 'Str_NewT_FWD', 'Ground_NewT_FWD', 'Low_NewT_FWD', 'High_NewT_FWD', 'Left_NewT_FWD', 'Right_NewT_FWD', 'Head_NewT_FWD', 'TI_NewT_FWD', 'Other_NewT_FWD', 'Off_NewT_FWD', 'Out.1_NewT_FWD', 'Int_NewT_FWD', 'Blocks_NewT_FWD', 'SCA_NewT_FWD', 'SCA90_NewT_FWD', 'PassLive_NewT_FWD', 'PassDead_NewT_FWD', 'Drib_NewT_FWD', 'Fld_NewT_FWD', 'Def_NewT_FWD', 'GCA_NewT_FWD', 'GCA90_NewT_FWD', 'PassLive.1_NewT_FWD', 'PassDead.1_NewT_FWD', 'Drib.1_NewT_FWD', 'Sh.1_NewT_FWD', 'Fld.1_NewT_FWD', 'Def.1_NewT_FWD', 'Tkl_NewT_FWD', 'TklW_NewT_FWD', 'Def 3rd_NewT_FWD', 'Mid 3rd_NewT_FWD', 'Att 3rd_NewT_FWD', 'Tkl.1_NewT_FWD', 'Tkl%_NewT_FWD', 'Past_NewT_FWD', 'Succ_NewT_FWD', '%_NewT_FWD', 'Def 3rd.1_NewT_FWD', 'Mid 3rd.1_NewT_FWD', 'Att 3rd.1_NewT_FWD', 'ShSv_NewT_FWD', 'Pass_NewT_FWD', 'Tkl+Int_NewT_FWD', 'Clr_NewT_FWD', 'Err_NewT_FWD', 'Touches_NewT_FWD', 'Def Pen_NewT_FWD', 'Att Pen_NewT_FWD', 'Succ%_NewT_FWD', '#Pl_NewT_FWD', 'Megs_NewT_FWD', 'Carries_NewT_FWD', 'CPA_NewT_FWD', 'Mis_NewT_FWD', 'Dis_NewT_FWD', 'Targ_NewT_FWD', 'Rec_NewT_FWD', 'Rec%_NewT_FWD', 'Prog.1_NewT_FWD', 'Mn/MP_NewT_FWD', 'Min%_NewT_FWD', 'Mn/Start_NewT_FWD', 'Compl_NewT_FWD', 'Subs_NewT_FWD', 'Mn/Sub_NewT_FWD', 'unSub_NewT_FWD', 'PPM_NewT_FWD', 'onG_NewT_FWD', 'onGA_NewT_FWD', '+/-_NewT_FWD', '+/-90_NewT_FWD', 'On-Off_NewT_FWD', 'onxG_NewT_FWD', 'onxGA_NewT_FWD', 'xG+/-_NewT_FWD', 'xG+/-90_NewT_FWD', 'On-Off.1_NewT_FWD', '2CrdY_NewT_FWD', 'Fls_NewT_FWD', 'PKwon_NewT_FWD', 'PKcon_NewT_FWD', 'OG_NewT_FWD', 'Recov_NewT_FWD', 'Won_NewT_FWD', 'Lost_NewT_FWD', 'Won%_NewT_FWD', 'Age_NewT_MID', 'MP_NewT_MID', 'Starts_NewT_MID', 'Min_NewT_MID', '90s_NewT_MID', 'Gls_NewT_MID', 'Ast_NewT_MID', 'G-PK_NewT_MID', 'PK_NewT_MID', 'PKatt_NewT_MID', 'CrdY_NewT_MID', 'CrdR_NewT_MID', 'Gls.1_NewT_MID', 'Ast.1_NewT_MID', 'G+A_NewT_MID', 'G-PK.1_NewT_MID', 'G+A-PK_NewT_MID', 'xG_NewT_MID', 'npxG_NewT_MID', 'xA_NewT_MID', 'npxG+xA_NewT_MID', 'xG.1_NewT_MID', 'xA.1_NewT_MID', 'xG+xA_NewT_MID', 'npxG.1_NewT_MID', 'npxG+xA.1_NewT_MID', 'Sh_NewT_MID', 'SoT_NewT_MID', 'SoT%_NewT_MID', 'Sh/90_NewT_MID', 'SoT/90_NewT_MID', 'G/Sh_NewT_MID', 'G/SoT_NewT_MID', 'Dist_NewT_MID', 'FK_NewT_MID', 'npxG/Sh_NewT_MID', 'G-xG_NewT_MID', 'np:G-xG_NewT_MID', 'Cmp_NewT_MID', 'Att_NewT_MID', 'Cmp%_NewT_MID', 'TotDist_NewT_MID', 'PrgDist_NewT_MID', 'Cmp.1_NewT_MID', 'Att.1_NewT_MID', 'Cmp%.1_NewT_MID', 'Cmp.2_NewT_MID', 'Att.2_NewT_MID', 'Cmp%.2_NewT_MID', 'Cmp.3_NewT_MID', 'Att.3_NewT_MID', 'Cmp%.3_NewT_MID', 'A-xA_NewT_MID', 'KP_NewT_MID', '1/3_NewT_MID', 'PPA_NewT_MID', 'CrsPA_NewT_MID', 'Prog_NewT_MID', 'Live_NewT_MID', 'Dead_NewT_MID', 'TB_NewT_MID', 'Press_NewT_MID', 'Sw_NewT_MID', 'Crs_NewT_MID', 'CK_NewT_MID', 'In_NewT_MID', 'Out_NewT_MID', 'Str_NewT_MID', 'Ground_NewT_MID', 'Low_NewT_MID', 'High_NewT_MID', 'Left_NewT_MID', 'Right_NewT_MID', 'Head_NewT_MID', 'TI_NewT_MID', 'Other_NewT_MID', 'Off_NewT_MID', 'Out.1_NewT_MID', 'Int_NewT_MID', 'Blocks_NewT_MID', 'SCA_NewT_MID', 'SCA90_NewT_MID', 'PassLive_NewT_MID', 'PassDead_NewT_MID', 'Drib_NewT_MID', 'Fld_NewT_MID', 'Def_NewT_MID', 'GCA_NewT_MID', 'GCA90_NewT_MID', 'PassLive.1_NewT_MID', 'PassDead.1_NewT_MID', 'Drib.1_NewT_MID', 'Sh.1_NewT_MID', 'Fld.1_NewT_MID', 'Def.1_NewT_MID', 'Tkl_NewT_MID', 'TklW_NewT_MID', 'Def 3rd_NewT_MID', 'Mid 3rd_NewT_MID', 'Att 3rd_NewT_MID', 'Tkl.1_NewT_MID', 'Tkl%_NewT_MID', 'Past_NewT_MID', 'Succ_NewT_MID', '%_NewT_MID', 'Def 3rd.1_NewT_MID', 'Mid 3rd.1_NewT_MID', 'Att 3rd.1_NewT_MID', 'ShSv_NewT_MID', 'Pass_NewT_MID', 'Tkl+Int_NewT_MID', 'Clr_NewT_MID', 'Err_NewT_MID', 'Touches_NewT_MID', 'Def Pen_NewT_MID', 'Att Pen_NewT_MID', 'Succ%_NewT_MID', '#Pl_NewT_MID', 'Megs_NewT_MID', 'Carries_NewT_MID', 'CPA_NewT_MID', 'Mis_NewT_MID', 'Dis_NewT_MID', 'Targ_NewT_MID', 'Rec_NewT_MID', 'Rec%_NewT_MID', 'Prog.1_NewT_MID', 'Mn/MP_NewT_MID', 'Min%_NewT_MID', 'Mn/Start_NewT_MID', 'Compl_NewT_MID', 'Subs_NewT_MID', 'Mn/Sub_NewT_MID', 'unSub_NewT_MID', 'PPM_NewT_MID', 'onG_NewT_MID', 'onGA_NewT_MID', '+/-_NewT_MID', '+/-90_NewT_MID', 'On-Off_NewT_MID', 'onxG_NewT_MID', 'onxGA_NewT_MID', 'xG+/-_NewT_MID', 'xG+/-90_NewT_MID', 'On-Off.1_NewT_MID', '2CrdY_NewT_MID', 'Fls_NewT_MID', 'PKwon_NewT_MID', 'PKcon_NewT_MID', 'OG_NewT_MID', 'Recov_NewT_MID', 'Won_NewT_MID', 'Lost_NewT_MID', 'Won%_NewT_MID', 'Age_NewT_DEF', 'MP_NewT_DEF', 'Starts_NewT_DEF', 'Min_NewT_DEF', '90s_NewT_DEF', 'Gls_NewT_DEF', 'Ast_NewT_DEF', 'G-PK_NewT_DEF', 'PK_NewT_DEF', 'PKatt_NewT_DEF', 'CrdY_NewT_DEF', 'CrdR_NewT_DEF', 'Gls.1_NewT_DEF', 'Ast.1_NewT_DEF', 'G+A_NewT_DEF', 'G-PK.1_NewT_DEF', 'G+A-PK_NewT_DEF', 'xG_NewT_DEF', 'npxG_NewT_DEF', 'xA_NewT_DEF', 'npxG+xA_NewT_DEF', 'xG.1_NewT_DEF', 'xA.1_NewT_DEF', 'xG+xA_NewT_DEF', 'npxG.1_NewT_DEF', 'npxG+xA.1_NewT_DEF', 'Sh_NewT_DEF', 'SoT_NewT_DEF', 'SoT%_NewT_DEF', 'Sh/90_NewT_DEF', 'SoT/90_NewT_DEF', 'G/Sh_NewT_DEF', 'G/SoT_NewT_DEF', 'Dist_NewT_DEF', 'FK_NewT_DEF', 'npxG/Sh_NewT_DEF', 'G-xG_NewT_DEF', 'np:G-xG_NewT_DEF', 'Cmp_NewT_DEF', 'Att_NewT_DEF', 'Cmp%_NewT_DEF', 'TotDist_NewT_DEF', 'PrgDist_NewT_DEF', 'Cmp.1_NewT_DEF', 'Att.1_NewT_DEF', 'Cmp%.1_NewT_DEF', 'Cmp.2_NewT_DEF', 'Att.2_NewT_DEF', 'Cmp%.2_NewT_DEF', 'Cmp.3_NewT_DEF', 'Att.3_NewT_DEF', 'Cmp%.3_NewT_DEF', 'A-xA_NewT_DEF', 'KP_NewT_DEF', '1/3_NewT_DEF', 'PPA_NewT_DEF', 'CrsPA_NewT_DEF', 'Prog_NewT_DEF', 'Live_NewT_DEF', 'Dead_NewT_DEF', 'TB_NewT_DEF', 'Press_NewT_DEF', 'Sw_NewT_DEF', 'Crs_NewT_DEF', 'CK_NewT_DEF', 'In_NewT_DEF', 'Out_NewT_DEF', 'Str_NewT_DEF', 'Ground_NewT_DEF', 'Low_NewT_DEF', 'High_NewT_DEF', 'Left_NewT_DEF', 'Right_NewT_DEF', 'Head_NewT_DEF', 'TI_NewT_DEF', 'Other_NewT_DEF', 'Off_NewT_DEF', 'Out.1_NewT_DEF', 'Int_NewT_DEF', 'Blocks_NewT_DEF', 'SCA_NewT_DEF', 'SCA90_NewT_DEF', 'PassLive_NewT_DEF', 'PassDead_NewT_DEF', 'Drib_NewT_DEF', 'Fld_NewT_DEF', 'Def_NewT_DEF', 'GCA_NewT_DEF', 'GCA90_NewT_DEF', 'PassLive.1_NewT_DEF', 'PassDead.1_NewT_DEF', 'Drib.1_NewT_DEF', 'Sh.1_NewT_DEF', 'Fld.1_NewT_DEF', 'Def.1_NewT_DEF', 'Tkl_NewT_DEF', 'TklW_NewT_DEF', 'Def 3rd_NewT_DEF', 'Mid 3rd_NewT_DEF', 'Att 3rd_NewT_DEF', 'Tkl.1_NewT_DEF', 'Tkl%_NewT_DEF', 'Past_NewT_DEF', 'Succ_NewT_DEF', '%_NewT_DEF', 'Def 3rd.1_NewT_DEF', 'Mid 3rd.1_NewT_DEF', 'Att 3rd.1_NewT_DEF', 'ShSv_NewT_DEF', 'Pass_NewT_DEF', 'Tkl+Int_NewT_DEF', 'Clr_NewT_DEF', 'Err_NewT_DEF', 'Touches_NewT_DEF', 'Def Pen_NewT_DEF', 'Att Pen_NewT_DEF', 'Succ%_NewT_DEF', '#Pl_NewT_DEF', 'Megs_NewT_DEF', 'Carries_NewT_DEF', 'CPA_NewT_DEF', 'Mis_NewT_DEF', 'Dis_NewT_DEF', 'Targ_NewT_DEF', 'Rec_NewT_DEF', 'Rec%_NewT_DEF', 'Prog.1_NewT_DEF', 'Mn/MP_NewT_DEF', 'Min%_NewT_DEF', 'Mn/Start_NewT_DEF', 'Compl_NewT_DEF', 'Subs_NewT_DEF', 'Mn/Sub_NewT_DEF', 'unSub_NewT_DEF', 'PPM_NewT_DEF', 'onG_NewT_DEF', 'onGA_NewT_DEF', '+/-_NewT_DEF', '+/-90_NewT_DEF', 'On-Off_NewT_DEF', 'onxG_NewT_DEF', 'onxGA_NewT_DEF', 'xG+/-_NewT_DEF', 'xG+/-90_NewT_DEF', 'On-Off.1_NewT_DEF', '2CrdY_NewT_DEF', 'Fls_NewT_DEF', 'PKwon_NewT_DEF', 'PKcon_NewT_DEF', 'OG_NewT_DEF', 'Recov_NewT_DEF', 'Won_NewT_DEF', 'Lost_NewT_DEF', 'Won%_NewT_DEF', 'Age_NewO_FWD', 'MP_NewO_FWD', 'Starts_NewO_FWD', 'Min_NewO_FWD', '90s_NewO_FWD', 'Gls_NewO_FWD', 'Ast_NewO_FWD', 'G-PK_NewO_FWD', 'PK_NewO_FWD', 'PKatt_NewO_FWD', 'CrdY_NewO_FWD', 'CrdR_NewO_FWD', 'Gls.1_NewO_FWD', 'Ast.1_NewO_FWD', 'G+A_NewO_FWD', 'G-PK.1_NewO_FWD', 'G+A-PK_NewO_FWD', 'xG_NewO_FWD', 'npxG_NewO_FWD', 'xA_NewO_FWD', 'npxG+xA_NewO_FWD', 'xG.1_NewO_FWD', 'xA.1_NewO_FWD', 'xG+xA_NewO_FWD', 'npxG.1_NewO_FWD', 'npxG+xA.1_NewO_FWD', 'Sh_NewO_FWD', 'SoT_NewO_FWD', 'SoT%_NewO_FWD', 'Sh/90_NewO_FWD', 'SoT/90_NewO_FWD', 'G/Sh_NewO_FWD', 'G/SoT_NewO_FWD', 'Dist_NewO_FWD', 'FK_NewO_FWD', 'npxG/Sh_NewO_FWD', 'G-xG_NewO_FWD', 'np:G-xG_NewO_FWD', 'Cmp_NewO_FWD', 'Att_NewO_FWD', 'Cmp%_NewO_FWD', 'TotDist_NewO_FWD', 'PrgDist_NewO_FWD', 'Cmp.1_NewO_FWD', 'Att.1_NewO_FWD', 'Cmp%.1_NewO_FWD', 'Cmp.2_NewO_FWD', 'Att.2_NewO_FWD', 'Cmp%.2_NewO_FWD', 'Cmp.3_NewO_FWD', 'Att.3_NewO_FWD', 'Cmp%.3_NewO_FWD', 'A-xA_NewO_FWD', 'KP_NewO_FWD', '1/3_NewO_FWD', 'PPA_NewO_FWD', 'CrsPA_NewO_FWD', 'Prog_NewO_FWD', 'Live_NewO_FWD', 'Dead_NewO_FWD', 'TB_NewO_FWD', 'Press_NewO_FWD', 'Sw_NewO_FWD', 'Crs_NewO_FWD', 'CK_NewO_FWD', 'In_NewO_FWD', 'Out_NewO_FWD', 'Str_NewO_FWD', 'Ground_NewO_FWD', 'Low_NewO_FWD', 'High_NewO_FWD', 'Left_NewO_FWD', 'Right_NewO_FWD', 'Head_NewO_FWD', 'TI_NewO_FWD', 'Other_NewO_FWD', 'Off_NewO_FWD', 'Out.1_NewO_FWD', 'Int_NewO_FWD', 'Blocks_NewO_FWD', 'SCA_NewO_FWD', 'SCA90_NewO_FWD', 'PassLive_NewO_FWD', 'PassDead_NewO_FWD', 'Drib_NewO_FWD', 'Fld_NewO_FWD', 'Def_NewO_FWD', 'GCA_NewO_FWD', 'GCA90_NewO_FWD', 'PassLive.1_NewO_FWD', 'PassDead.1_NewO_FWD', 'Drib.1_NewO_FWD', 'Sh.1_NewO_FWD', 'Fld.1_NewO_FWD', 'Def.1_NewO_FWD', 'Tkl_NewO_FWD', 'TklW_NewO_FWD', 'Def 3rd_NewO_FWD', 'Mid 3rd_NewO_FWD', 'Att 3rd_NewO_FWD', 'Tkl.1_NewO_FWD', 'Tkl%_NewO_FWD', 'Past_NewO_FWD', 'Succ_NewO_FWD', '%_NewO_FWD', 'Def 3rd.1_NewO_FWD', 'Mid 3rd.1_NewO_FWD', 'Att 3rd.1_NewO_FWD', 'ShSv_NewO_FWD', 'Pass_NewO_FWD', 'Tkl+Int_NewO_FWD', 'Clr_NewO_FWD', 'Err_NewO_FWD', 'Touches_NewO_FWD', 'Def Pen_NewO_FWD', 'Att Pen_NewO_FWD', 'Succ%_NewO_FWD', '#Pl_NewO_FWD', 'Megs_NewO_FWD', 'Carries_NewO_FWD', 'CPA_NewO_FWD', 'Mis_NewO_FWD', 'Dis_NewO_FWD', 'Targ_NewO_FWD', 'Rec_NewO_FWD', 'Rec%_NewO_FWD', 'Prog.1_NewO_FWD', 'Mn/MP_NewO_FWD', 'Min%_NewO_FWD', 'Mn/Start_NewO_FWD', 'Compl_NewO_FWD', 'Subs_NewO_FWD', 'Mn/Sub_NewO_FWD', 'unSub_NewO_FWD', 'PPM_NewO_FWD', 'onG_NewO_FWD', 'onGA_NewO_FWD', '+/-_NewO_FWD', '+/-90_NewO_FWD', 'On-Off_NewO_FWD', 'onxG_NewO_FWD', 'onxGA_NewO_FWD', 'xG+/-_NewO_FWD', 'xG+/-90_NewO_FWD', 'On-Off.1_NewO_FWD', '2CrdY_NewO_FWD', 'Fls_NewO_FWD', 'PKwon_NewO_FWD', 'PKcon_NewO_FWD', 'OG_NewO_FWD', 'Recov_NewO_FWD', 'Won_NewO_FWD', 'Lost_NewO_FWD', 'Won%_NewO_FWD', 'Age_NewO_MID', 'MP_NewO_MID', 'Starts_NewO_MID', 'Min_NewO_MID', '90s_NewO_MID', 'Gls_NewO_MID', 'Ast_NewO_MID', 'G-PK_NewO_MID', 'PK_NewO_MID', 'PKatt_NewO_MID', 'CrdY_NewO_MID', 'CrdR_NewO_MID', 'Gls.1_NewO_MID', 'Ast.1_NewO_MID', 'G+A_NewO_MID', 'G-PK.1_NewO_MID', 'G+A-PK_NewO_MID', 'xG_NewO_MID', 'npxG_NewO_MID', 'xA_NewO_MID', 'npxG+xA_NewO_MID', 'xG.1_NewO_MID', 'xA.1_NewO_MID', 'xG+xA_NewO_MID', 'npxG.1_NewO_MID', 'npxG+xA.1_NewO_MID', 'Sh_NewO_MID', 'SoT_NewO_MID', 'SoT%_NewO_MID', 'Sh/90_NewO_MID', 'SoT/90_NewO_MID', 'G/Sh_NewO_MID', 'G/SoT_NewO_MID', 'Dist_NewO_MID', 'FK_NewO_MID', 'npxG/Sh_NewO_MID', 'G-xG_NewO_MID', 'np:G-xG_NewO_MID', 'Cmp_NewO_MID', 'Att_NewO_MID', 'Cmp%_NewO_MID', 'TotDist_NewO_MID', 'PrgDist_NewO_MID', 'Cmp.1_NewO_MID', 'Att.1_NewO_MID', 'Cmp%.1_NewO_MID', 'Cmp.2_NewO_MID', 'Att.2_NewO_MID', 'Cmp%.2_NewO_MID', 'Cmp.3_NewO_MID', 'Att.3_NewO_MID', 'Cmp%.3_NewO_MID', 'A-xA_NewO_MID', 'KP_NewO_MID', '1/3_NewO_MID', 'PPA_NewO_MID', 'CrsPA_NewO_MID', 'Prog_NewO_MID', 'Live_NewO_MID', 'Dead_NewO_MID', 'TB_NewO_MID', 'Press_NewO_MID', 'Sw_NewO_MID', 'Crs_NewO_MID', 'CK_NewO_MID', 'In_NewO_MID', 'Out_NewO_MID', 'Str_NewO_MID', 'Ground_NewO_MID', 'Low_NewO_MID', 'High_NewO_MID', 'Left_NewO_MID', 'Right_NewO_MID', 'Head_NewO_MID', 'TI_NewO_MID', 'Other_NewO_MID', 'Off_NewO_MID', 'Out.1_NewO_MID', 'Int_NewO_MID', 'Blocks_NewO_MID', 'SCA_NewO_MID', 'SCA90_NewO_MID', 'PassLive_NewO_MID', 'PassDead_NewO_MID', 'Drib_NewO_MID', 'Fld_NewO_MID', 'Def_NewO_MID', 'GCA_NewO_MID', 'GCA90_NewO_MID', 'PassLive.1_NewO_MID', 'PassDead.1_NewO_MID', 'Drib.1_NewO_MID', 'Sh.1_NewO_MID', 'Fld.1_NewO_MID', 'Def.1_NewO_MID', 'Tkl_NewO_MID', 'TklW_NewO_MID', 'Def 3rd_NewO_MID', 'Mid 3rd_NewO_MID', 'Att 3rd_NewO_MID', 'Tkl.1_NewO_MID', 'Tkl%_NewO_MID', 'Past_NewO_MID', 'Succ_NewO_MID', '%_NewO_MID', 'Def 3rd.1_NewO_MID', 'Mid 3rd.1_NewO_MID', 'Att 3rd.1_NewO_MID', 'ShSv_NewO_MID', 'Pass_NewO_MID', 'Tkl+Int_NewO_MID', 'Clr_NewO_MID', 'Err_NewO_MID', 'Touches_NewO_MID', 'Def Pen_NewO_MID', 'Att Pen_NewO_MID', 'Succ%_NewO_MID', '#Pl_NewO_MID', 'Megs_NewO_MID', 'Carries_NewO_MID', 'CPA_NewO_MID', 'Mis_NewO_MID', 'Dis_NewO_MID', 'Targ_NewO_MID', 'Rec_NewO_MID', 'Rec%_NewO_MID', 'Prog.1_NewO_MID', 'Mn/MP_NewO_MID', 'Min%_NewO_MID', 'Mn/Start_NewO_MID', 'Compl_NewO_MID', 'Subs_NewO_MID', 'Mn/Sub_NewO_MID', 'unSub_NewO_MID', 'PPM_NewO_MID', 'onG_NewO_MID', 'onGA_NewO_MID', '+/-_NewO_MID', '+/-90_NewO_MID', 'On-Off_NewO_MID', 'onxG_NewO_MID', 'onxGA_NewO_MID', 'xG+/-_NewO_MID', 'xG+/-90_NewO_MID', 'On-Off.1_NewO_MID', '2CrdY_NewO_MID', 'Fls_NewO_MID', 'PKwon_NewO_MID', 'PKcon_NewO_MID', 'OG_NewO_MID', 'Recov_NewO_MID', 'Won_NewO_MID', 'Lost_NewO_MID', 'Won%_NewO_MID', 'Age_NewO_DEF', 'MP_NewO_DEF', 'Starts_NewO_DEF', 'Min_NewO_DEF', '90s_NewO_DEF', 'Gls_NewO_DEF', 'Ast_NewO_DEF', 'G-PK_NewO_DEF', 'PK_NewO_DEF', 'PKatt_NewO_DEF', 'CrdY_NewO_DEF', 'CrdR_NewO_DEF', 'Gls.1_NewO_DEF', 'Ast.1_NewO_DEF', 'G+A_NewO_DEF', 'G-PK.1_NewO_DEF', 'G+A-PK_NewO_DEF', 'xG_NewO_DEF', 'npxG_NewO_DEF', 'xA_NewO_DEF', 'npxG+xA_NewO_DEF', 'xG.1_NewO_DEF', 'xA.1_NewO_DEF', 'xG+xA_NewO_DEF', 'npxG.1_NewO_DEF', 'npxG+xA.1_NewO_DEF', 'Sh_NewO_DEF', 'SoT_NewO_DEF', 'SoT%_NewO_DEF', 'Sh/90_NewO_DEF', 'SoT/90_NewO_DEF', 'G/Sh_NewO_DEF', 'G/SoT_NewO_DEF', 'Dist_NewO_DEF', 'FK_NewO_DEF', 'npxG/Sh_NewO_DEF', 'G-xG_NewO_DEF', 'np:G-xG_NewO_DEF', 'Cmp_NewO_DEF', 'Att_NewO_DEF', 'Cmp%_NewO_DEF', 'TotDist_NewO_DEF', 'PrgDist_NewO_DEF', 'Cmp.1_NewO_DEF', 'Att.1_NewO_DEF', 'Cmp%.1_NewO_DEF', 'Cmp.2_NewO_DEF', 'Att.2_NewO_DEF', 'Cmp%.2_NewO_DEF', 'Cmp.3_NewO_DEF', 'Att.3_NewO_DEF', 'Cmp%.3_NewO_DEF', 'A-xA_NewO_DEF', 'KP_NewO_DEF', '1/3_NewO_DEF', 'PPA_NewO_DEF', 'CrsPA_NewO_DEF', 'Prog_NewO_DEF', 'Live_NewO_DEF', 'Dead_NewO_DEF', 'TB_NewO_DEF', 'Press_NewO_DEF', 'Sw_NewO_DEF', 'Crs_NewO_DEF', 'CK_NewO_DEF', 'In_NewO_DEF', 'Out_NewO_DEF', 'Str_NewO_DEF', 'Ground_NewO_DEF', 'Low_NewO_DEF', 'High_NewO_DEF', 'Left_NewO_DEF', 'Right_NewO_DEF', 'Head_NewO_DEF', 'TI_NewO_DEF', 'Other_NewO_DEF', 'Off_NewO_DEF', 'Out.1_NewO_DEF', 'Int_NewO_DEF', 'Blocks_NewO_DEF', 'SCA_NewO_DEF', 'SCA90_NewO_DEF', 'PassLive_NewO_DEF', 'PassDead_NewO_DEF', 'Drib_NewO_DEF', 'Fld_NewO_DEF', 'Def_NewO_DEF', 'GCA_NewO_DEF', 'GCA90_NewO_DEF', 'PassLive.1_NewO_DEF', 'PassDead.1_NewO_DEF', 'Drib.1_NewO_DEF', 'Sh.1_NewO_DEF', 'Fld.1_NewO_DEF', 'Def.1_NewO_DEF', 'Tkl_NewO_DEF', 'TklW_NewO_DEF', 'Def 3rd_NewO_DEF', 'Mid 3rd_NewO_DEF', 'Att 3rd_NewO_DEF', 'Tkl.1_NewO_DEF', 'Tkl%_NewO_DEF', 'Past_NewO_DEF', 'Succ_NewO_DEF', '%_NewO_DEF', 'Def 3rd.1_NewO_DEF', 'Mid 3rd.1_NewO_DEF', 'Att 3rd.1_NewO_DEF', 'ShSv_NewO_DEF', 'Pass_NewO_DEF', 'Tkl+Int_NewO_DEF', 'Clr_NewO_DEF', 'Err_NewO_DEF', 'Touches_NewO_DEF', 'Def Pen_NewO_DEF', 'Att Pen_NewO_DEF', 'Succ%_NewO_DEF', '#Pl_NewO_DEF', 'Megs_NewO_DEF', 'Carries_NewO_DEF', 'CPA_NewO_DEF', 'Mis_NewO_DEF', 'Dis_NewO_DEF', 'Targ_NewO_DEF', 'Rec_NewO_DEF', 'Rec%_NewO_DEF', 'Prog.1_NewO_DEF', 'Mn/MP_NewO_DEF', 'Min%_NewO_DEF', 'Mn/Start_NewO_DEF', 'Compl_NewO_DEF', 'Subs_NewO_DEF', 'Mn/Sub_NewO_DEF', 'unSub_NewO_DEF', 'PPM_NewO_DEF', 'onG_NewO_DEF', 'onGA_NewO_DEF', '+/-_NewO_DEF', '+/-90_NewO_DEF', 'On-Off_NewO_DEF', 'onxG_NewO_DEF', 'onxGA_NewO_DEF', 'xG+/-_NewO_DEF', 'xG+/-90_NewO_DEF', 'On-Off.1_NewO_DEF', '2CrdY_NewO_DEF', 'Fls_NewO_DEF', 'PKwon_NewO_DEF', 'PKcon_NewO_DEF', 'OG_NewO_DEF', 'Recov_NewO_DEF', 'Won_NewO_DEF', 'Lost_NewO_DEF', 'Won%_NewO_DEF', 'Matches_NewT_MID', 'Matches_NewT_DEF', 'Matches_NewT_FWD']\n"
          ]
        }
      ]
    },
    {
      "cell_type": "code",
      "source": [
        "to_delete = [\"Sh\", \"SoT\", \"SoT%\", \"Sh/90\", \"SoT/90\", \"G/Sh\", \"G/SoT\", \"Dist\", \"FK\", \"npxG/Sh\", \"G-xG\", \"np:G-xG\"]\n",
        "#cols_to_drop = [col for col in df.columns if 'DEF' in col and any(stats in col for stats in to_delete)]\n",
        "cols_to_drop_DEF = []\n",
        "for col in df.columns:\n",
        "  for stats in to_delete:\n",
        "    if col.startswith(stats+\"_\") and 'DEF' in col:\n",
        "      cols_to_drop_DEF.append(col)\n",
        "\n",
        "#for i in cols_to_drop_DEF:\n",
        "  #print(i)\n",
        "\n",
        "df = df.drop(columns=cols_to_drop_DEF)\n",
        "for i in df.columns.values.tolist():\n",
        "  print(i)"
      ],
      "metadata": {
        "id": "_UCKT9v1w-9L"
      },
      "execution_count": null,
      "outputs": []
    },
    {
      "cell_type": "code",
      "source": [
        "df.shape"
      ],
      "metadata": {
        "colab": {
          "base_uri": "https://localhost:8080/"
        },
        "id": "9DZbEuO03k5P",
        "outputId": "79c1a917-5d60-4041-a5a4-ecce3e6f6266"
      },
      "execution_count": null,
      "outputs": [
        {
          "output_type": "execute_result",
          "data": {
            "text/plain": [
              "(1997, 2151)"
            ]
          },
          "metadata": {},
          "execution_count": 11
        }
      ]
    },
    {
      "cell_type": "markdown",
      "source": [
        "Further deletion of def stats, #2\n",
        "SCA\n",
        "SCA90\n",
        "PassLive\n",
        "PassDead\n",
        "Drib\n",
        "Fld\n",
        "Def\n",
        "GCA\n",
        "GCA90"
      ],
      "metadata": {
        "id": "wJ0iPm-74MIJ"
      }
    },
    {
      "cell_type": "code",
      "source": [
        "def dropStats(stats_del, pos):\n",
        "  cols_drop = []\n",
        "  for col in df.columns:\n",
        "    for stats in stats_del:\n",
        "      if col.startswith(stats+\"_\") and pos in col:\n",
        "        cols_drop.append(col)\n",
        "\n",
        "  print(cols_drop)\n",
        "  print(len(cols_drop))\n",
        "  return(cols_drop)\n",
        "\n",
        "print(df.shape)\n",
        "stats = [\"SCA\", \"SCA90\", \"PassLive\", \"PassDead\", \"Drib\", \"Fld\", \"Def\", \"GCA\", \"GCA90\"]\n",
        "cols_drop = dropStats(stats, 'DEF')\n",
        "df = df.drop(columns=cols_drop)\n",
        "print(df.shape)"
      ],
      "metadata": {
        "colab": {
          "base_uri": "https://localhost:8080/"
        },
        "id": "egNAWWbu4SDk",
        "outputId": "85925981-9e10-437b-be42-ece1f27ca2cc"
      },
      "execution_count": null,
      "outputs": [
        {
          "output_type": "stream",
          "name": "stdout",
          "text": [
            "(1997, 2151)\n",
            "['SCA_OldT_DEF', 'SCA90_OldT_DEF', 'PassLive_OldT_DEF', 'PassDead_OldT_DEF', 'Drib_OldT_DEF', 'Fld_OldT_DEF', 'Def_OldT_DEF', 'GCA_OldT_DEF', 'GCA90_OldT_DEF', 'SCA_OldO_DEF', 'SCA90_OldO_DEF', 'PassLive_OldO_DEF', 'PassDead_OldO_DEF', 'Drib_OldO_DEF', 'Fld_OldO_DEF', 'Def_OldO_DEF', 'GCA_OldO_DEF', 'GCA90_OldO_DEF', 'SCA_NewT_DEF', 'SCA90_NewT_DEF', 'PassLive_NewT_DEF', 'PassDead_NewT_DEF', 'Drib_NewT_DEF', 'Fld_NewT_DEF', 'Def_NewT_DEF', 'GCA_NewT_DEF', 'GCA90_NewT_DEF', 'SCA_NewO_DEF', 'SCA90_NewO_DEF', 'PassLive_NewO_DEF', 'PassDead_NewO_DEF', 'Drib_NewO_DEF', 'Fld_NewO_DEF', 'Def_NewO_DEF', 'GCA_NewO_DEF', 'GCA90_NewO_DEF']\n",
            "36\n",
            "(1997, 2115)\n"
          ]
        }
      ]
    },
    {
      "cell_type": "markdown",
      "source": [
        "Dropping Playing time and miscalaneous stats for all aggregated\n"
      ],
      "metadata": {
        "id": "i7xcVBTA6Xrn"
      }
    },
    {
      "cell_type": "code",
      "source": [
        "stats = [\"Mn/MP\", \"Min%\", \"Mn/Start\", \"Subs\", \"Mn/Sub\", \"unSub\", \"PPM\", \"onG\", \"onGA\", \"+/-\", \"+/-90\", \"On-Off\", \"onxG\", \"onxGA\", \"xG+/-\", \"xG+/-90\", \"2CrdY\", \"Fls\", \"PKwon\", \"PKcon\", \"OG\", \"Recov\", \"Won\", \"Lost\", \"Won%\"]\n",
        "cols_drop = dropStats(stats, 'DEF')\n",
        "df = df.drop(columns=cols_drop)\n",
        "print(df.shape)\n",
        "\n",
        "cols_drop = dropStats(stats, 'MID')\n",
        "df = df.drop(columns=cols_drop)\n",
        "print(df.shape)\n",
        "\n",
        "cols_drop = dropStats(stats, 'FWD')\n",
        "df = df.drop(columns=cols_drop)\n",
        "print(df.shape)\n",
        "\n",
        "print(df.columns.values.tolist())\n",
        "pd.reset_option('display.max_rows', None)\n"
      ],
      "metadata": {
        "colab": {
          "base_uri": "https://localhost:8080/"
        },
        "id": "fJb8OXyE6XNs",
        "outputId": "33f0ab68-7257-4a3d-e01b-92e4ba9b972a"
      },
      "execution_count": null,
      "outputs": [
        {
          "output_type": "stream",
          "name": "stdout",
          "text": [
            "['Mn/MP_OldT_DEF', 'Min%_OldT_DEF', 'Mn/Start_OldT_DEF', 'Subs_OldT_DEF', 'Mn/Sub_OldT_DEF', 'unSub_OldT_DEF', 'PPM_OldT_DEF', 'onG_OldT_DEF', 'onGA_OldT_DEF', '+/-_OldT_DEF', '+/-90_OldT_DEF', 'On-Off_OldT_DEF', 'onxG_OldT_DEF', 'onxGA_OldT_DEF', 'xG+/-_OldT_DEF', 'xG+/-90_OldT_DEF', '2CrdY_OldT_DEF', 'Fls_OldT_DEF', 'PKwon_OldT_DEF', 'PKcon_OldT_DEF', 'OG_OldT_DEF', 'Recov_OldT_DEF', 'Won_OldT_DEF', 'Lost_OldT_DEF', 'Won%_OldT_DEF', 'Mn/MP_OldO_DEF', 'Min%_OldO_DEF', 'Mn/Start_OldO_DEF', 'Subs_OldO_DEF', 'Mn/Sub_OldO_DEF', 'unSub_OldO_DEF', 'PPM_OldO_DEF', 'onG_OldO_DEF', 'onGA_OldO_DEF', '+/-_OldO_DEF', '+/-90_OldO_DEF', 'On-Off_OldO_DEF', 'onxG_OldO_DEF', 'onxGA_OldO_DEF', 'xG+/-_OldO_DEF', 'xG+/-90_OldO_DEF', '2CrdY_OldO_DEF', 'Fls_OldO_DEF', 'PKwon_OldO_DEF', 'PKcon_OldO_DEF', 'OG_OldO_DEF', 'Recov_OldO_DEF', 'Won_OldO_DEF', 'Lost_OldO_DEF', 'Won%_OldO_DEF', 'Mn/MP_NewT_DEF', 'Min%_NewT_DEF', 'Mn/Start_NewT_DEF', 'Subs_NewT_DEF', 'Mn/Sub_NewT_DEF', 'unSub_NewT_DEF', 'PPM_NewT_DEF', 'onG_NewT_DEF', 'onGA_NewT_DEF', '+/-_NewT_DEF', '+/-90_NewT_DEF', 'On-Off_NewT_DEF', 'onxG_NewT_DEF', 'onxGA_NewT_DEF', 'xG+/-_NewT_DEF', 'xG+/-90_NewT_DEF', '2CrdY_NewT_DEF', 'Fls_NewT_DEF', 'PKwon_NewT_DEF', 'PKcon_NewT_DEF', 'OG_NewT_DEF', 'Recov_NewT_DEF', 'Won_NewT_DEF', 'Lost_NewT_DEF', 'Won%_NewT_DEF', 'Mn/MP_NewO_DEF', 'Min%_NewO_DEF', 'Mn/Start_NewO_DEF', 'Subs_NewO_DEF', 'Mn/Sub_NewO_DEF', 'unSub_NewO_DEF', 'PPM_NewO_DEF', 'onG_NewO_DEF', 'onGA_NewO_DEF', '+/-_NewO_DEF', '+/-90_NewO_DEF', 'On-Off_NewO_DEF', 'onxG_NewO_DEF', 'onxGA_NewO_DEF', 'xG+/-_NewO_DEF', 'xG+/-90_NewO_DEF', '2CrdY_NewO_DEF', 'Fls_NewO_DEF', 'PKwon_NewO_DEF', 'PKcon_NewO_DEF', 'OG_NewO_DEF', 'Recov_NewO_DEF', 'Won_NewO_DEF', 'Lost_NewO_DEF', 'Won%_NewO_DEF']\n",
            "100\n",
            "(1997, 2015)\n",
            "['Mn/MP_OldT_MID', 'Min%_OldT_MID', 'Mn/Start_OldT_MID', 'Subs_OldT_MID', 'Mn/Sub_OldT_MID', 'unSub_OldT_MID', 'PPM_OldT_MID', 'onG_OldT_MID', 'onGA_OldT_MID', '+/-_OldT_MID', '+/-90_OldT_MID', 'On-Off_OldT_MID', 'onxG_OldT_MID', 'onxGA_OldT_MID', 'xG+/-_OldT_MID', 'xG+/-90_OldT_MID', '2CrdY_OldT_MID', 'Fls_OldT_MID', 'PKwon_OldT_MID', 'PKcon_OldT_MID', 'OG_OldT_MID', 'Recov_OldT_MID', 'Won_OldT_MID', 'Lost_OldT_MID', 'Won%_OldT_MID', 'Mn/MP_OldO_MID', 'Min%_OldO_MID', 'Mn/Start_OldO_MID', 'Subs_OldO_MID', 'Mn/Sub_OldO_MID', 'unSub_OldO_MID', 'PPM_OldO_MID', 'onG_OldO_MID', 'onGA_OldO_MID', '+/-_OldO_MID', '+/-90_OldO_MID', 'On-Off_OldO_MID', 'onxG_OldO_MID', 'onxGA_OldO_MID', 'xG+/-_OldO_MID', 'xG+/-90_OldO_MID', '2CrdY_OldO_MID', 'Fls_OldO_MID', 'PKwon_OldO_MID', 'PKcon_OldO_MID', 'OG_OldO_MID', 'Recov_OldO_MID', 'Won_OldO_MID', 'Lost_OldO_MID', 'Won%_OldO_MID', 'Mn/MP_NewT_MID', 'Min%_NewT_MID', 'Mn/Start_NewT_MID', 'Subs_NewT_MID', 'Mn/Sub_NewT_MID', 'unSub_NewT_MID', 'PPM_NewT_MID', 'onG_NewT_MID', 'onGA_NewT_MID', '+/-_NewT_MID', '+/-90_NewT_MID', 'On-Off_NewT_MID', 'onxG_NewT_MID', 'onxGA_NewT_MID', 'xG+/-_NewT_MID', 'xG+/-90_NewT_MID', '2CrdY_NewT_MID', 'Fls_NewT_MID', 'PKwon_NewT_MID', 'PKcon_NewT_MID', 'OG_NewT_MID', 'Recov_NewT_MID', 'Won_NewT_MID', 'Lost_NewT_MID', 'Won%_NewT_MID', 'Mn/MP_NewO_MID', 'Min%_NewO_MID', 'Mn/Start_NewO_MID', 'Subs_NewO_MID', 'Mn/Sub_NewO_MID', 'unSub_NewO_MID', 'PPM_NewO_MID', 'onG_NewO_MID', 'onGA_NewO_MID', '+/-_NewO_MID', '+/-90_NewO_MID', 'On-Off_NewO_MID', 'onxG_NewO_MID', 'onxGA_NewO_MID', 'xG+/-_NewO_MID', 'xG+/-90_NewO_MID', '2CrdY_NewO_MID', 'Fls_NewO_MID', 'PKwon_NewO_MID', 'PKcon_NewO_MID', 'OG_NewO_MID', 'Recov_NewO_MID', 'Won_NewO_MID', 'Lost_NewO_MID', 'Won%_NewO_MID']\n",
            "100\n",
            "(1997, 1915)\n",
            "['Mn/MP_OldT_FWD', 'Min%_OldT_FWD', 'Mn/Start_OldT_FWD', 'Subs_OldT_FWD', 'Mn/Sub_OldT_FWD', 'unSub_OldT_FWD', 'PPM_OldT_FWD', 'onG_OldT_FWD', 'onGA_OldT_FWD', '+/-_OldT_FWD', '+/-90_OldT_FWD', 'On-Off_OldT_FWD', 'onxG_OldT_FWD', 'onxGA_OldT_FWD', 'xG+/-_OldT_FWD', 'xG+/-90_OldT_FWD', '2CrdY_OldT_FWD', 'Fls_OldT_FWD', 'PKwon_OldT_FWD', 'PKcon_OldT_FWD', 'OG_OldT_FWD', 'Recov_OldT_FWD', 'Won_OldT_FWD', 'Lost_OldT_FWD', 'Won%_OldT_FWD', 'Mn/MP_OldO_FWD', 'Min%_OldO_FWD', 'Mn/Start_OldO_FWD', 'Subs_OldO_FWD', 'Mn/Sub_OldO_FWD', 'unSub_OldO_FWD', 'PPM_OldO_FWD', 'onG_OldO_FWD', 'onGA_OldO_FWD', '+/-_OldO_FWD', '+/-90_OldO_FWD', 'On-Off_OldO_FWD', 'onxG_OldO_FWD', 'onxGA_OldO_FWD', 'xG+/-_OldO_FWD', 'xG+/-90_OldO_FWD', '2CrdY_OldO_FWD', 'Fls_OldO_FWD', 'PKwon_OldO_FWD', 'PKcon_OldO_FWD', 'OG_OldO_FWD', 'Recov_OldO_FWD', 'Won_OldO_FWD', 'Lost_OldO_FWD', 'Won%_OldO_FWD', 'Mn/MP_NewT_FWD', 'Min%_NewT_FWD', 'Mn/Start_NewT_FWD', 'Subs_NewT_FWD', 'Mn/Sub_NewT_FWD', 'unSub_NewT_FWD', 'PPM_NewT_FWD', 'onG_NewT_FWD', 'onGA_NewT_FWD', '+/-_NewT_FWD', '+/-90_NewT_FWD', 'On-Off_NewT_FWD', 'onxG_NewT_FWD', 'onxGA_NewT_FWD', 'xG+/-_NewT_FWD', 'xG+/-90_NewT_FWD', '2CrdY_NewT_FWD', 'Fls_NewT_FWD', 'PKwon_NewT_FWD', 'PKcon_NewT_FWD', 'OG_NewT_FWD', 'Recov_NewT_FWD', 'Won_NewT_FWD', 'Lost_NewT_FWD', 'Won%_NewT_FWD', 'Mn/MP_NewO_FWD', 'Min%_NewO_FWD', 'Mn/Start_NewO_FWD', 'Subs_NewO_FWD', 'Mn/Sub_NewO_FWD', 'unSub_NewO_FWD', 'PPM_NewO_FWD', 'onG_NewO_FWD', 'onGA_NewO_FWD', '+/-_NewO_FWD', '+/-90_NewO_FWD', 'On-Off_NewO_FWD', 'onxG_NewO_FWD', 'onxGA_NewO_FWD', 'xG+/-_NewO_FWD', 'xG+/-90_NewO_FWD', '2CrdY_NewO_FWD', 'Fls_NewO_FWD', 'PKwon_NewO_FWD', 'PKcon_NewO_FWD', 'OG_NewO_FWD', 'Recov_NewO_FWD', 'Won_NewO_FWD', 'Lost_NewO_FWD', 'Won%_NewO_FWD']\n",
            "100\n",
            "(1997, 1815)\n",
            "['Unnamed: 0', 'Player', 'Nation_x', 'Pos_x', 'Squad_x', 'Comp_x', 'Age_x', 'MP_x', 'Starts_x', 'Min_x', '90s_x', 'Gls_x', 'Ast_x', 'G-PK_x', 'PK_x', 'PKatt_x', 'CrdY_x', 'CrdR_x', 'Gls.1_x', 'Ast.1_x', 'G+A_x', 'G-PK.1_x', 'G+A-PK_x', 'xG_x', 'npxG_x', 'xA_x', 'npxG+xA_x', 'xG.1_x', 'xA.1_x', 'xG+xA_x', 'npxG.1_x', 'npxG+xA.1_x', 'Matches_x', 'Sh_x', 'SoT_x', 'SoT%_x', 'Sh/90_x', 'SoT/90_x', 'G/Sh_x', 'G/SoT_x', 'Dist_x', 'FK_x', 'npxG/Sh_x', 'G-xG_x', 'np:G-xG_x', 'Cmp_x', 'Att_x', 'Cmp%_x', 'TotDist_x', 'PrgDist_x', 'Cmp.1_x', 'Att.1_x', 'Cmp%.1_x', 'Cmp.2_x', 'Att.2_x', 'Cmp%.2_x', 'Cmp.3_x', 'Att.3_x', 'Cmp%.3_x', 'A-xA_x', 'KP_x', '1/3_x', 'PPA_x', 'CrsPA_x', 'Prog_x', 'Live_x', 'Dead_x', 'TB_x', 'Press_x', 'Sw_x', 'Crs_x', 'CK_x', 'In_x', 'Out_x', 'Str_x', 'Ground_x', 'Low_x', 'High_x', 'Left_x', 'Right_x', 'Head_x', 'TI_x', 'Other_x', 'Off_x', 'Out.1_x', 'Int_x', 'Blocks_x', 'SCA_x', 'SCA90_x', 'PassLive_x', 'PassDead_x', 'Drib_x', 'Fld_x', 'Def_x', 'GCA_x', 'GCA90_x', 'PassLive.1_x', 'PassDead.1_x', 'Drib.1_x', 'Sh.1_x', 'Fld.1_x', 'Def.1_x', 'Tkl_x', 'TklW_x', 'Def 3rd_x', 'Mid 3rd_x', 'Att 3rd_x', 'Tkl.1_x', 'Tkl%_x', 'Past_x', 'Succ_x', '%_x', 'Def 3rd.1_x', 'Mid 3rd.1_x', 'Att 3rd.1_x', 'ShSv_x', 'Pass_x', 'Tkl+Int_x', 'Clr_x', 'Err_x', 'Touches_x', 'Def Pen_x', 'Att Pen_x', 'Succ%_x', '#Pl_x', 'Megs_x', 'Carries_x', 'CPA_x', 'Mis_x', 'Dis_x', 'Targ_x', 'Rec_x', 'Rec%_x', 'Prog.1_x', 'Mn/MP_x', 'Min%_x', 'Mn/Start_x', 'Compl_x', 'Subs_x', 'Mn/Sub_x', 'unSub_x', 'PPM_x', 'onG_x', 'onGA_x', '+/-_x', '+/-90_x', 'On-Off_x', 'onxG_x', 'onxGA_x', 'xG+/-_x', 'xG+/-90_x', 'On-Off.1_x', '2CrdY_x', 'Fls_x', 'PKwon_x', 'PKcon_x', 'OG_x', 'Recov_x', 'Won_x', 'Lost_x', 'Won%_x', 'League Name_x', 'League ID_x', 'Season_x', 'Team Name_x', 'Team Country_x', 'Player Lower_x', 'First Name Lower_x', 'Last Name Lower_x', 'First Initial Lower_x', 'Team Country Lower_x', 'Nationality Code_x', 'Nationality Cleaned_x', 'Position Grouped_x', 'Outfielder Goalkeeper_x', 'Nation_y', 'Pos_y', 'Squad_y', 'Comp_y', 'Age_y', 'MP_y', 'Starts_y', 'Min_y', '90s_y', 'Gls_y', 'Ast_y', 'G-PK_y', 'PK_y', 'PKatt_y', 'CrdY_y', 'CrdR_y', 'Gls.1_y', 'Ast.1_y', 'G+A_y', 'G-PK.1_y', 'G+A-PK_y', 'xG_y', 'npxG_y', 'xA_y', 'npxG+xA_y', 'xG.1_y', 'xA.1_y', 'xG+xA_y', 'npxG.1_y', 'npxG+xA.1_y', 'Matches_y', 'Sh_y', 'SoT_y', 'SoT%_y', 'Sh/90_y', 'SoT/90_y', 'G/Sh_y', 'G/SoT_y', 'Dist_y', 'FK_y', 'npxG/Sh_y', 'G-xG_y', 'np:G-xG_y', 'Cmp_y', 'Att_y', 'Cmp%_y', 'TotDist_y', 'PrgDist_y', 'Cmp.1_y', 'Att.1_y', 'Cmp%.1_y', 'Cmp.2_y', 'Att.2_y', 'Cmp%.2_y', 'Cmp.3_y', 'Att.3_y', 'Cmp%.3_y', 'A-xA_y', 'KP_y', '1/3_y', 'PPA_y', 'CrsPA_y', 'Prog_y', 'Live_y', 'Dead_y', 'TB_y', 'Press_y', 'Sw_y', 'Crs_y', 'CK_y', 'In_y', 'Out_y', 'Str_y', 'Ground_y', 'Low_y', 'High_y', 'Left_y', 'Right_y', 'Head_y', 'TI_y', 'Other_y', 'Off_y', 'Out.1_y', 'Int_y', 'Blocks_y', 'SCA_y', 'SCA90_y', 'PassLive_y', 'PassDead_y', 'Drib_y', 'Fld_y', 'Def_y', 'GCA_y', 'GCA90_y', 'PassLive.1_y', 'PassDead.1_y', 'Drib.1_y', 'Sh.1_y', 'Fld.1_y', 'Def.1_y', 'Tkl_y', 'TklW_y', 'Def 3rd_y', 'Mid 3rd_y', 'Att 3rd_y', 'Tkl.1_y', 'Tkl%_y', 'Past_y', 'Succ_y', '%_y', 'Def 3rd.1_y', 'Mid 3rd.1_y', 'Att 3rd.1_y', 'ShSv_y', 'Pass_y', 'Tkl+Int_y', 'Clr_y', 'Err_y', 'Touches_y', 'Def Pen_y', 'Att Pen_y', 'Succ%_y', '#Pl_y', 'Megs_y', 'Carries_y', 'CPA_y', 'Mis_y', 'Dis_y', 'Targ_y', 'Rec_y', 'Rec%_y', 'Prog.1_y', 'Mn/MP_y', 'Min%_y', 'Mn/Start_y', 'Compl_y', 'Subs_y', 'Mn/Sub_y', 'unSub_y', 'PPM_y', 'onG_y', 'onGA_y', '+/-_y', '+/-90_y', 'On-Off_y', 'onxG_y', 'onxGA_y', 'xG+/-_y', 'xG+/-90_y', 'On-Off.1_y', '2CrdY_y', 'Fls_y', 'PKwon_y', 'PKcon_y', 'OG_y', 'Recov_y', 'Won_y', 'Lost_y', 'Won%_y', 'League Name_y', 'League ID_y', 'Season_y', 'Team Name_y', 'Team Country_y', 'Player Lower_y', 'First Name Lower_y', 'Last Name Lower_y', 'First Initial Lower_y', 'Team Country Lower_y', 'Nationality Code_y', 'Nationality Cleaned_y', 'Position Grouped_y', 'Outfielder Goalkeeper_y', 'Age_OldT_FWD', 'MP_OldT_FWD', 'Starts_OldT_FWD', 'Min_OldT_FWD', '90s_OldT_FWD', 'Gls_OldT_FWD', 'Ast_OldT_FWD', 'G-PK_OldT_FWD', 'PK_OldT_FWD', 'PKatt_OldT_FWD', 'CrdY_OldT_FWD', 'CrdR_OldT_FWD', 'Gls.1_OldT_FWD', 'Ast.1_OldT_FWD', 'G+A_OldT_FWD', 'G-PK.1_OldT_FWD', 'G+A-PK_OldT_FWD', 'xG_OldT_FWD', 'npxG_OldT_FWD', 'xA_OldT_FWD', 'npxG+xA_OldT_FWD', 'xG.1_OldT_FWD', 'xA.1_OldT_FWD', 'xG+xA_OldT_FWD', 'npxG.1_OldT_FWD', 'npxG+xA.1_OldT_FWD', 'Sh_OldT_FWD', 'SoT_OldT_FWD', 'SoT%_OldT_FWD', 'Sh/90_OldT_FWD', 'SoT/90_OldT_FWD', 'G/Sh_OldT_FWD', 'G/SoT_OldT_FWD', 'Dist_OldT_FWD', 'FK_OldT_FWD', 'npxG/Sh_OldT_FWD', 'G-xG_OldT_FWD', 'np:G-xG_OldT_FWD', 'Cmp_OldT_FWD', 'Att_OldT_FWD', 'Cmp%_OldT_FWD', 'TotDist_OldT_FWD', 'PrgDist_OldT_FWD', 'Cmp.1_OldT_FWD', 'Att.1_OldT_FWD', 'Cmp%.1_OldT_FWD', 'Cmp.2_OldT_FWD', 'Att.2_OldT_FWD', 'Cmp%.2_OldT_FWD', 'Cmp.3_OldT_FWD', 'Att.3_OldT_FWD', 'Cmp%.3_OldT_FWD', 'A-xA_OldT_FWD', 'KP_OldT_FWD', '1/3_OldT_FWD', 'PPA_OldT_FWD', 'CrsPA_OldT_FWD', 'Prog_OldT_FWD', 'Live_OldT_FWD', 'Dead_OldT_FWD', 'TB_OldT_FWD', 'Press_OldT_FWD', 'Sw_OldT_FWD', 'Crs_OldT_FWD', 'CK_OldT_FWD', 'In_OldT_FWD', 'Out_OldT_FWD', 'Str_OldT_FWD', 'Ground_OldT_FWD', 'Low_OldT_FWD', 'High_OldT_FWD', 'Left_OldT_FWD', 'Right_OldT_FWD', 'Head_OldT_FWD', 'TI_OldT_FWD', 'Other_OldT_FWD', 'Off_OldT_FWD', 'Out.1_OldT_FWD', 'Int_OldT_FWD', 'Blocks_OldT_FWD', 'SCA_OldT_FWD', 'SCA90_OldT_FWD', 'PassLive_OldT_FWD', 'PassDead_OldT_FWD', 'Drib_OldT_FWD', 'Fld_OldT_FWD', 'Def_OldT_FWD', 'GCA_OldT_FWD', 'GCA90_OldT_FWD', 'PassLive.1_OldT_FWD', 'PassDead.1_OldT_FWD', 'Drib.1_OldT_FWD', 'Sh.1_OldT_FWD', 'Fld.1_OldT_FWD', 'Def.1_OldT_FWD', 'Tkl_OldT_FWD', 'TklW_OldT_FWD', 'Def 3rd_OldT_FWD', 'Mid 3rd_OldT_FWD', 'Att 3rd_OldT_FWD', 'Tkl.1_OldT_FWD', 'Tkl%_OldT_FWD', 'Past_OldT_FWD', 'Succ_OldT_FWD', '%_OldT_FWD', 'Def 3rd.1_OldT_FWD', 'Mid 3rd.1_OldT_FWD', 'Att 3rd.1_OldT_FWD', 'ShSv_OldT_FWD', 'Pass_OldT_FWD', 'Tkl+Int_OldT_FWD', 'Clr_OldT_FWD', 'Err_OldT_FWD', 'Touches_OldT_FWD', 'Def Pen_OldT_FWD', 'Att Pen_OldT_FWD', 'Succ%_OldT_FWD', '#Pl_OldT_FWD', 'Megs_OldT_FWD', 'Carries_OldT_FWD', 'CPA_OldT_FWD', 'Mis_OldT_FWD', 'Dis_OldT_FWD', 'Targ_OldT_FWD', 'Rec_OldT_FWD', 'Rec%_OldT_FWD', 'Prog.1_OldT_FWD', 'Compl_OldT_FWD', 'On-Off.1_OldT_FWD', 'Age_OldT_MID', 'MP_OldT_MID', 'Starts_OldT_MID', 'Min_OldT_MID', '90s_OldT_MID', 'Gls_OldT_MID', 'Ast_OldT_MID', 'G-PK_OldT_MID', 'PK_OldT_MID', 'PKatt_OldT_MID', 'CrdY_OldT_MID', 'CrdR_OldT_MID', 'Gls.1_OldT_MID', 'Ast.1_OldT_MID', 'G+A_OldT_MID', 'G-PK.1_OldT_MID', 'G+A-PK_OldT_MID', 'xG_OldT_MID', 'npxG_OldT_MID', 'xA_OldT_MID', 'npxG+xA_OldT_MID', 'xG.1_OldT_MID', 'xA.1_OldT_MID', 'xG+xA_OldT_MID', 'npxG.1_OldT_MID', 'npxG+xA.1_OldT_MID', 'Sh_OldT_MID', 'SoT_OldT_MID', 'SoT%_OldT_MID', 'Sh/90_OldT_MID', 'SoT/90_OldT_MID', 'G/Sh_OldT_MID', 'G/SoT_OldT_MID', 'Dist_OldT_MID', 'FK_OldT_MID', 'npxG/Sh_OldT_MID', 'G-xG_OldT_MID', 'np:G-xG_OldT_MID', 'Cmp_OldT_MID', 'Att_OldT_MID', 'Cmp%_OldT_MID', 'TotDist_OldT_MID', 'PrgDist_OldT_MID', 'Cmp.1_OldT_MID', 'Att.1_OldT_MID', 'Cmp%.1_OldT_MID', 'Cmp.2_OldT_MID', 'Att.2_OldT_MID', 'Cmp%.2_OldT_MID', 'Cmp.3_OldT_MID', 'Att.3_OldT_MID', 'Cmp%.3_OldT_MID', 'A-xA_OldT_MID', 'KP_OldT_MID', '1/3_OldT_MID', 'PPA_OldT_MID', 'CrsPA_OldT_MID', 'Prog_OldT_MID', 'Live_OldT_MID', 'Dead_OldT_MID', 'TB_OldT_MID', 'Press_OldT_MID', 'Sw_OldT_MID', 'Crs_OldT_MID', 'CK_OldT_MID', 'In_OldT_MID', 'Out_OldT_MID', 'Str_OldT_MID', 'Ground_OldT_MID', 'Low_OldT_MID', 'High_OldT_MID', 'Left_OldT_MID', 'Right_OldT_MID', 'Head_OldT_MID', 'TI_OldT_MID', 'Other_OldT_MID', 'Off_OldT_MID', 'Out.1_OldT_MID', 'Int_OldT_MID', 'Blocks_OldT_MID', 'SCA_OldT_MID', 'SCA90_OldT_MID', 'PassLive_OldT_MID', 'PassDead_OldT_MID', 'Drib_OldT_MID', 'Fld_OldT_MID', 'Def_OldT_MID', 'GCA_OldT_MID', 'GCA90_OldT_MID', 'PassLive.1_OldT_MID', 'PassDead.1_OldT_MID', 'Drib.1_OldT_MID', 'Sh.1_OldT_MID', 'Fld.1_OldT_MID', 'Def.1_OldT_MID', 'Tkl_OldT_MID', 'TklW_OldT_MID', 'Def 3rd_OldT_MID', 'Mid 3rd_OldT_MID', 'Att 3rd_OldT_MID', 'Tkl.1_OldT_MID', 'Tkl%_OldT_MID', 'Past_OldT_MID', 'Succ_OldT_MID', '%_OldT_MID', 'Def 3rd.1_OldT_MID', 'Mid 3rd.1_OldT_MID', 'Att 3rd.1_OldT_MID', 'ShSv_OldT_MID', 'Pass_OldT_MID', 'Tkl+Int_OldT_MID', 'Clr_OldT_MID', 'Err_OldT_MID', 'Touches_OldT_MID', 'Def Pen_OldT_MID', 'Att Pen_OldT_MID', 'Succ%_OldT_MID', '#Pl_OldT_MID', 'Megs_OldT_MID', 'Carries_OldT_MID', 'CPA_OldT_MID', 'Mis_OldT_MID', 'Dis_OldT_MID', 'Targ_OldT_MID', 'Rec_OldT_MID', 'Rec%_OldT_MID', 'Prog.1_OldT_MID', 'Compl_OldT_MID', 'On-Off.1_OldT_MID', 'Age_OldT_DEF', 'MP_OldT_DEF', 'Starts_OldT_DEF', 'Min_OldT_DEF', '90s_OldT_DEF', 'Gls_OldT_DEF', 'Ast_OldT_DEF', 'G-PK_OldT_DEF', 'PK_OldT_DEF', 'PKatt_OldT_DEF', 'CrdY_OldT_DEF', 'CrdR_OldT_DEF', 'Gls.1_OldT_DEF', 'Ast.1_OldT_DEF', 'G+A_OldT_DEF', 'G-PK.1_OldT_DEF', 'G+A-PK_OldT_DEF', 'xG_OldT_DEF', 'npxG_OldT_DEF', 'xA_OldT_DEF', 'npxG+xA_OldT_DEF', 'xG.1_OldT_DEF', 'xA.1_OldT_DEF', 'xG+xA_OldT_DEF', 'npxG.1_OldT_DEF', 'npxG+xA.1_OldT_DEF', 'Cmp_OldT_DEF', 'Att_OldT_DEF', 'Cmp%_OldT_DEF', 'TotDist_OldT_DEF', 'PrgDist_OldT_DEF', 'Cmp.1_OldT_DEF', 'Att.1_OldT_DEF', 'Cmp%.1_OldT_DEF', 'Cmp.2_OldT_DEF', 'Att.2_OldT_DEF', 'Cmp%.2_OldT_DEF', 'Cmp.3_OldT_DEF', 'Att.3_OldT_DEF', 'Cmp%.3_OldT_DEF', 'A-xA_OldT_DEF', 'KP_OldT_DEF', '1/3_OldT_DEF', 'PPA_OldT_DEF', 'CrsPA_OldT_DEF', 'Prog_OldT_DEF', 'Live_OldT_DEF', 'Dead_OldT_DEF', 'TB_OldT_DEF', 'Press_OldT_DEF', 'Sw_OldT_DEF', 'Crs_OldT_DEF', 'CK_OldT_DEF', 'In_OldT_DEF', 'Out_OldT_DEF', 'Str_OldT_DEF', 'Ground_OldT_DEF', 'Low_OldT_DEF', 'High_OldT_DEF', 'Left_OldT_DEF', 'Right_OldT_DEF', 'Head_OldT_DEF', 'TI_OldT_DEF', 'Other_OldT_DEF', 'Off_OldT_DEF', 'Out.1_OldT_DEF', 'Int_OldT_DEF', 'Blocks_OldT_DEF', 'PassLive.1_OldT_DEF', 'PassDead.1_OldT_DEF', 'Drib.1_OldT_DEF', 'Sh.1_OldT_DEF', 'Fld.1_OldT_DEF', 'Def.1_OldT_DEF', 'Tkl_OldT_DEF', 'TklW_OldT_DEF', 'Def 3rd_OldT_DEF', 'Mid 3rd_OldT_DEF', 'Att 3rd_OldT_DEF', 'Tkl.1_OldT_DEF', 'Tkl%_OldT_DEF', 'Past_OldT_DEF', 'Succ_OldT_DEF', '%_OldT_DEF', 'Def 3rd.1_OldT_DEF', 'Mid 3rd.1_OldT_DEF', 'Att 3rd.1_OldT_DEF', 'ShSv_OldT_DEF', 'Pass_OldT_DEF', 'Tkl+Int_OldT_DEF', 'Clr_OldT_DEF', 'Err_OldT_DEF', 'Touches_OldT_DEF', 'Def Pen_OldT_DEF', 'Att Pen_OldT_DEF', 'Succ%_OldT_DEF', '#Pl_OldT_DEF', 'Megs_OldT_DEF', 'Carries_OldT_DEF', 'CPA_OldT_DEF', 'Mis_OldT_DEF', 'Dis_OldT_DEF', 'Targ_OldT_DEF', 'Rec_OldT_DEF', 'Rec%_OldT_DEF', 'Prog.1_OldT_DEF', 'Compl_OldT_DEF', 'On-Off.1_OldT_DEF', 'Age_OldO_FWD', 'MP_OldO_FWD', 'Starts_OldO_FWD', 'Min_OldO_FWD', '90s_OldO_FWD', 'Gls_OldO_FWD', 'Ast_OldO_FWD', 'G-PK_OldO_FWD', 'PK_OldO_FWD', 'PKatt_OldO_FWD', 'CrdY_OldO_FWD', 'CrdR_OldO_FWD', 'Gls.1_OldO_FWD', 'Ast.1_OldO_FWD', 'G+A_OldO_FWD', 'G-PK.1_OldO_FWD', 'G+A-PK_OldO_FWD', 'xG_OldO_FWD', 'npxG_OldO_FWD', 'xA_OldO_FWD', 'npxG+xA_OldO_FWD', 'xG.1_OldO_FWD', 'xA.1_OldO_FWD', 'xG+xA_OldO_FWD', 'npxG.1_OldO_FWD', 'npxG+xA.1_OldO_FWD', 'Sh_OldO_FWD', 'SoT_OldO_FWD', 'SoT%_OldO_FWD', 'Sh/90_OldO_FWD', 'SoT/90_OldO_FWD', 'G/Sh_OldO_FWD', 'G/SoT_OldO_FWD', 'Dist_OldO_FWD', 'FK_OldO_FWD', 'npxG/Sh_OldO_FWD', 'G-xG_OldO_FWD', 'np:G-xG_OldO_FWD', 'Cmp_OldO_FWD', 'Att_OldO_FWD', 'Cmp%_OldO_FWD', 'TotDist_OldO_FWD', 'PrgDist_OldO_FWD', 'Cmp.1_OldO_FWD', 'Att.1_OldO_FWD', 'Cmp%.1_OldO_FWD', 'Cmp.2_OldO_FWD', 'Att.2_OldO_FWD', 'Cmp%.2_OldO_FWD', 'Cmp.3_OldO_FWD', 'Att.3_OldO_FWD', 'Cmp%.3_OldO_FWD', 'A-xA_OldO_FWD', 'KP_OldO_FWD', '1/3_OldO_FWD', 'PPA_OldO_FWD', 'CrsPA_OldO_FWD', 'Prog_OldO_FWD', 'Live_OldO_FWD', 'Dead_OldO_FWD', 'TB_OldO_FWD', 'Press_OldO_FWD', 'Sw_OldO_FWD', 'Crs_OldO_FWD', 'CK_OldO_FWD', 'In_OldO_FWD', 'Out_OldO_FWD', 'Str_OldO_FWD', 'Ground_OldO_FWD', 'Low_OldO_FWD', 'High_OldO_FWD', 'Left_OldO_FWD', 'Right_OldO_FWD', 'Head_OldO_FWD', 'TI_OldO_FWD', 'Other_OldO_FWD', 'Off_OldO_FWD', 'Out.1_OldO_FWD', 'Int_OldO_FWD', 'Blocks_OldO_FWD', 'SCA_OldO_FWD', 'SCA90_OldO_FWD', 'PassLive_OldO_FWD', 'PassDead_OldO_FWD', 'Drib_OldO_FWD', 'Fld_OldO_FWD', 'Def_OldO_FWD', 'GCA_OldO_FWD', 'GCA90_OldO_FWD', 'PassLive.1_OldO_FWD', 'PassDead.1_OldO_FWD', 'Drib.1_OldO_FWD', 'Sh.1_OldO_FWD', 'Fld.1_OldO_FWD', 'Def.1_OldO_FWD', 'Tkl_OldO_FWD', 'TklW_OldO_FWD', 'Def 3rd_OldO_FWD', 'Mid 3rd_OldO_FWD', 'Att 3rd_OldO_FWD', 'Tkl.1_OldO_FWD', 'Tkl%_OldO_FWD', 'Past_OldO_FWD', 'Succ_OldO_FWD', '%_OldO_FWD', 'Def 3rd.1_OldO_FWD', 'Mid 3rd.1_OldO_FWD', 'Att 3rd.1_OldO_FWD', 'ShSv_OldO_FWD', 'Pass_OldO_FWD', 'Tkl+Int_OldO_FWD', 'Clr_OldO_FWD', 'Err_OldO_FWD', 'Touches_OldO_FWD', 'Def Pen_OldO_FWD', 'Att Pen_OldO_FWD', 'Succ%_OldO_FWD', '#Pl_OldO_FWD', 'Megs_OldO_FWD', 'Carries_OldO_FWD', 'CPA_OldO_FWD', 'Mis_OldO_FWD', 'Dis_OldO_FWD', 'Targ_OldO_FWD', 'Rec_OldO_FWD', 'Rec%_OldO_FWD', 'Prog.1_OldO_FWD', 'Compl_OldO_FWD', 'On-Off.1_OldO_FWD', 'Age_OldO_MID', 'MP_OldO_MID', 'Starts_OldO_MID', 'Min_OldO_MID', '90s_OldO_MID', 'Gls_OldO_MID', 'Ast_OldO_MID', 'G-PK_OldO_MID', 'PK_OldO_MID', 'PKatt_OldO_MID', 'CrdY_OldO_MID', 'CrdR_OldO_MID', 'Gls.1_OldO_MID', 'Ast.1_OldO_MID', 'G+A_OldO_MID', 'G-PK.1_OldO_MID', 'G+A-PK_OldO_MID', 'xG_OldO_MID', 'npxG_OldO_MID', 'xA_OldO_MID', 'npxG+xA_OldO_MID', 'xG.1_OldO_MID', 'xA.1_OldO_MID', 'xG+xA_OldO_MID', 'npxG.1_OldO_MID', 'npxG+xA.1_OldO_MID', 'Sh_OldO_MID', 'SoT_OldO_MID', 'SoT%_OldO_MID', 'Sh/90_OldO_MID', 'SoT/90_OldO_MID', 'G/Sh_OldO_MID', 'G/SoT_OldO_MID', 'Dist_OldO_MID', 'FK_OldO_MID', 'npxG/Sh_OldO_MID', 'G-xG_OldO_MID', 'np:G-xG_OldO_MID', 'Cmp_OldO_MID', 'Att_OldO_MID', 'Cmp%_OldO_MID', 'TotDist_OldO_MID', 'PrgDist_OldO_MID', 'Cmp.1_OldO_MID', 'Att.1_OldO_MID', 'Cmp%.1_OldO_MID', 'Cmp.2_OldO_MID', 'Att.2_OldO_MID', 'Cmp%.2_OldO_MID', 'Cmp.3_OldO_MID', 'Att.3_OldO_MID', 'Cmp%.3_OldO_MID', 'A-xA_OldO_MID', 'KP_OldO_MID', '1/3_OldO_MID', 'PPA_OldO_MID', 'CrsPA_OldO_MID', 'Prog_OldO_MID', 'Live_OldO_MID', 'Dead_OldO_MID', 'TB_OldO_MID', 'Press_OldO_MID', 'Sw_OldO_MID', 'Crs_OldO_MID', 'CK_OldO_MID', 'In_OldO_MID', 'Out_OldO_MID', 'Str_OldO_MID', 'Ground_OldO_MID', 'Low_OldO_MID', 'High_OldO_MID', 'Left_OldO_MID', 'Right_OldO_MID', 'Head_OldO_MID', 'TI_OldO_MID', 'Other_OldO_MID', 'Off_OldO_MID', 'Out.1_OldO_MID', 'Int_OldO_MID', 'Blocks_OldO_MID', 'SCA_OldO_MID', 'SCA90_OldO_MID', 'PassLive_OldO_MID', 'PassDead_OldO_MID', 'Drib_OldO_MID', 'Fld_OldO_MID', 'Def_OldO_MID', 'GCA_OldO_MID', 'GCA90_OldO_MID', 'PassLive.1_OldO_MID', 'PassDead.1_OldO_MID', 'Drib.1_OldO_MID', 'Sh.1_OldO_MID', 'Fld.1_OldO_MID', 'Def.1_OldO_MID', 'Tkl_OldO_MID', 'TklW_OldO_MID', 'Def 3rd_OldO_MID', 'Mid 3rd_OldO_MID', 'Att 3rd_OldO_MID', 'Tkl.1_OldO_MID', 'Tkl%_OldO_MID', 'Past_OldO_MID', 'Succ_OldO_MID', '%_OldO_MID', 'Def 3rd.1_OldO_MID', 'Mid 3rd.1_OldO_MID', 'Att 3rd.1_OldO_MID', 'ShSv_OldO_MID', 'Pass_OldO_MID', 'Tkl+Int_OldO_MID', 'Clr_OldO_MID', 'Err_OldO_MID', 'Touches_OldO_MID', 'Def Pen_OldO_MID', 'Att Pen_OldO_MID', 'Succ%_OldO_MID', '#Pl_OldO_MID', 'Megs_OldO_MID', 'Carries_OldO_MID', 'CPA_OldO_MID', 'Mis_OldO_MID', 'Dis_OldO_MID', 'Targ_OldO_MID', 'Rec_OldO_MID', 'Rec%_OldO_MID', 'Prog.1_OldO_MID', 'Compl_OldO_MID', 'On-Off.1_OldO_MID', 'Age_OldO_DEF', 'MP_OldO_DEF', 'Starts_OldO_DEF', 'Min_OldO_DEF', '90s_OldO_DEF', 'Gls_OldO_DEF', 'Ast_OldO_DEF', 'G-PK_OldO_DEF', 'PK_OldO_DEF', 'PKatt_OldO_DEF', 'CrdY_OldO_DEF', 'CrdR_OldO_DEF', 'Gls.1_OldO_DEF', 'Ast.1_OldO_DEF', 'G+A_OldO_DEF', 'G-PK.1_OldO_DEF', 'G+A-PK_OldO_DEF', 'xG_OldO_DEF', 'npxG_OldO_DEF', 'xA_OldO_DEF', 'npxG+xA_OldO_DEF', 'xG.1_OldO_DEF', 'xA.1_OldO_DEF', 'xG+xA_OldO_DEF', 'npxG.1_OldO_DEF', 'npxG+xA.1_OldO_DEF', 'Cmp_OldO_DEF', 'Att_OldO_DEF', 'Cmp%_OldO_DEF', 'TotDist_OldO_DEF', 'PrgDist_OldO_DEF', 'Cmp.1_OldO_DEF', 'Att.1_OldO_DEF', 'Cmp%.1_OldO_DEF', 'Cmp.2_OldO_DEF', 'Att.2_OldO_DEF', 'Cmp%.2_OldO_DEF', 'Cmp.3_OldO_DEF', 'Att.3_OldO_DEF', 'Cmp%.3_OldO_DEF', 'A-xA_OldO_DEF', 'KP_OldO_DEF', '1/3_OldO_DEF', 'PPA_OldO_DEF', 'CrsPA_OldO_DEF', 'Prog_OldO_DEF', 'Live_OldO_DEF', 'Dead_OldO_DEF', 'TB_OldO_DEF', 'Press_OldO_DEF', 'Sw_OldO_DEF', 'Crs_OldO_DEF', 'CK_OldO_DEF', 'In_OldO_DEF', 'Out_OldO_DEF', 'Str_OldO_DEF', 'Ground_OldO_DEF', 'Low_OldO_DEF', 'High_OldO_DEF', 'Left_OldO_DEF', 'Right_OldO_DEF', 'Head_OldO_DEF', 'TI_OldO_DEF', 'Other_OldO_DEF', 'Off_OldO_DEF', 'Out.1_OldO_DEF', 'Int_OldO_DEF', 'Blocks_OldO_DEF', 'PassLive.1_OldO_DEF', 'PassDead.1_OldO_DEF', 'Drib.1_OldO_DEF', 'Sh.1_OldO_DEF', 'Fld.1_OldO_DEF', 'Def.1_OldO_DEF', 'Tkl_OldO_DEF', 'TklW_OldO_DEF', 'Def 3rd_OldO_DEF', 'Mid 3rd_OldO_DEF', 'Att 3rd_OldO_DEF', 'Tkl.1_OldO_DEF', 'Tkl%_OldO_DEF', 'Past_OldO_DEF', 'Succ_OldO_DEF', '%_OldO_DEF', 'Def 3rd.1_OldO_DEF', 'Mid 3rd.1_OldO_DEF', 'Att 3rd.1_OldO_DEF', 'ShSv_OldO_DEF', 'Pass_OldO_DEF', 'Tkl+Int_OldO_DEF', 'Clr_OldO_DEF', 'Err_OldO_DEF', 'Touches_OldO_DEF', 'Def Pen_OldO_DEF', 'Att Pen_OldO_DEF', 'Succ%_OldO_DEF', '#Pl_OldO_DEF', 'Megs_OldO_DEF', 'Carries_OldO_DEF', 'CPA_OldO_DEF', 'Mis_OldO_DEF', 'Dis_OldO_DEF', 'Targ_OldO_DEF', 'Rec_OldO_DEF', 'Rec%_OldO_DEF', 'Prog.1_OldO_DEF', 'Compl_OldO_DEF', 'On-Off.1_OldO_DEF', 'Age_NewT_FWD', 'MP_NewT_FWD', 'Starts_NewT_FWD', 'Min_NewT_FWD', '90s_NewT_FWD', 'Gls_NewT_FWD', 'Ast_NewT_FWD', 'G-PK_NewT_FWD', 'PK_NewT_FWD', 'PKatt_NewT_FWD', 'CrdY_NewT_FWD', 'CrdR_NewT_FWD', 'Gls.1_NewT_FWD', 'Ast.1_NewT_FWD', 'G+A_NewT_FWD', 'G-PK.1_NewT_FWD', 'G+A-PK_NewT_FWD', 'xG_NewT_FWD', 'npxG_NewT_FWD', 'xA_NewT_FWD', 'npxG+xA_NewT_FWD', 'xG.1_NewT_FWD', 'xA.1_NewT_FWD', 'xG+xA_NewT_FWD', 'npxG.1_NewT_FWD', 'npxG+xA.1_NewT_FWD', 'Sh_NewT_FWD', 'SoT_NewT_FWD', 'SoT%_NewT_FWD', 'Sh/90_NewT_FWD', 'SoT/90_NewT_FWD', 'G/Sh_NewT_FWD', 'G/SoT_NewT_FWD', 'Dist_NewT_FWD', 'FK_NewT_FWD', 'npxG/Sh_NewT_FWD', 'G-xG_NewT_FWD', 'np:G-xG_NewT_FWD', 'Cmp_NewT_FWD', 'Att_NewT_FWD', 'Cmp%_NewT_FWD', 'TotDist_NewT_FWD', 'PrgDist_NewT_FWD', 'Cmp.1_NewT_FWD', 'Att.1_NewT_FWD', 'Cmp%.1_NewT_FWD', 'Cmp.2_NewT_FWD', 'Att.2_NewT_FWD', 'Cmp%.2_NewT_FWD', 'Cmp.3_NewT_FWD', 'Att.3_NewT_FWD', 'Cmp%.3_NewT_FWD', 'A-xA_NewT_FWD', 'KP_NewT_FWD', '1/3_NewT_FWD', 'PPA_NewT_FWD', 'CrsPA_NewT_FWD', 'Prog_NewT_FWD', 'Live_NewT_FWD', 'Dead_NewT_FWD', 'TB_NewT_FWD', 'Press_NewT_FWD', 'Sw_NewT_FWD', 'Crs_NewT_FWD', 'CK_NewT_FWD', 'In_NewT_FWD', 'Out_NewT_FWD', 'Str_NewT_FWD', 'Ground_NewT_FWD', 'Low_NewT_FWD', 'High_NewT_FWD', 'Left_NewT_FWD', 'Right_NewT_FWD', 'Head_NewT_FWD', 'TI_NewT_FWD', 'Other_NewT_FWD', 'Off_NewT_FWD', 'Out.1_NewT_FWD', 'Int_NewT_FWD', 'Blocks_NewT_FWD', 'SCA_NewT_FWD', 'SCA90_NewT_FWD', 'PassLive_NewT_FWD', 'PassDead_NewT_FWD', 'Drib_NewT_FWD', 'Fld_NewT_FWD', 'Def_NewT_FWD', 'GCA_NewT_FWD', 'GCA90_NewT_FWD', 'PassLive.1_NewT_FWD', 'PassDead.1_NewT_FWD', 'Drib.1_NewT_FWD', 'Sh.1_NewT_FWD', 'Fld.1_NewT_FWD', 'Def.1_NewT_FWD', 'Tkl_NewT_FWD', 'TklW_NewT_FWD', 'Def 3rd_NewT_FWD', 'Mid 3rd_NewT_FWD', 'Att 3rd_NewT_FWD', 'Tkl.1_NewT_FWD', 'Tkl%_NewT_FWD', 'Past_NewT_FWD', 'Succ_NewT_FWD', '%_NewT_FWD', 'Def 3rd.1_NewT_FWD', 'Mid 3rd.1_NewT_FWD', 'Att 3rd.1_NewT_FWD', 'ShSv_NewT_FWD', 'Pass_NewT_FWD', 'Tkl+Int_NewT_FWD', 'Clr_NewT_FWD', 'Err_NewT_FWD', 'Touches_NewT_FWD', 'Def Pen_NewT_FWD', 'Att Pen_NewT_FWD', 'Succ%_NewT_FWD', '#Pl_NewT_FWD', 'Megs_NewT_FWD', 'Carries_NewT_FWD', 'CPA_NewT_FWD', 'Mis_NewT_FWD', 'Dis_NewT_FWD', 'Targ_NewT_FWD', 'Rec_NewT_FWD', 'Rec%_NewT_FWD', 'Prog.1_NewT_FWD', 'Compl_NewT_FWD', 'On-Off.1_NewT_FWD', 'Age_NewT_MID', 'MP_NewT_MID', 'Starts_NewT_MID', 'Min_NewT_MID', '90s_NewT_MID', 'Gls_NewT_MID', 'Ast_NewT_MID', 'G-PK_NewT_MID', 'PK_NewT_MID', 'PKatt_NewT_MID', 'CrdY_NewT_MID', 'CrdR_NewT_MID', 'Gls.1_NewT_MID', 'Ast.1_NewT_MID', 'G+A_NewT_MID', 'G-PK.1_NewT_MID', 'G+A-PK_NewT_MID', 'xG_NewT_MID', 'npxG_NewT_MID', 'xA_NewT_MID', 'npxG+xA_NewT_MID', 'xG.1_NewT_MID', 'xA.1_NewT_MID', 'xG+xA_NewT_MID', 'npxG.1_NewT_MID', 'npxG+xA.1_NewT_MID', 'Sh_NewT_MID', 'SoT_NewT_MID', 'SoT%_NewT_MID', 'Sh/90_NewT_MID', 'SoT/90_NewT_MID', 'G/Sh_NewT_MID', 'G/SoT_NewT_MID', 'Dist_NewT_MID', 'FK_NewT_MID', 'npxG/Sh_NewT_MID', 'G-xG_NewT_MID', 'np:G-xG_NewT_MID', 'Cmp_NewT_MID', 'Att_NewT_MID', 'Cmp%_NewT_MID', 'TotDist_NewT_MID', 'PrgDist_NewT_MID', 'Cmp.1_NewT_MID', 'Att.1_NewT_MID', 'Cmp%.1_NewT_MID', 'Cmp.2_NewT_MID', 'Att.2_NewT_MID', 'Cmp%.2_NewT_MID', 'Cmp.3_NewT_MID', 'Att.3_NewT_MID', 'Cmp%.3_NewT_MID', 'A-xA_NewT_MID', 'KP_NewT_MID', '1/3_NewT_MID', 'PPA_NewT_MID', 'CrsPA_NewT_MID', 'Prog_NewT_MID', 'Live_NewT_MID', 'Dead_NewT_MID', 'TB_NewT_MID', 'Press_NewT_MID', 'Sw_NewT_MID', 'Crs_NewT_MID', 'CK_NewT_MID', 'In_NewT_MID', 'Out_NewT_MID', 'Str_NewT_MID', 'Ground_NewT_MID', 'Low_NewT_MID', 'High_NewT_MID', 'Left_NewT_MID', 'Right_NewT_MID', 'Head_NewT_MID', 'TI_NewT_MID', 'Other_NewT_MID', 'Off_NewT_MID', 'Out.1_NewT_MID', 'Int_NewT_MID', 'Blocks_NewT_MID', 'SCA_NewT_MID', 'SCA90_NewT_MID', 'PassLive_NewT_MID', 'PassDead_NewT_MID', 'Drib_NewT_MID', 'Fld_NewT_MID', 'Def_NewT_MID', 'GCA_NewT_MID', 'GCA90_NewT_MID', 'PassLive.1_NewT_MID', 'PassDead.1_NewT_MID', 'Drib.1_NewT_MID', 'Sh.1_NewT_MID', 'Fld.1_NewT_MID', 'Def.1_NewT_MID', 'Tkl_NewT_MID', 'TklW_NewT_MID', 'Def 3rd_NewT_MID', 'Mid 3rd_NewT_MID', 'Att 3rd_NewT_MID', 'Tkl.1_NewT_MID', 'Tkl%_NewT_MID', 'Past_NewT_MID', 'Succ_NewT_MID', '%_NewT_MID', 'Def 3rd.1_NewT_MID', 'Mid 3rd.1_NewT_MID', 'Att 3rd.1_NewT_MID', 'ShSv_NewT_MID', 'Pass_NewT_MID', 'Tkl+Int_NewT_MID', 'Clr_NewT_MID', 'Err_NewT_MID', 'Touches_NewT_MID', 'Def Pen_NewT_MID', 'Att Pen_NewT_MID', 'Succ%_NewT_MID', '#Pl_NewT_MID', 'Megs_NewT_MID', 'Carries_NewT_MID', 'CPA_NewT_MID', 'Mis_NewT_MID', 'Dis_NewT_MID', 'Targ_NewT_MID', 'Rec_NewT_MID', 'Rec%_NewT_MID', 'Prog.1_NewT_MID', 'Compl_NewT_MID', 'On-Off.1_NewT_MID', 'Age_NewT_DEF', 'MP_NewT_DEF', 'Starts_NewT_DEF', 'Min_NewT_DEF', '90s_NewT_DEF', 'Gls_NewT_DEF', 'Ast_NewT_DEF', 'G-PK_NewT_DEF', 'PK_NewT_DEF', 'PKatt_NewT_DEF', 'CrdY_NewT_DEF', 'CrdR_NewT_DEF', 'Gls.1_NewT_DEF', 'Ast.1_NewT_DEF', 'G+A_NewT_DEF', 'G-PK.1_NewT_DEF', 'G+A-PK_NewT_DEF', 'xG_NewT_DEF', 'npxG_NewT_DEF', 'xA_NewT_DEF', 'npxG+xA_NewT_DEF', 'xG.1_NewT_DEF', 'xA.1_NewT_DEF', 'xG+xA_NewT_DEF', 'npxG.1_NewT_DEF', 'npxG+xA.1_NewT_DEF', 'Cmp_NewT_DEF', 'Att_NewT_DEF', 'Cmp%_NewT_DEF', 'TotDist_NewT_DEF', 'PrgDist_NewT_DEF', 'Cmp.1_NewT_DEF', 'Att.1_NewT_DEF', 'Cmp%.1_NewT_DEF', 'Cmp.2_NewT_DEF', 'Att.2_NewT_DEF', 'Cmp%.2_NewT_DEF', 'Cmp.3_NewT_DEF', 'Att.3_NewT_DEF', 'Cmp%.3_NewT_DEF', 'A-xA_NewT_DEF', 'KP_NewT_DEF', '1/3_NewT_DEF', 'PPA_NewT_DEF', 'CrsPA_NewT_DEF', 'Prog_NewT_DEF', 'Live_NewT_DEF', 'Dead_NewT_DEF', 'TB_NewT_DEF', 'Press_NewT_DEF', 'Sw_NewT_DEF', 'Crs_NewT_DEF', 'CK_NewT_DEF', 'In_NewT_DEF', 'Out_NewT_DEF', 'Str_NewT_DEF', 'Ground_NewT_DEF', 'Low_NewT_DEF', 'High_NewT_DEF', 'Left_NewT_DEF', 'Right_NewT_DEF', 'Head_NewT_DEF', 'TI_NewT_DEF', 'Other_NewT_DEF', 'Off_NewT_DEF', 'Out.1_NewT_DEF', 'Int_NewT_DEF', 'Blocks_NewT_DEF', 'PassLive.1_NewT_DEF', 'PassDead.1_NewT_DEF', 'Drib.1_NewT_DEF', 'Sh.1_NewT_DEF', 'Fld.1_NewT_DEF', 'Def.1_NewT_DEF', 'Tkl_NewT_DEF', 'TklW_NewT_DEF', 'Def 3rd_NewT_DEF', 'Mid 3rd_NewT_DEF', 'Att 3rd_NewT_DEF', 'Tkl.1_NewT_DEF', 'Tkl%_NewT_DEF', 'Past_NewT_DEF', 'Succ_NewT_DEF', '%_NewT_DEF', 'Def 3rd.1_NewT_DEF', 'Mid 3rd.1_NewT_DEF', 'Att 3rd.1_NewT_DEF', 'ShSv_NewT_DEF', 'Pass_NewT_DEF', 'Tkl+Int_NewT_DEF', 'Clr_NewT_DEF', 'Err_NewT_DEF', 'Touches_NewT_DEF', 'Def Pen_NewT_DEF', 'Att Pen_NewT_DEF', 'Succ%_NewT_DEF', '#Pl_NewT_DEF', 'Megs_NewT_DEF', 'Carries_NewT_DEF', 'CPA_NewT_DEF', 'Mis_NewT_DEF', 'Dis_NewT_DEF', 'Targ_NewT_DEF', 'Rec_NewT_DEF', 'Rec%_NewT_DEF', 'Prog.1_NewT_DEF', 'Compl_NewT_DEF', 'On-Off.1_NewT_DEF', 'Age_NewO_FWD', 'MP_NewO_FWD', 'Starts_NewO_FWD', 'Min_NewO_FWD', '90s_NewO_FWD', 'Gls_NewO_FWD', 'Ast_NewO_FWD', 'G-PK_NewO_FWD', 'PK_NewO_FWD', 'PKatt_NewO_FWD', 'CrdY_NewO_FWD', 'CrdR_NewO_FWD', 'Gls.1_NewO_FWD', 'Ast.1_NewO_FWD', 'G+A_NewO_FWD', 'G-PK.1_NewO_FWD', 'G+A-PK_NewO_FWD', 'xG_NewO_FWD', 'npxG_NewO_FWD', 'xA_NewO_FWD', 'npxG+xA_NewO_FWD', 'xG.1_NewO_FWD', 'xA.1_NewO_FWD', 'xG+xA_NewO_FWD', 'npxG.1_NewO_FWD', 'npxG+xA.1_NewO_FWD', 'Sh_NewO_FWD', 'SoT_NewO_FWD', 'SoT%_NewO_FWD', 'Sh/90_NewO_FWD', 'SoT/90_NewO_FWD', 'G/Sh_NewO_FWD', 'G/SoT_NewO_FWD', 'Dist_NewO_FWD', 'FK_NewO_FWD', 'npxG/Sh_NewO_FWD', 'G-xG_NewO_FWD', 'np:G-xG_NewO_FWD', 'Cmp_NewO_FWD', 'Att_NewO_FWD', 'Cmp%_NewO_FWD', 'TotDist_NewO_FWD', 'PrgDist_NewO_FWD', 'Cmp.1_NewO_FWD', 'Att.1_NewO_FWD', 'Cmp%.1_NewO_FWD', 'Cmp.2_NewO_FWD', 'Att.2_NewO_FWD', 'Cmp%.2_NewO_FWD', 'Cmp.3_NewO_FWD', 'Att.3_NewO_FWD', 'Cmp%.3_NewO_FWD', 'A-xA_NewO_FWD', 'KP_NewO_FWD', '1/3_NewO_FWD', 'PPA_NewO_FWD', 'CrsPA_NewO_FWD', 'Prog_NewO_FWD', 'Live_NewO_FWD', 'Dead_NewO_FWD', 'TB_NewO_FWD', 'Press_NewO_FWD', 'Sw_NewO_FWD', 'Crs_NewO_FWD', 'CK_NewO_FWD', 'In_NewO_FWD', 'Out_NewO_FWD', 'Str_NewO_FWD', 'Ground_NewO_FWD', 'Low_NewO_FWD', 'High_NewO_FWD', 'Left_NewO_FWD', 'Right_NewO_FWD', 'Head_NewO_FWD', 'TI_NewO_FWD', 'Other_NewO_FWD', 'Off_NewO_FWD', 'Out.1_NewO_FWD', 'Int_NewO_FWD', 'Blocks_NewO_FWD', 'SCA_NewO_FWD', 'SCA90_NewO_FWD', 'PassLive_NewO_FWD', 'PassDead_NewO_FWD', 'Drib_NewO_FWD', 'Fld_NewO_FWD', 'Def_NewO_FWD', 'GCA_NewO_FWD', 'GCA90_NewO_FWD', 'PassLive.1_NewO_FWD', 'PassDead.1_NewO_FWD', 'Drib.1_NewO_FWD', 'Sh.1_NewO_FWD', 'Fld.1_NewO_FWD', 'Def.1_NewO_FWD', 'Tkl_NewO_FWD', 'TklW_NewO_FWD', 'Def 3rd_NewO_FWD', 'Mid 3rd_NewO_FWD', 'Att 3rd_NewO_FWD', 'Tkl.1_NewO_FWD', 'Tkl%_NewO_FWD', 'Past_NewO_FWD', 'Succ_NewO_FWD', '%_NewO_FWD', 'Def 3rd.1_NewO_FWD', 'Mid 3rd.1_NewO_FWD', 'Att 3rd.1_NewO_FWD', 'ShSv_NewO_FWD', 'Pass_NewO_FWD', 'Tkl+Int_NewO_FWD', 'Clr_NewO_FWD', 'Err_NewO_FWD', 'Touches_NewO_FWD', 'Def Pen_NewO_FWD', 'Att Pen_NewO_FWD', 'Succ%_NewO_FWD', '#Pl_NewO_FWD', 'Megs_NewO_FWD', 'Carries_NewO_FWD', 'CPA_NewO_FWD', 'Mis_NewO_FWD', 'Dis_NewO_FWD', 'Targ_NewO_FWD', 'Rec_NewO_FWD', 'Rec%_NewO_FWD', 'Prog.1_NewO_FWD', 'Compl_NewO_FWD', 'On-Off.1_NewO_FWD', 'Age_NewO_MID', 'MP_NewO_MID', 'Starts_NewO_MID', 'Min_NewO_MID', '90s_NewO_MID', 'Gls_NewO_MID', 'Ast_NewO_MID', 'G-PK_NewO_MID', 'PK_NewO_MID', 'PKatt_NewO_MID', 'CrdY_NewO_MID', 'CrdR_NewO_MID', 'Gls.1_NewO_MID', 'Ast.1_NewO_MID', 'G+A_NewO_MID', 'G-PK.1_NewO_MID', 'G+A-PK_NewO_MID', 'xG_NewO_MID', 'npxG_NewO_MID', 'xA_NewO_MID', 'npxG+xA_NewO_MID', 'xG.1_NewO_MID', 'xA.1_NewO_MID', 'xG+xA_NewO_MID', 'npxG.1_NewO_MID', 'npxG+xA.1_NewO_MID', 'Sh_NewO_MID', 'SoT_NewO_MID', 'SoT%_NewO_MID', 'Sh/90_NewO_MID', 'SoT/90_NewO_MID', 'G/Sh_NewO_MID', 'G/SoT_NewO_MID', 'Dist_NewO_MID', 'FK_NewO_MID', 'npxG/Sh_NewO_MID', 'G-xG_NewO_MID', 'np:G-xG_NewO_MID', 'Cmp_NewO_MID', 'Att_NewO_MID', 'Cmp%_NewO_MID', 'TotDist_NewO_MID', 'PrgDist_NewO_MID', 'Cmp.1_NewO_MID', 'Att.1_NewO_MID', 'Cmp%.1_NewO_MID', 'Cmp.2_NewO_MID', 'Att.2_NewO_MID', 'Cmp%.2_NewO_MID', 'Cmp.3_NewO_MID', 'Att.3_NewO_MID', 'Cmp%.3_NewO_MID', 'A-xA_NewO_MID', 'KP_NewO_MID', '1/3_NewO_MID', 'PPA_NewO_MID', 'CrsPA_NewO_MID', 'Prog_NewO_MID', 'Live_NewO_MID', 'Dead_NewO_MID', 'TB_NewO_MID', 'Press_NewO_MID', 'Sw_NewO_MID', 'Crs_NewO_MID', 'CK_NewO_MID', 'In_NewO_MID', 'Out_NewO_MID', 'Str_NewO_MID', 'Ground_NewO_MID', 'Low_NewO_MID', 'High_NewO_MID', 'Left_NewO_MID', 'Right_NewO_MID', 'Head_NewO_MID', 'TI_NewO_MID', 'Other_NewO_MID', 'Off_NewO_MID', 'Out.1_NewO_MID', 'Int_NewO_MID', 'Blocks_NewO_MID', 'SCA_NewO_MID', 'SCA90_NewO_MID', 'PassLive_NewO_MID', 'PassDead_NewO_MID', 'Drib_NewO_MID', 'Fld_NewO_MID', 'Def_NewO_MID', 'GCA_NewO_MID', 'GCA90_NewO_MID', 'PassLive.1_NewO_MID', 'PassDead.1_NewO_MID', 'Drib.1_NewO_MID', 'Sh.1_NewO_MID', 'Fld.1_NewO_MID', 'Def.1_NewO_MID', 'Tkl_NewO_MID', 'TklW_NewO_MID', 'Def 3rd_NewO_MID', 'Mid 3rd_NewO_MID', 'Att 3rd_NewO_MID', 'Tkl.1_NewO_MID', 'Tkl%_NewO_MID', 'Past_NewO_MID', 'Succ_NewO_MID', '%_NewO_MID', 'Def 3rd.1_NewO_MID', 'Mid 3rd.1_NewO_MID', 'Att 3rd.1_NewO_MID', 'ShSv_NewO_MID', 'Pass_NewO_MID', 'Tkl+Int_NewO_MID', 'Clr_NewO_MID', 'Err_NewO_MID', 'Touches_NewO_MID', 'Def Pen_NewO_MID', 'Att Pen_NewO_MID', 'Succ%_NewO_MID', '#Pl_NewO_MID', 'Megs_NewO_MID', 'Carries_NewO_MID', 'CPA_NewO_MID', 'Mis_NewO_MID', 'Dis_NewO_MID', 'Targ_NewO_MID', 'Rec_NewO_MID', 'Rec%_NewO_MID', 'Prog.1_NewO_MID', 'Compl_NewO_MID', 'On-Off.1_NewO_MID', 'Age_NewO_DEF', 'MP_NewO_DEF', 'Starts_NewO_DEF', 'Min_NewO_DEF', '90s_NewO_DEF', 'Gls_NewO_DEF', 'Ast_NewO_DEF', 'G-PK_NewO_DEF', 'PK_NewO_DEF', 'PKatt_NewO_DEF', 'CrdY_NewO_DEF', 'CrdR_NewO_DEF', 'Gls.1_NewO_DEF', 'Ast.1_NewO_DEF', 'G+A_NewO_DEF', 'G-PK.1_NewO_DEF', 'G+A-PK_NewO_DEF', 'xG_NewO_DEF', 'npxG_NewO_DEF', 'xA_NewO_DEF', 'npxG+xA_NewO_DEF', 'xG.1_NewO_DEF', 'xA.1_NewO_DEF', 'xG+xA_NewO_DEF', 'npxG.1_NewO_DEF', 'npxG+xA.1_NewO_DEF', 'Cmp_NewO_DEF', 'Att_NewO_DEF', 'Cmp%_NewO_DEF', 'TotDist_NewO_DEF', 'PrgDist_NewO_DEF', 'Cmp.1_NewO_DEF', 'Att.1_NewO_DEF', 'Cmp%.1_NewO_DEF', 'Cmp.2_NewO_DEF', 'Att.2_NewO_DEF', 'Cmp%.2_NewO_DEF', 'Cmp.3_NewO_DEF', 'Att.3_NewO_DEF', 'Cmp%.3_NewO_DEF', 'A-xA_NewO_DEF', 'KP_NewO_DEF', '1/3_NewO_DEF', 'PPA_NewO_DEF', 'CrsPA_NewO_DEF', 'Prog_NewO_DEF', 'Live_NewO_DEF', 'Dead_NewO_DEF', 'TB_NewO_DEF', 'Press_NewO_DEF', 'Sw_NewO_DEF', 'Crs_NewO_DEF', 'CK_NewO_DEF', 'In_NewO_DEF', 'Out_NewO_DEF', 'Str_NewO_DEF', 'Ground_NewO_DEF', 'Low_NewO_DEF', 'High_NewO_DEF', 'Left_NewO_DEF', 'Right_NewO_DEF', 'Head_NewO_DEF', 'TI_NewO_DEF', 'Other_NewO_DEF', 'Off_NewO_DEF', 'Out.1_NewO_DEF', 'Int_NewO_DEF', 'Blocks_NewO_DEF', 'PassLive.1_NewO_DEF', 'PassDead.1_NewO_DEF', 'Drib.1_NewO_DEF', 'Sh.1_NewO_DEF', 'Fld.1_NewO_DEF', 'Def.1_NewO_DEF', 'Tkl_NewO_DEF', 'TklW_NewO_DEF', 'Def 3rd_NewO_DEF', 'Mid 3rd_NewO_DEF', 'Att 3rd_NewO_DEF', 'Tkl.1_NewO_DEF', 'Tkl%_NewO_DEF', 'Past_NewO_DEF', 'Succ_NewO_DEF', '%_NewO_DEF', 'Def 3rd.1_NewO_DEF', 'Mid 3rd.1_NewO_DEF', 'Att 3rd.1_NewO_DEF', 'ShSv_NewO_DEF', 'Pass_NewO_DEF', 'Tkl+Int_NewO_DEF', 'Clr_NewO_DEF', 'Err_NewO_DEF', 'Touches_NewO_DEF', 'Def Pen_NewO_DEF', 'Att Pen_NewO_DEF', 'Succ%_NewO_DEF', '#Pl_NewO_DEF', 'Megs_NewO_DEF', 'Carries_NewO_DEF', 'CPA_NewO_DEF', 'Mis_NewO_DEF', 'Dis_NewO_DEF', 'Targ_NewO_DEF', 'Rec_NewO_DEF', 'Rec%_NewO_DEF', 'Prog.1_NewO_DEF', 'Compl_NewO_DEF', 'On-Off.1_NewO_DEF', 'Matches_NewT_MID', 'Matches_NewT_DEF', 'Matches_NewT_FWD']\n"
          ]
        }
      ]
    },
    {
      "cell_type": "code",
      "source": [
        "#print(df.dtypes.to_string())\n",
        "for column, dtype in df.dtypes.items():\n",
        "    if dtype == \"object\":\n",
        "      print(f\"{column}: {dtype}\")"
      ],
      "metadata": {
        "colab": {
          "base_uri": "https://localhost:8080/"
        },
        "id": "tQNCo2yp8SfJ",
        "outputId": "0aa25ac3-da58-401f-a086-2444bef07771"
      },
      "execution_count": null,
      "outputs": [
        {
          "output_type": "stream",
          "name": "stdout",
          "text": [
            "Player: object\n",
            "Nation_x: object\n",
            "Pos_x: object\n",
            "Squad_x: object\n",
            "Comp_x: object\n",
            "Matches_x: object\n",
            "League Name_x: object\n",
            "League ID_x: object\n",
            "Season_x: object\n",
            "Team Name_x: object\n",
            "Team Country_x: object\n",
            "Player Lower_x: object\n",
            "First Name Lower_x: object\n",
            "Last Name Lower_x: object\n",
            "First Initial Lower_x: object\n",
            "Team Country Lower_x: object\n",
            "Nationality Code_x: object\n",
            "Nationality Cleaned_x: object\n",
            "Position Grouped_x: object\n",
            "Outfielder Goalkeeper_x: object\n",
            "Nation_y: object\n",
            "Pos_y: object\n",
            "Squad_y: object\n",
            "Comp_y: object\n",
            "Matches_y: object\n",
            "League Name_y: object\n",
            "League ID_y: object\n",
            "Season_y: object\n",
            "Team Name_y: object\n",
            "Team Country_y: object\n",
            "Player Lower_y: object\n",
            "First Name Lower_y: object\n",
            "Last Name Lower_y: object\n",
            "First Initial Lower_y: object\n",
            "Team Country Lower_y: object\n",
            "Nationality Code_y: object\n",
            "Nationality Cleaned_y: object\n",
            "Position Grouped_y: object\n",
            "Outfielder Goalkeeper_y: object\n"
          ]
        }
      ]
    },
    {
      "cell_type": "code",
      "source": [
        "print(df['Pos_x'].unique())\n",
        "print(df['Pos_y'].unique())\n",
        "print(df['Position Grouped_x'].unique())\n",
        "print(df['Comp_x'].unique())\n"
      ],
      "metadata": {
        "colab": {
          "base_uri": "https://localhost:8080/"
        },
        "id": "pJ_HUYBt9sHd",
        "outputId": "632e50af-7a9e-45c8-9d13-78b2f896d7cd"
      },
      "execution_count": null,
      "outputs": [
        {
          "output_type": "stream",
          "name": "stdout",
          "text": [
            "['FW,MF' 'DF' 'MF,FW' 'DF,MF' 'MF' 'FW' 'GK' 'MF,DF' 'DF,FW' 'FW,DF']\n",
            "['MF,FW' 'DF' 'FW,MF' 'FW,DF' 'MF' 'DF,MF' 'FW' 'GK' 'DF,FW' 'MF,DF']\n",
            "['Forward' 'Defender' 'Midfielder' 'Goalkeeper']\n",
            "['eng Premier League' 'es La Liga' 'de Bundesliga' 'it Serie A'\n",
            " 'fr Ligue 1']\n"
          ]
        }
      ]
    },
    {
      "cell_type": "code",
      "source": [
        "object_columns = df.select_dtypes(include=[\"object\"])\n",
        "print(object_columns)"
      ],
      "metadata": {
        "id": "YI1_7t8Z-wEZ"
      },
      "execution_count": null,
      "outputs": []
    },
    {
      "cell_type": "code",
      "source": [
        "object_columns = [\n",
        "    \"Player\",\n",
        "    \"Nation_x\",\n",
        "    #\"Pos_x\",\n",
        "    \"Squad_x\",\n",
        "    #\"Comp_x\",\n",
        "    \"Matches_x\",\n",
        "    \"League Name_x\",\n",
        "    \"League ID_x\",\n",
        "    \"Season_x\",\n",
        "    \"Team Name_x\",\n",
        "    \"Team Country_x\",\n",
        "    \"Player Lower_x\",\n",
        "    \"First Name Lower_x\",\n",
        "    \"Last Name Lower_x\",\n",
        "    \"First Initial Lower_x\",\n",
        "    \"Team Country Lower_x\",\n",
        "    \"Nationality Code_x\",\n",
        "    \"Nationality Cleaned_x\",\n",
        "    \"Position Grouped_x\",\n",
        "    \"Outfielder Goalkeeper_x\",\n",
        "    \"Nation_y\",\n",
        "    #\"Pos_y\",\n",
        "    \"Squad_y\",\n",
        "    #\"Comp_y\",\n",
        "    \"Matches_y\",\n",
        "    \"League Name_y\",\n",
        "    \"League ID_y\",\n",
        "    \"Season_y\",\n",
        "    \"Team Name_y\",\n",
        "    \"Team Country_y\",\n",
        "    \"Player Lower_y\",\n",
        "    \"First Name Lower_y\",\n",
        "    \"Last Name Lower_y\",\n",
        "    \"First Initial Lower_y\",\n",
        "    \"Team Country Lower_y\",\n",
        "    \"Nationality Code_y\",\n",
        "    \"Nationality Cleaned_y\",\n",
        "    \"Position Grouped_y\",\n",
        "    \"Outfielder Goalkeeper_y\"\n",
        "]\n",
        "\n",
        "df = df.drop(columns=object_columns) #already dropped\n",
        "print(df.shape)\n",
        "print(df.dtypes.to_string())\n",
        "\n",
        "object_columns = df.select_dtypes(include=[\"object\"])\n",
        "print(object_columns)"
      ],
      "metadata": {
        "id": "zpzyOC3mAIXr"
      },
      "execution_count": null,
      "outputs": []
    },
    {
      "cell_type": "code",
      "source": [
        "print(df.shape)\n",
        "pd.set_option('display.max_rows', None)\n",
        "print(df.dtypes)"
      ],
      "metadata": {
        "id": "Kikr_M_mGAfJ"
      },
      "execution_count": null,
      "outputs": []
    },
    {
      "cell_type": "code",
      "source": [
        "df.to_csv('transferredPlayers-processed1780f.csv', index=True)"
      ],
      "metadata": {
        "id": "0H1h0ukpGvtA"
      },
      "execution_count": null,
      "outputs": []
    }
  ]
}